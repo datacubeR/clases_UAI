{
 "cells": [
  {
   "cell_type": "code",
   "execution_count": 1,
   "metadata": {},
   "outputs": [
    {
     "data": {
      "text/html": [
       "<div>\n",
       "<style scoped>\n",
       "    .dataframe tbody tr th:only-of-type {\n",
       "        vertical-align: middle;\n",
       "    }\n",
       "\n",
       "    .dataframe tbody tr th {\n",
       "        vertical-align: top;\n",
       "    }\n",
       "\n",
       "    .dataframe thead th {\n",
       "        text-align: right;\n",
       "    }\n",
       "</style>\n",
       "<table border=\"1\" class=\"dataframe\">\n",
       "  <thead>\n",
       "    <tr style=\"text-align: right;\">\n",
       "      <th></th>\n",
       "      <th>x</th>\n",
       "      <th>y</th>\n",
       "    </tr>\n",
       "  </thead>\n",
       "  <tbody>\n",
       "    <tr>\n",
       "      <th>0</th>\n",
       "      <td>0</td>\n",
       "      <td>1</td>\n",
       "    </tr>\n",
       "    <tr>\n",
       "      <th>1</th>\n",
       "      <td>0</td>\n",
       "      <td>0</td>\n",
       "    </tr>\n",
       "    <tr>\n",
       "      <th>2</th>\n",
       "      <td>1</td>\n",
       "      <td>0</td>\n",
       "    </tr>\n",
       "    <tr>\n",
       "      <th>3</th>\n",
       "      <td>4</td>\n",
       "      <td>4</td>\n",
       "    </tr>\n",
       "    <tr>\n",
       "      <th>4</th>\n",
       "      <td>5</td>\n",
       "      <td>4</td>\n",
       "    </tr>\n",
       "    <tr>\n",
       "      <th>5</th>\n",
       "      <td>6</td>\n",
       "      <td>6</td>\n",
       "    </tr>\n",
       "  </tbody>\n",
       "</table>\n",
       "</div>"
      ],
      "text/plain": [
       "   x  y\n",
       "0  0  1\n",
       "1  0  0\n",
       "2  1  0\n",
       "3  4  4\n",
       "4  5  4\n",
       "5  6  6"
      ]
     },
     "metadata": {},
     "output_type": "display_data"
    },
    {
     "data": {
      "text/html": [
       "<div>\n",
       "<style scoped>\n",
       "    .dataframe tbody tr th:only-of-type {\n",
       "        vertical-align: middle;\n",
       "    }\n",
       "\n",
       "    .dataframe tbody tr th {\n",
       "        vertical-align: top;\n",
       "    }\n",
       "\n",
       "    .dataframe thead th {\n",
       "        text-align: right;\n",
       "    }\n",
       "</style>\n",
       "<table border=\"1\" class=\"dataframe\">\n",
       "  <thead>\n",
       "    <tr style=\"text-align: right;\">\n",
       "      <th></th>\n",
       "      <th>0</th>\n",
       "      <th>1</th>\n",
       "      <th>2</th>\n",
       "      <th>3</th>\n",
       "      <th>4</th>\n",
       "      <th>5</th>\n",
       "    </tr>\n",
       "  </thead>\n",
       "  <tbody>\n",
       "    <tr>\n",
       "      <th>0</th>\n",
       "      <td>0.000000</td>\n",
       "      <td>1.000000</td>\n",
       "      <td>1.414214</td>\n",
       "      <td>5.000000</td>\n",
       "      <td>5.830952</td>\n",
       "      <td>7.810250</td>\n",
       "    </tr>\n",
       "    <tr>\n",
       "      <th>1</th>\n",
       "      <td>1.000000</td>\n",
       "      <td>0.000000</td>\n",
       "      <td>1.000000</td>\n",
       "      <td>5.656854</td>\n",
       "      <td>6.403124</td>\n",
       "      <td>8.485281</td>\n",
       "    </tr>\n",
       "    <tr>\n",
       "      <th>2</th>\n",
       "      <td>1.414214</td>\n",
       "      <td>1.000000</td>\n",
       "      <td>0.000000</td>\n",
       "      <td>5.000000</td>\n",
       "      <td>5.656854</td>\n",
       "      <td>7.810250</td>\n",
       "    </tr>\n",
       "    <tr>\n",
       "      <th>3</th>\n",
       "      <td>5.000000</td>\n",
       "      <td>5.656854</td>\n",
       "      <td>5.000000</td>\n",
       "      <td>0.000000</td>\n",
       "      <td>1.000000</td>\n",
       "      <td>2.828427</td>\n",
       "    </tr>\n",
       "    <tr>\n",
       "      <th>4</th>\n",
       "      <td>5.830952</td>\n",
       "      <td>6.403124</td>\n",
       "      <td>5.656854</td>\n",
       "      <td>1.000000</td>\n",
       "      <td>0.000000</td>\n",
       "      <td>2.236068</td>\n",
       "    </tr>\n",
       "    <tr>\n",
       "      <th>5</th>\n",
       "      <td>7.810250</td>\n",
       "      <td>8.485281</td>\n",
       "      <td>7.810250</td>\n",
       "      <td>2.828427</td>\n",
       "      <td>2.236068</td>\n",
       "      <td>0.000000</td>\n",
       "    </tr>\n",
       "  </tbody>\n",
       "</table>\n",
       "</div>"
      ],
      "text/plain": [
       "          0         1         2         3         4         5\n",
       "0  0.000000  1.000000  1.414214  5.000000  5.830952  7.810250\n",
       "1  1.000000  0.000000  1.000000  5.656854  6.403124  8.485281\n",
       "2  1.414214  1.000000  0.000000  5.000000  5.656854  7.810250\n",
       "3  5.000000  5.656854  5.000000  0.000000  1.000000  2.828427\n",
       "4  5.830952  6.403124  5.656854  1.000000  0.000000  2.236068\n",
       "5  7.810250  8.485281  7.810250  2.828427  2.236068  0.000000"
      ]
     },
     "execution_count": 1,
     "metadata": {},
     "output_type": "execute_result"
    }
   ],
   "source": [
    "import pandas as pd\n",
    "from scipy.spatial import distance_matrix\n",
    "\n",
    "df = pd.DataFrame(dict(x=[0, 0, 1, 4, 5, 6], y=[1, 0, 0, 4, 4, 6]))\n",
    "display(df)\n",
    "d_matrix = pd.DataFrame(distance_matrix(df, df))\n",
    "d_matrix"
   ]
  },
  {
   "cell_type": "markdown",
   "metadata": {},
   "source": [
    "## K-Means"
   ]
  },
  {
   "cell_type": "code",
   "execution_count": 2,
   "metadata": {},
   "outputs": [],
   "source": [
    "centroides = pd.DataFrame(dict(x=[1, 5], y=[1, 6]))\n",
    "centroides_2 = pd.DataFrame(dict(x=[1 / 3, 5], y=[1 / 3, 14 / 3]))"
   ]
  },
  {
   "cell_type": "code",
   "execution_count": 3,
   "metadata": {},
   "outputs": [
    {
     "data": {
      "image/png": "[encoded data removed]",
      "text/plain": [
       "<Figure size 640x480 with 1 Axes>"
      ]
     },
     "metadata": {},
     "output_type": "display_data"
    }
   ],
   "source": [
    "import matplotlib.pyplot as plt\n",
    "\n",
    "plt.scatter(df.x, df.y)\n",
    "plt.scatter(centroides.x, centroides.y, c=\"red\")\n",
    "plt.scatter(centroides_2.x, centroides_2.y, c=\"green\")\n",
    "plt.title(\"Centroides Iter 1: Rojo, Iter 2: Verde\")\n",
    "plt.tight_layout()"
   ]
  },
  {
   "cell_type": "code",
   "execution_count": 4,
   "metadata": {},
   "outputs": [
    {
     "data": {
      "text/html": [
       "<div>\n",
       "<style scoped>\n",
       "    .dataframe tbody tr th:only-of-type {\n",
       "        vertical-align: middle;\n",
       "    }\n",
       "\n",
       "    .dataframe tbody tr th {\n",
       "        vertical-align: top;\n",
       "    }\n",
       "\n",
       "    .dataframe thead th {\n",
       "        text-align: right;\n",
       "    }\n",
       "</style>\n",
       "<table border=\"1\" class=\"dataframe\">\n",
       "  <thead>\n",
       "    <tr style=\"text-align: right;\">\n",
       "      <th></th>\n",
       "      <th>0</th>\n",
       "      <th>1</th>\n",
       "      <th>2</th>\n",
       "      <th>3</th>\n",
       "      <th>4</th>\n",
       "      <th>5</th>\n",
       "    </tr>\n",
       "  </thead>\n",
       "  <tbody>\n",
       "    <tr>\n",
       "      <th>0</th>\n",
       "      <td>1.000000</td>\n",
       "      <td>1.414214</td>\n",
       "      <td>1.000000</td>\n",
       "      <td>4.242641</td>\n",
       "      <td>5.0</td>\n",
       "      <td>7.071068</td>\n",
       "    </tr>\n",
       "    <tr>\n",
       "      <th>1</th>\n",
       "      <td>7.071068</td>\n",
       "      <td>7.810250</td>\n",
       "      <td>7.211103</td>\n",
       "      <td>2.236068</td>\n",
       "      <td>2.0</td>\n",
       "      <td>1.000000</td>\n",
       "    </tr>\n",
       "  </tbody>\n",
       "</table>\n",
       "</div>"
      ],
      "text/plain": [
       "          0         1         2         3    4         5\n",
       "0  1.000000  1.414214  1.000000  4.242641  5.0  7.071068\n",
       "1  7.071068  7.810250  7.211103  2.236068  2.0  1.000000"
      ]
     },
     "execution_count": 4,
     "metadata": {},
     "output_type": "execute_result"
    }
   ],
   "source": [
    "## Distancia Centroides 1 a Puntos\n",
    "pd.DataFrame(distance_matrix(centroides, df))"
   ]
  },
  {
   "cell_type": "code",
   "execution_count": 5,
   "metadata": {},
   "outputs": [
    {
     "data": {
      "text/html": [
       "<div>\n",
       "<style scoped>\n",
       "    .dataframe tbody tr th:only-of-type {\n",
       "        vertical-align: middle;\n",
       "    }\n",
       "\n",
       "    .dataframe tbody tr th {\n",
       "        vertical-align: top;\n",
       "    }\n",
       "\n",
       "    .dataframe thead th {\n",
       "        text-align: right;\n",
       "    }\n",
       "</style>\n",
       "<table border=\"1\" class=\"dataframe\">\n",
       "  <thead>\n",
       "    <tr style=\"text-align: right;\">\n",
       "      <th></th>\n",
       "      <th>0</th>\n",
       "      <th>1</th>\n",
       "      <th>2</th>\n",
       "      <th>3</th>\n",
       "      <th>4</th>\n",
       "      <th>5</th>\n",
       "    </tr>\n",
       "  </thead>\n",
       "  <tbody>\n",
       "    <tr>\n",
       "      <th>0</th>\n",
       "      <td>0.745356</td>\n",
       "      <td>0.471405</td>\n",
       "      <td>0.745356</td>\n",
       "      <td>5.18545</td>\n",
       "      <td>5.934831</td>\n",
       "      <td>8.013877</td>\n",
       "    </tr>\n",
       "    <tr>\n",
       "      <th>1</th>\n",
       "      <td>6.200358</td>\n",
       "      <td>6.839428</td>\n",
       "      <td>6.146363</td>\n",
       "      <td>1.20185</td>\n",
       "      <td>0.666667</td>\n",
       "      <td>1.666667</td>\n",
       "    </tr>\n",
       "  </tbody>\n",
       "</table>\n",
       "</div>"
      ],
      "text/plain": [
       "          0         1         2        3         4         5\n",
       "0  0.745356  0.471405  0.745356  5.18545  5.934831  8.013877\n",
       "1  6.200358  6.839428  6.146363  1.20185  0.666667  1.666667"
      ]
     },
     "execution_count": 5,
     "metadata": {},
     "output_type": "execute_result"
    }
   ],
   "source": [
    "## Distancia Centroides 2 a Puntos\n",
    "pd.DataFrame(distance_matrix(centroides_2, df))"
   ]
  },
  {
   "cell_type": "markdown",
   "metadata": {},
   "source": [
    "## DBSCAN"
   ]
  },
  {
   "cell_type": "code",
   "execution_count": 6,
   "metadata": {},
   "outputs": [
    {
     "data": {
      "text/plain": [
       "array([ 0,  0,  0,  1,  1, -1])"
      ]
     },
     "execution_count": 6,
     "metadata": {},
     "output_type": "execute_result"
    }
   ],
   "source": [
    "from sklearn.cluster import DBSCAN\n",
    "\n",
    "dbs = DBSCAN(min_samples=2, eps=2)\n",
    "dbs.fit_predict(df)"
   ]
  },
  {
   "cell_type": "code",
   "execution_count": 7,
   "metadata": {},
   "outputs": [
    {
     "data": {
      "text/plain": [
       "array([0, 0, 0, 1, 1, 2])"
      ]
     },
     "execution_count": 7,
     "metadata": {},
     "output_type": "execute_result"
    }
   ],
   "source": [
    "from sklearn.cluster import DBSCAN\n",
    "\n",
    "dbs = DBSCAN(min_samples=1, eps=1)\n",
    "dbs.fit_predict(df)"
   ]
  },
  {
   "cell_type": "markdown",
   "metadata": {},
   "source": [
    "## Jerarquico Linkage Complete"
   ]
  },
  {
   "cell_type": "code",
   "execution_count": 8,
   "metadata": {},
   "outputs": [
    {
     "data": {
      "image/png": "[encoded data removed]",
      "text/plain": [
       "<Figure size 1000x500 with 1 Axes>"
      ]
     },
     "metadata": {},
     "output_type": "display_data"
    }
   ],
   "source": [
    "from scipy.cluster.hierarchy import dendrogram, linkage\n",
    "\n",
    "\n",
    "def plot_dendogram(X, link=\"ward\"):\n",
    "    Z = linkage(X, method=link)\n",
    "\n",
    "    plt.figure(figsize=(10, 5))\n",
    "    plt.title(f\"Clustering Utilizando Iris, Método: {link}\")\n",
    "    plt.xlabel(\"Iris Samples\")\n",
    "    plt.ylabel(\"Distance\")\n",
    "    dendrogram(Z, leaf_rotation=90.0, leaf_font_size=8.0)\n",
    "    plt.show()\n",
    "\n",
    "\n",
    "plot_dendogram(df, link=\"complete\")"
   ]
  },
  {
   "cell_type": "markdown",
   "metadata": {},
   "source": [
    "## Cohesión y Separación"
   ]
  },
  {
   "cell_type": "code",
   "execution_count": 9,
   "metadata": {},
   "outputs": [
    {
     "data": {
      "text/plain": [
       "(6.0, 60.833333333333336)"
      ]
     },
     "execution_count": 9,
     "metadata": {},
     "output_type": "execute_result"
    }
   ],
   "source": [
    "import numpy as np\n",
    "\n",
    "\n",
    "def compute_clustering_metrics(X, labels, centers, is_df=True):\n",
    "    if is_df:\n",
    "        X = X.to_numpy()\n",
    "    sse = np.square(X - centers[labels]).sum()\n",
    "    count = np.bincount(labels)\n",
    "    ssb = (\n",
    "        np.square(X.mean(axis=0) - centers) * count.reshape(-1, 1)\n",
    "    ).sum()\n",
    "    return sse, ssb\n",
    "\n",
    "\n",
    "labels = np.array([0, 0, 0, 1, 1, 1])\n",
    "centers = centroides_2.values\n",
    "sse, ssb = compute_clustering_metrics(df, labels, centers, is_df=True)\n",
    "sse, ssb"
   ]
  },
  {
   "cell_type": "markdown",
   "metadata": {},
   "source": [
    "## Silhouette"
   ]
  },
  {
   "cell_type": "code",
   "execution_count": 10,
   "metadata": {},
   "outputs": [
    {
     "data": {
      "text/plain": [
       "0.7517302154855591"
      ]
     },
     "execution_count": 10,
     "metadata": {},
     "output_type": "execute_result"
    }
   ],
   "source": [
    "def silhouette_score_m(d_matrix, clust_labels):\n",
    "    n_clusters = len(np.unique(clust_labels))\n",
    "    clusters = clust_labels\n",
    "    idx_cohesion = clusters == np.arange(n_clusters).reshape(-1, 1)\n",
    "    a = np.zeros_like(clusters, dtype=np.float32)\n",
    "    bj = np.zeros((len(clusters), n_clusters))\n",
    "    for i, (row, c) in enumerate(zip(d_matrix, clusters)):\n",
    "        val = row[idx_cohesion[c] & (row != 0)]\n",
    "        a[i] = val.mean() if len(val) else 0\n",
    "        for cl in range(n_clusters):\n",
    "            if cl != c:\n",
    "                val = row[idx_cohesion[cl]]\n",
    "                bj[i, cl] = val.mean() if len(val) else 0\n",
    "\n",
    "    b = np.sort(bj, axis=1)[:, 1]\n",
    "    return a, b, bj, n_clusters\n",
    "\n",
    "\n",
    "d_matrix = distance_matrix(df, df)\n",
    "a, b, bj, n_clusters = silhouette_score_m(d_matrix, labels)\n",
    "\n",
    "\n",
    "def create_table_for_silhouette(a, b, bj, n_clusters):\n",
    "    s_score = (b - a) / np.max((a, b), axis=0)\n",
    "    columns = (\n",
    "        [\"a\"] + [\"b\" + str(i) for i in range(n_clusters)] + [\"b\", \"s\"]\n",
    "    )\n",
    "\n",
    "    s_table = pd.DataFrame(\n",
    "        np.hstack(\n",
    "            [\n",
    "                a.reshape(-1, 1),\n",
    "                bj,\n",
    "                b.reshape(-1, 1),\n",
    "                s_score.reshape(-1, 1),\n",
    "            ]\n",
    "        ),\n",
    "        columns=columns,\n",
    "    )\n",
    "    return s_table\n",
    "\n",
    "\n",
    "s_score_table = create_table_for_silhouette(a, b, bj, n_clusters)\n",
    "s_score_table[\"s\"].mean()"
   ]
  },
  {
   "cell_type": "code",
   "execution_count": 11,
   "metadata": {},
   "outputs": [
    {
     "data": {
      "text/html": [
       "<div>\n",
       "<style scoped>\n",
       "    .dataframe tbody tr th:only-of-type {\n",
       "        vertical-align: middle;\n",
       "    }\n",
       "\n",
       "    .dataframe tbody tr th {\n",
       "        vertical-align: top;\n",
       "    }\n",
       "\n",
       "    .dataframe thead th {\n",
       "        text-align: right;\n",
       "    }\n",
       "</style>\n",
       "<table border=\"1\" class=\"dataframe\">\n",
       "  <thead>\n",
       "    <tr style=\"text-align: right;\">\n",
       "      <th></th>\n",
       "      <th>a</th>\n",
       "      <th>b0</th>\n",
       "      <th>b1</th>\n",
       "      <th>b</th>\n",
       "      <th>s</th>\n",
       "    </tr>\n",
       "  </thead>\n",
       "  <tbody>\n",
       "    <tr>\n",
       "      <th>0</th>\n",
       "      <td>1.207107</td>\n",
       "      <td>0.000000</td>\n",
       "      <td>6.213734</td>\n",
       "      <td>6.213734</td>\n",
       "      <td>0.805736</td>\n",
       "    </tr>\n",
       "    <tr>\n",
       "      <th>1</th>\n",
       "      <td>1.000000</td>\n",
       "      <td>0.000000</td>\n",
       "      <td>6.848420</td>\n",
       "      <td>6.848420</td>\n",
       "      <td>0.853981</td>\n",
       "    </tr>\n",
       "    <tr>\n",
       "      <th>2</th>\n",
       "      <td>1.207107</td>\n",
       "      <td>0.000000</td>\n",
       "      <td>6.155701</td>\n",
       "      <td>6.155701</td>\n",
       "      <td>0.803904</td>\n",
       "    </tr>\n",
       "    <tr>\n",
       "      <th>3</th>\n",
       "      <td>1.914214</td>\n",
       "      <td>5.218951</td>\n",
       "      <td>0.000000</td>\n",
       "      <td>5.218951</td>\n",
       "      <td>0.633219</td>\n",
       "    </tr>\n",
       "    <tr>\n",
       "      <th>4</th>\n",
       "      <td>1.618034</td>\n",
       "      <td>5.963643</td>\n",
       "      <td>0.000000</td>\n",
       "      <td>5.963643</td>\n",
       "      <td>0.728684</td>\n",
       "    </tr>\n",
       "    <tr>\n",
       "      <th>5</th>\n",
       "      <td>2.532248</td>\n",
       "      <td>8.035260</td>\n",
       "      <td>0.000000</td>\n",
       "      <td>8.035260</td>\n",
       "      <td>0.684858</td>\n",
       "    </tr>\n",
       "  </tbody>\n",
       "</table>\n",
       "</div>"
      ],
      "text/plain": [
       "          a        b0        b1         b         s\n",
       "0  1.207107  0.000000  6.213734  6.213734  0.805736\n",
       "1  1.000000  0.000000  6.848420  6.848420  0.853981\n",
       "2  1.207107  0.000000  6.155701  6.155701  0.803904\n",
       "3  1.914214  5.218951  0.000000  5.218951  0.633219\n",
       "4  1.618034  5.963643  0.000000  5.963643  0.728684\n",
       "5  2.532248  8.035260  0.000000  8.035260  0.684858"
      ]
     },
     "execution_count": 11,
     "metadata": {},
     "output_type": "execute_result"
    }
   ],
   "source": [
    "s_score_table"
   ]
  }
 ],
 "metadata": {
  "kernelspec": {
   "display_name": "base",
   "language": "python",
   "name": "python3"
  },
  "language_info": {
   "codemirror_mode": {
    "name": "ipython",
    "version": 3
   },
   "file_extension": ".py",
   "mimetype": "text/x-python",
   "name": "python",
   "nbconvert_exporter": "python",
   "pygments_lexer": "ipython3",
   "version": "3.9.16"
  }
 },
 "nbformat": 4,
 "nbformat_minor": 2
}
