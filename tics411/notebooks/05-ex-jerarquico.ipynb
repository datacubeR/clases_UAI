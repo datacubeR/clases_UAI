{
 "cells": [
  {
   "cell_type": "markdown",
   "metadata": {},
   "source": [
    "## Ejemplo Clustering Aglomerativo"
   ]
  },
  {
   "cell_type": "code",
   "execution_count": null,
   "metadata": {},
   "outputs": [],
   "source": [
    "import seaborn as sns\n",
    "from sklearn.preprocessing import StandardScaler\n",
    "from sklearn import set_config\n",
    "\n",
    "set_config(transform_output=\"pandas\")\n",
    "\n",
    "df = sns.load_dataset(\"iris\")\n",
    "df"
   ]
  },
  {
   "cell_type": "code",
   "execution_count": null,
   "metadata": {},
   "outputs": [],
   "source": [
    "X = df.drop(columns=\"species\")\n",
    "sc = StandardScaler()\n",
    "X_sc = sc.fit_transform(X)\n",
    "X_sc"
   ]
  },
  {
   "cell_type": "code",
   "execution_count": null,
   "metadata": {},
   "outputs": [],
   "source": [
    "import matplotlib.pyplot as plt\n",
    "from sklearn.decomposition import PCA\n",
    "\n",
    "pca = PCA(n_components=2)\n",
    "pca_iris = pca.fit_transform(X_sc)\n",
    "\n",
    "\n",
    "def pca_viz(pca, color=None, title=\"\"):\n",
    "    plt.scatter(pca_iris[\"pca0\"], pca_iris[\"pca1\"], c=color)\n",
    "    plt.title(title)\n",
    "    plt.show()\n",
    "\n",
    "\n",
    "pca_viz(pca_iris, title=\"Visualización de Iris en 2 dimensiones\")"
   ]
  },
  {
   "cell_type": "code",
   "execution_count": null,
   "metadata": {},
   "outputs": [],
   "source": [
    "from scipy.cluster.hierarchy import dendrogram, linkage\n",
    "\n",
    "\n",
    "def plot_dendogram(X, link=\"ward\"):\n",
    "    Z = linkage(X, method=link)\n",
    "\n",
    "    plt.figure(figsize=(10, 5))\n",
    "    plt.title(f\"Clustering Utilizando Iris, Método: {link}\")\n",
    "    plt.xlabel(\"Iris Samples\")\n",
    "    plt.ylabel(\"Distance\")\n",
    "    dendrogram(Z, leaf_rotation=90.0, leaf_font_size=8.0)\n",
    "    plt.show()\n",
    "\n",
    "\n",
    "link_list = [\"single\", \"complete\", \"average\", \"ward\"]\n",
    "for l in link_list:\n",
    "    plot_dendogram(X_sc, link=l)"
   ]
  },
  {
   "cell_type": "code",
   "execution_count": null,
   "metadata": {},
   "outputs": [],
   "source": [
    "from sklearn.cluster import AgglomerativeClustering\n",
    "\n",
    "agc = AgglomerativeClustering(\n",
    "    n_clusters=3, metric=\"euclidean\", linkage=\"average\"\n",
    ")\n",
    "labels = agc.fit_predict(X_sc)\n",
    "pca_viz(\n",
    "    pca_iris,\n",
    "    color=labels,\n",
    "    title=\"Clustering Iris. Método Average, 3 Clusters.\",\n",
    ")\n",
    "\n",
    "## Transformarlo en función para probar muchas combinaciones..."
   ]
  }
 ],
 "metadata": {
  "kernelspec": {
   "display_name": "base",
   "language": "python",
   "name": "python3"
  },
  "language_info": {
   "codemirror_mode": {
    "name": "ipython",
    "version": 3
   },
   "file_extension": ".py",
   "mimetype": "text/x-python",
   "name": "python",
   "nbconvert_exporter": "python",
   "pygments_lexer": "ipython3",
   "version": "3.9.16"
  }
 },
 "nbformat": 4,
 "nbformat_minor": 2
}
