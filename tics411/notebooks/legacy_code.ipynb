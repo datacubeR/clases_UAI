{
 "cells": [
  {
   "cell_type": "code",
   "execution_count": null,
   "metadata": {},
   "outputs": [],
   "source": [
    "## Otra forma de calcular lo mismo pero mucho más ineficiente. No usar!!\n",
    "# def compute_ideal_sim(labels):\n",
    "#     labels = pd.Series(labels, name=\"labels\")\n",
    "#     labels_df = labels.to_frame().reset_index()\n",
    "#     return (\n",
    "#         labels_df.merge(labels_df, how=\"outer\", on=\"labels\")\n",
    "#         .add(1)\n",
    "#         .set_index([\"index_x\", \"index_y\"])\n",
    "#         .unstack(level=1)\n",
    "#         .fillna(0)\n",
    "#         .astype(bool)\n",
    "#         .astype(int)\n",
    "#     )\n",
    "\n",
    "\n",
    "# ideal_sim_pd = compute_ideal_sim(labels).to_numpy()\n",
    "\n",
    "\n",
    "## Es para demostrar que dan lo mismo.\n",
    "# np.array_equal(ideal_sim_np, ideal_sim_pd)"
   ]
  }
 ],
 "metadata": {
  "language_info": {
   "name": "python"
  }
 },
 "nbformat": 4,
 "nbformat_minor": 2
}
