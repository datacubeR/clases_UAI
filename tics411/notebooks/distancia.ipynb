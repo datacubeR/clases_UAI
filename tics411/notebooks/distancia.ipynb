{
 "cells": [
  {
   "cell_type": "markdown",
   "metadata": {},
   "source": [
    "![](distancia.png)"
   ]
  },
  {
   "cell_type": "code",
   "execution_count": 1,
   "metadata": {},
   "outputs": [
    {
     "data": {
      "text/html": [
       "<div>\n",
       "<style scoped>\n",
       "    .dataframe tbody tr th:only-of-type {\n",
       "        vertical-align: middle;\n",
       "    }\n",
       "\n",
       "    .dataframe tbody tr th {\n",
       "        vertical-align: top;\n",
       "    }\n",
       "\n",
       "    .dataframe thead th {\n",
       "        text-align: right;\n",
       "    }\n",
       "</style>\n",
       "<table border=\"1\" class=\"dataframe\">\n",
       "  <thead>\n",
       "    <tr style=\"text-align: right;\">\n",
       "      <th></th>\n",
       "      <th>x</th>\n",
       "      <th>y</th>\n",
       "    </tr>\n",
       "  </thead>\n",
       "  <tbody>\n",
       "    <tr>\n",
       "      <th>1</th>\n",
       "      <td>0</td>\n",
       "      <td>2</td>\n",
       "    </tr>\n",
       "    <tr>\n",
       "      <th>2</th>\n",
       "      <td>2</td>\n",
       "      <td>0</td>\n",
       "    </tr>\n",
       "    <tr>\n",
       "      <th>3</th>\n",
       "      <td>3</td>\n",
       "      <td>1</td>\n",
       "    </tr>\n",
       "    <tr>\n",
       "      <th>4</th>\n",
       "      <td>5</td>\n",
       "      <td>1</td>\n",
       "    </tr>\n",
       "  </tbody>\n",
       "</table>\n",
       "</div>"
      ],
      "text/plain": [
       "   x  y\n",
       "1  0  2\n",
       "2  2  0\n",
       "3  3  1\n",
       "4  5  1"
      ]
     },
     "execution_count": 1,
     "metadata": {},
     "output_type": "execute_result"
    }
   ],
   "source": [
    "import pandas as pd\n",
    "import numpy as np\n",
    "\n",
    "df = pd.DataFrame(dict(x=[0, 2, 3, 5], y=[2, 0, 1, 1]))\n",
    "df.index = [1, 2, 3, 4]\n",
    "df"
   ]
  },
  {
   "cell_type": "code",
   "execution_count": 2,
   "metadata": {},
   "outputs": [
    {
     "data": {
      "text/plain": [
       "array([[0., 0., 0., 0.],\n",
       "       [0., 0., 0., 0.],\n",
       "       [0., 0., 0., 0.],\n",
       "       [0., 0., 0., 0.]])"
      ]
     },
     "execution_count": 2,
     "metadata": {},
     "output_type": "execute_result"
    }
   ],
   "source": [
    "np.zeros((4, 4))"
   ]
  },
  {
   "cell_type": "code",
   "execution_count": 3,
   "metadata": {},
   "outputs": [],
   "source": [
    "def distancia_l1(p, q):\n",
    "    x1 = p[\"x\"]\n",
    "    x2 = q[\"x\"]\n",
    "    y1 = p[\"y\"]\n",
    "    y2 = q[\"y\"]\n",
    "\n",
    "    return np.abs(x1 - x2) + np.abs(y1 - y2)\n",
    "\n",
    "\n",
    "def distancia_l2(p, q):\n",
    "    x1 = p[\"x\"]\n",
    "    x2 = q[\"x\"]\n",
    "    y1 = p[\"y\"]\n",
    "    y2 = q[\"y\"]\n",
    "    return np.sqrt((x1 - x2) ** 2 + (y1 - y2) ** 2)\n",
    "\n",
    "\n",
    "def distancia_linf(p, q):\n",
    "    x1 = p[\"x\"]\n",
    "    x2 = q[\"x\"]\n",
    "    y1 = p[\"y\"]\n",
    "    y2 = q[\"y\"]\n",
    "    d_x = np.abs(x1 - x2)\n",
    "    d_y = np.abs(y1 - y2)\n",
    "    return np.max([d_x, d_y])\n",
    "\n",
    "\n",
    "def calculate_matrix(distance, n_puntos):\n",
    "    m = np.zeros((n_puntos, n_puntos))\n",
    "    for i in range(n_puntos):\n",
    "        for j in range(n_puntos):\n",
    "            p = df.iloc[i]\n",
    "            q = df.iloc[j]\n",
    "            m[i, j] = distance(p, q)\n",
    "\n",
    "    return m\n",
    "\n",
    "\n",
    "m_m = calculate_matrix(distancia_l1, 4)\n",
    "m_e = calculate_matrix(distancia_l2, 4)\n",
    "m_c = calculate_matrix(distancia_linf, 4)"
   ]
  },
  {
   "cell_type": "code",
   "execution_count": 4,
   "metadata": {},
   "outputs": [
    {
     "data": {
      "text/plain": [
       "array([[0., 4., 4., 6.],\n",
       "       [4., 0., 2., 4.],\n",
       "       [4., 2., 0., 2.],\n",
       "       [6., 4., 2., 0.]])"
      ]
     },
     "execution_count": 4,
     "metadata": {},
     "output_type": "execute_result"
    }
   ],
   "source": [
    "m_m"
   ]
  },
  {
   "cell_type": "code",
   "execution_count": 5,
   "metadata": {},
   "outputs": [
    {
     "data": {
      "text/plain": [
       "array([[0.        , 2.82842712, 3.16227766, 5.09901951],\n",
       "       [2.82842712, 0.        , 1.41421356, 3.16227766],\n",
       "       [3.16227766, 1.41421356, 0.        , 2.        ],\n",
       "       [5.09901951, 3.16227766, 2.        , 0.        ]])"
      ]
     },
     "execution_count": 5,
     "metadata": {},
     "output_type": "execute_result"
    }
   ],
   "source": [
    "m_e"
   ]
  },
  {
   "cell_type": "code",
   "execution_count": 6,
   "metadata": {},
   "outputs": [
    {
     "data": {
      "text/plain": [
       "array([[0., 2., 3., 5.],\n",
       "       [2., 0., 1., 3.],\n",
       "       [3., 1., 0., 2.],\n",
       "       [5., 3., 2., 0.]])"
      ]
     },
     "execution_count": 6,
     "metadata": {},
     "output_type": "execute_result"
    }
   ],
   "source": [
    "m_c"
   ]
  },
  {
   "cell_type": "markdown",
   "metadata": {},
   "source": [
    "![](distancia.png)"
   ]
  },
  {
   "cell_type": "code",
   "execution_count": 7,
   "metadata": {},
   "outputs": [
    {
     "data": {
      "text/plain": [
       "3.5"
      ]
     },
     "execution_count": 7,
     "metadata": {},
     "output_type": "execute_result"
    }
   ],
   "source": [
    "a = pd.Series(\n",
    "    [1.0, 1.5, 2.0, 2.5, 3.0, 3.5, 4.0, 4.5, 5.0, 5.5, 6.0, 6.5, 7.0]\n",
    ")\n",
    "b = pd.Series(\n",
    "    [1.0, 3.5, 3.6, 3.7, 3.8, 3.9, 4.0, 4.1, 4.2, 4.3, 4.4, 4.5, 7.0]\n",
    ")\n",
    "\n",
    "a.var(ddof=0)  # Varianza Poblacional"
   ]
  },
  {
   "cell_type": "code",
   "execution_count": 8,
   "metadata": {},
   "outputs": [
    {
     "data": {
      "text/plain": [
       "3.7916666666666665"
      ]
     },
     "execution_count": 8,
     "metadata": {},
     "output_type": "execute_result"
    }
   ],
   "source": [
    "a.var(ddof=1)  # Varianza Muestral"
   ]
  },
  {
   "cell_type": "code",
   "execution_count": 9,
   "metadata": {},
   "outputs": [
    {
     "data": {
      "text/plain": [
       "1.5916666666666668"
      ]
     },
     "execution_count": 9,
     "metadata": {},
     "output_type": "execute_result"
    }
   ],
   "source": [
    "b.var(ddof=1)"
   ]
  }
 ],
 "metadata": {
  "kernelspec": {
   "display_name": "base",
   "language": "python",
   "name": "python3"
  },
  "language_info": {
   "codemirror_mode": {
    "name": "ipython",
    "version": 3
   },
   "file_extension": ".py",
   "mimetype": "text/x-python",
   "name": "python",
   "nbconvert_exporter": "python",
   "pygments_lexer": "ipython3",
   "version": "3.9.16"
  }
 },
 "nbformat": 4,
 "nbformat_minor": 2
}
