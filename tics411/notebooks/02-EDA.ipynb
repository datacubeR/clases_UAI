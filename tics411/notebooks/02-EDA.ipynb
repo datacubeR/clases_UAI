{
 "cells": [
  {
   "cell_type": "code",
   "execution_count": null,
   "metadata": {},
   "outputs": [],
   "source": [
    "import seaborn as sns\n",
    "import matplotlib.pyplot as plt\n",
    "\n",
    "iris_df = sns.load_dataset(\"iris\")\n",
    "titanic_df = sns.load_dataset(\"titanic\")\n",
    "ts_df = sns.load_dataset(\"dowjones\")\n",
    "iris_df"
   ]
  },
  {
   "cell_type": "markdown",
   "metadata": {},
   "source": [
    "## Medidas de Tendencia Central"
   ]
  },
  {
   "cell_type": "code",
   "execution_count": null,
   "metadata": {},
   "outputs": [],
   "source": [
    "print(f\"Promedio de Ancho de Petalo {iris_df['sepal_width'].mean()}\")\n",
    "print(f\"Mediana de Largo de Petalo {iris_df['sepal_length'].median()}\")"
   ]
  },
  {
   "cell_type": "code",
   "execution_count": null,
   "metadata": {},
   "outputs": [],
   "source": [
    "print(f\"Moda de Especies: \")\n",
    "iris_df[\"species\"].mode()"
   ]
  },
  {
   "cell_type": "code",
   "execution_count": null,
   "metadata": {},
   "outputs": [],
   "source": [
    "p25 = iris_df[\"sepal_width\"].quantile(q=0.25)\n",
    "p50 = iris_df[\"sepal_width\"].quantile(q=0.50)\n",
    "p75 = iris_df[\"sepal_width\"].quantile(q=0.75)\n",
    "iris_df[\"sepal_width\"].median(), p25, p50, p75"
   ]
  },
  {
   "cell_type": "markdown",
   "metadata": {},
   "source": [
    "## Medidas de Dispersión"
   ]
  },
  {
   "cell_type": "code",
   "execution_count": null,
   "metadata": {},
   "outputs": [],
   "source": [
    "# Mostrar error en caso de no usar numeric_only\n",
    "iris_df.var(numeric_only=True, ddof=0)"
   ]
  },
  {
   "cell_type": "code",
   "execution_count": null,
   "metadata": {},
   "outputs": [],
   "source": [
    "iris_df.var(numeric_only=True, ddof=1)"
   ]
  },
  {
   "cell_type": "code",
   "execution_count": null,
   "metadata": {},
   "outputs": [],
   "source": [
    "iris_df.std(numeric_only=True, ddof=1)"
   ]
  },
  {
   "cell_type": "code",
   "execution_count": null,
   "metadata": {},
   "outputs": [],
   "source": [
    "# Mostrar cómo se construye esta función...\n",
    "def calculate_quantiles(column):\n",
    "    quantiles = iris_df.quantile([0.25, 0.75], numeric_only=True)\n",
    "    iqr_sl = quantiles.loc[0.75, column] - quantiles.loc[0.25, column]\n",
    "    return iqr_sl\n",
    "\n",
    "\n",
    "calculate_quantiles(\"sepal_length\")\n",
    "calculate_quantiles(\"petal_width\")"
   ]
  },
  {
   "cell_type": "code",
   "execution_count": null,
   "metadata": {},
   "outputs": [],
   "source": [
    "iris_df.skew(numeric_only=True)"
   ]
  },
  {
   "cell_type": "markdown",
   "metadata": {},
   "source": [
    "> Cuando hacemos visualizaciones tenemos 2 formas de hacerlas: \n",
    "* Usar Pandas directamente y/o Matplotlib: Buena documentación, gráficos bonitos.\n",
    "* Usar Seaborn: Documentación Complicada, fácil para descubrir insights."
   ]
  },
  {
   "cell_type": "markdown",
   "metadata": {},
   "source": [
    "## Visualizaciones: Pandas"
   ]
  },
  {
   "cell_type": "markdown",
   "metadata": {},
   "source": [
    "### Histogramas"
   ]
  },
  {
   "cell_type": "code",
   "execution_count": null,
   "metadata": {},
   "outputs": [],
   "source": [
    "iris_df.hist(figsize=(20, 6), bins=30, edgecolor = \"black\", grid = False);"
   ]
  },
  {
   "cell_type": "code",
   "execution_count": null,
   "metadata": {},
   "outputs": [],
   "source": [
    "iris_df.plot(kind=\"hist\", alpha=0.5, bins=30, figsize=(20,6), edgecolor = \"black\");\n",
    "# Notar que este genera todos los histogramas super puestos..."
   ]
  },
  {
   "cell_type": "markdown",
   "metadata": {},
   "source": [
    "### Barplots"
   ]
  },
  {
   "cell_type": "code",
   "execution_count": null,
   "metadata": {},
   "outputs": [],
   "source": [
    "titanic_df[\"sex\"].value_counts().plot(kind = \"bar\", figsize=(5,6), title = \"Número de Pasajeros por Sexo...\", edgecolor = \"black\");"
   ]
  },
  {
   "cell_type": "markdown",
   "metadata": {},
   "source": [
    "> Para este tipo de gráficas se requiere entender el concepto de agrupación..."
   ]
  },
  {
   "cell_type": "code",
   "execution_count": null,
   "metadata": {},
   "outputs": [],
   "source": [
    "## Gráficar varias dimensiones\n",
    "titanic_df.groupby(\"pclass\")[[\"age\",\"fare\"]].mean().plot(kind = \"bar\", edgecolor = \"black\", title = \"Edad y Tarifa por cada Clase\");"
   ]
  },
  {
   "cell_type": "code",
   "execution_count": null,
   "metadata": {},
   "outputs": [],
   "source": [
    "iris_df.groupby(\"species\").mean().plot(kind = \"bar\", edgecolor = \"black\");"
   ]
  },
  {
   "cell_type": "markdown",
   "metadata": {},
   "source": [
    "## Boxplots"
   ]
  },
  {
   "cell_type": "code",
   "execution_count": null,
   "metadata": {},
   "outputs": [],
   "source": [
    "iris_df.drop(columns = \"species\").plot(kind = \"box\");"
   ]
  },
  {
   "cell_type": "markdown",
   "metadata": {},
   "source": [
    "### Puntos"
   ]
  },
  {
   "cell_type": "code",
   "execution_count": null,
   "metadata": {},
   "outputs": [],
   "source": [
    "iris_df.plot(x = \"petal_length\", y = \"petal_width\", kind = \"scatter\", title = \"Largo de Pétalo vs Ancho de Pétalo\", xlabel=\"Largo\", ylabel=\"Ancho\");"
   ]
  },
  {
   "cell_type": "code",
   "execution_count": null,
   "metadata": {},
   "outputs": [],
   "source": [
    "ts_df.plot(x = \"Date\", y = \"Price\", title = \"Evolución del Dow Jones\");"
   ]
  },
  {
   "cell_type": "code",
   "execution_count": null,
   "metadata": {},
   "outputs": [],
   "source": [
    "from scipy.stats import norm\n",
    "ts_df[\"AA\"] = ts_df[\"Price\"] + norm.rvs(size = 649)*55+ 1000\n",
    "ts_df[\"BB\"] = -norm.rvs(size = 649)*55\n",
    "\n",
    "ts_df.set_index(\"Date\").plot(title = \"Comparación distintas Tendencias\");"
   ]
  },
  {
   "cell_type": "code",
   "execution_count": null,
   "metadata": {},
   "outputs": [],
   "source": [
    "fig = plt.figure(figsize=(20, 10))\n",
    "ax = fig.subplot_mosaic(\"\"\"AAA\n",
    "                        BCC\"\"\")\n",
    "\n",
    "iris_df.drop(columns = \"species\").plot(kind = \"box\", ax = ax[\"C\"], title = \"Distribución de Datos por Variable\");\n",
    "iris_df.plot(x = \"petal_length\", y = \"petal_width\", kind = \"scatter\", title = \"Largo de Pétalo vs Ancho de Pétalo\", xlabel=\"Largo\", ylabel=\"Ancho\", ax = ax[\"B\"]);\n",
    "iris_df.groupby(\"species\").mean().plot(kind = \"bar\", edgecolor = \"black\", ax = ax[\"A\"], rot=0, title=\"Valores promedio por Especie\")\n",
    "plt.suptitle(\"Súper Título\", fontsize = 20);"
   ]
  },
  {
   "cell_type": "markdown",
   "metadata": {},
   "source": [
    "## Seaborn"
   ]
  },
  {
   "cell_type": "code",
   "execution_count": null,
   "metadata": {},
   "outputs": [],
   "source": [
    "sns.catplot(kind = \"count\", data = titanic_df, y = \"embark_town\")\n",
    "plt.title(\"Pasajeros por Puerto\")\n",
    "sns.catplot(kind = \"count\", data = titanic_df, x = \"pclass\")\n",
    "plt.title(\"Pasajeros por Clase\");"
   ]
  },
  {
   "cell_type": "markdown",
   "metadata": {},
   "source": [
    "> En el caso de querer entender los colores de Seaborn ver [acá](https://seaborn.pydata.org/tutorial/color_palettes.html#palette-tutorial)"
   ]
  },
  {
   "cell_type": "code",
   "execution_count": null,
   "metadata": {},
   "outputs": [],
   "source": [
    "# Agrupar por ambos casos\n",
    "sns.catplot(kind =\"count\", y = \"sex\", hue = \"pclass\", data = titanic_df, palette = \"Set1\");"
   ]
  },
  {
   "cell_type": "code",
   "execution_count": null,
   "metadata": {},
   "outputs": [],
   "source": [
    "## Barplot\n",
    "sns.catplot(kind = \"bar\", x = \"sex\", y = \"fare\", data = titanic_df, errorbar=None, hue = \"embark_town\", col = \"pclass\");"
   ]
  },
  {
   "cell_type": "markdown",
   "metadata": {},
   "source": [
    "### Histogramas"
   ]
  },
  {
   "cell_type": "code",
   "execution_count": null,
   "metadata": {},
   "outputs": [],
   "source": [
    "sns.displot(x = \"fare\", data = titanic_df, kind = \"kde\", height=4, aspect = 6);"
   ]
  },
  {
   "cell_type": "code",
   "execution_count": null,
   "metadata": {},
   "outputs": [],
   "source": [
    "sns.displot(x = \"fare\", data = titanic_df, height=4, aspect = 6);"
   ]
  },
  {
   "cell_type": "code",
   "execution_count": null,
   "metadata": {},
   "outputs": [],
   "source": [
    "sns.displot(x = \"fare\", data = titanic_df, kde = True, height=4, aspect = 6);"
   ]
  },
  {
   "cell_type": "code",
   "execution_count": null,
   "metadata": {},
   "outputs": [],
   "source": [
    "sns.relplot(kind = \"scatter\", x = \"age\", y = \"fare\", data = titanic_df, hue = \"pclass\");"
   ]
  },
  {
   "cell_type": "code",
   "execution_count": null,
   "metadata": {},
   "outputs": [],
   "source": [
    "sns.relplot(x = \"Date\", y = \"Price\", data = ts_df, kind = \"line\")\n",
    "plt.title(\"Precio del Dow Jones\");"
   ]
  },
  {
   "cell_type": "code",
   "execution_count": null,
   "metadata": {},
   "outputs": [],
   "source": [
    "sns.relplot(kind = \"scatter\", x = \"age\", y = \"fare\", data = titanic_df, col = \"alone\", hue = \"survived\");"
   ]
  },
  {
   "cell_type": "code",
   "execution_count": null,
   "metadata": {},
   "outputs": [],
   "source": [
    "# Esto es un insight... Los hombres solos sobrevivieron muchísimo más...\n",
    "sns.catplot(kind = \"count\", x = \"sex\", hue = \"survived\", data = titanic_df, col = \"alone\");"
   ]
  },
  {
   "cell_type": "markdown",
   "metadata": {},
   "source": [
    "> El contra de estos gráficos en Seaborn es que no permiten agregarse a un `Layout Mosaic`."
   ]
  }
 ],
 "metadata": {
  "kernelspec": {
   "display_name": "base",
   "language": "python",
   "name": "python3"
  },
  "language_info": {
   "codemirror_mode": {
    "name": "ipython",
    "version": 3
   },
   "file_extension": ".py",
   "mimetype": "text/x-python",
   "name": "python",
   "nbconvert_exporter": "python",
   "pygments_lexer": "ipython3",
   "version": "3.9.16"
  }
 },
 "nbformat": 4,
 "nbformat_minor": 2
}
