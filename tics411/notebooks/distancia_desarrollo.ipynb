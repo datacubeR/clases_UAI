{
 "cells": [
  {
   "cell_type": "markdown",
   "metadata": {},
   "source": [
    "![](distancia.png)"
   ]
  },
  {
   "cell_type": "code",
   "execution_count": 2,
   "metadata": {},
   "outputs": [
    {
     "data": {
      "text/html": [
       "<div>\n",
       "<style scoped>\n",
       "    .dataframe tbody tr th:only-of-type {\n",
       "        vertical-align: middle;\n",
       "    }\n",
       "\n",
       "    .dataframe tbody tr th {\n",
       "        vertical-align: top;\n",
       "    }\n",
       "\n",
       "    .dataframe thead th {\n",
       "        text-align: right;\n",
       "    }\n",
       "</style>\n",
       "<table border=\"1\" class=\"dataframe\">\n",
       "  <thead>\n",
       "    <tr style=\"text-align: right;\">\n",
       "      <th></th>\n",
       "      <th>x</th>\n",
       "      <th>y</th>\n",
       "    </tr>\n",
       "  </thead>\n",
       "  <tbody>\n",
       "    <tr>\n",
       "      <th>1</th>\n",
       "      <td>0</td>\n",
       "      <td>2</td>\n",
       "    </tr>\n",
       "    <tr>\n",
       "      <th>2</th>\n",
       "      <td>2</td>\n",
       "      <td>0</td>\n",
       "    </tr>\n",
       "    <tr>\n",
       "      <th>3</th>\n",
       "      <td>3</td>\n",
       "      <td>1</td>\n",
       "    </tr>\n",
       "    <tr>\n",
       "      <th>4</th>\n",
       "      <td>5</td>\n",
       "      <td>1</td>\n",
       "    </tr>\n",
       "  </tbody>\n",
       "</table>\n",
       "</div>"
      ],
      "text/plain": [
       "   x  y\n",
       "1  0  2\n",
       "2  2  0\n",
       "3  3  1\n",
       "4  5  1"
      ]
     },
     "execution_count": 2,
     "metadata": {},
     "output_type": "execute_result"
    }
   ],
   "source": [
    "import pandas as pd\n",
    "import numpy as np\n",
    "\n",
    "df = pd.DataFrame(dict(x=[0, 2, 3, 5], y=[2, 0, 1, 1]))\n",
    "df.index = [1, 2, 3, 4]\n",
    "df"
   ]
  },
  {
   "cell_type": "code",
   "execution_count": 3,
   "metadata": {},
   "outputs": [
    {
     "data": {
      "text/plain": [
       "array([[0., 0., 0., 0.],\n",
       "       [0., 0., 0., 0.],\n",
       "       [0., 0., 0., 0.],\n",
       "       [0., 0., 0., 0.]])"
      ]
     },
     "execution_count": 3,
     "metadata": {},
     "output_type": "execute_result"
    }
   ],
   "source": [
    "# Matriz de distancia n_puntos x n_puntos\n",
    "n_puntos = 4\n",
    "d_m = np.zeros((4, 4))\n",
    "d_m  # coordenada i,j contiene la distancia entre pi, pj"
   ]
  },
  {
   "cell_type": "code",
   "execution_count": 6,
   "metadata": {},
   "outputs": [
    {
     "data": {
      "text/plain": [
       "5.0990195135927845"
      ]
     },
     "execution_count": 6,
     "metadata": {},
     "output_type": "execute_result"
    }
   ],
   "source": [
    "p1 = df.iloc[0]  # p1\n",
    "p2 = df.iloc[1]\n",
    "p3 = df.iloc[2]\n",
    "p4 = df.iloc[3]  # p4\n",
    "\n",
    "\n",
    "def l2_distance(p, q):\n",
    "    x1 = p[\"x\"]\n",
    "    x2 = q[\"x\"]\n",
    "    y1 = p[\"y\"]\n",
    "    y2 = q[\"y\"]\n",
    "\n",
    "    return np.sqrt((x1 - x2) ** 2 + (y1 - y2) ** 2)\n",
    "\n",
    "\n",
    "l2_distance(p1, p4)"
   ]
  },
  {
   "cell_type": "code",
   "execution_count": 12,
   "metadata": {},
   "outputs": [
    {
     "data": {
      "text/plain": [
       "array([[0.        , 2.82842712, 3.16227766, 5.09901951],\n",
       "       [2.82842712, 0.        , 1.41421356, 3.16227766],\n",
       "       [3.16227766, 1.41421356, 0.        , 2.        ],\n",
       "       [5.09901951, 3.16227766, 2.        , 0.        ]])"
      ]
     },
     "execution_count": 12,
     "metadata": {},
     "output_type": "execute_result"
    }
   ],
   "source": [
    "def calculate_matrix(df, distance_func, n_puntos=4):\n",
    "    d_m = np.zeros((n_puntos, n_puntos))\n",
    "    for i in range(n_puntos):\n",
    "        for j in range(n_puntos):\n",
    "            p = df.iloc[i]\n",
    "            q = df.iloc[j]\n",
    "            d_m[i, j] = distance_func(p, q)\n",
    "\n",
    "    return d_m\n",
    "\n",
    "\n",
    "d_m = calculate_matrix(df, l2_distance)\n",
    "d_m"
   ]
  },
  {
   "cell_type": "code",
   "execution_count": 14,
   "metadata": {},
   "outputs": [
    {
     "data": {
      "text/plain": [
       "array([[0., 2., 3., 5.],\n",
       "       [2., 0., 1., 3.],\n",
       "       [3., 1., 0., 2.],\n",
       "       [5., 3., 2., 0.]])"
      ]
     },
     "execution_count": 14,
     "metadata": {},
     "output_type": "execute_result"
    }
   ],
   "source": [
    "def l1_distance(p, q):\n",
    "    x1 = p[\"x\"]\n",
    "    x2 = q[\"x\"]\n",
    "    y1 = p[\"y\"]\n",
    "    y2 = q[\"y\"]\n",
    "\n",
    "    return np.abs(x1 - x2) + np.abs(y1 - y2)\n",
    "\n",
    "\n",
    "def linf_distance(p, q):\n",
    "    x1 = p[\"x\"]\n",
    "    x2 = q[\"x\"]\n",
    "    y1 = p[\"y\"]\n",
    "    y2 = q[\"y\"]\n",
    "    dist_x = np.abs(x1 - x2)\n",
    "    dist_y = np.abs(y1 - y2)\n",
    "    return np.max([dist_x, dist_y])\n",
    "\n",
    "\n",
    "dm_l1 = calculate_matrix(df, l1_distance)\n",
    "dm_linf = calculate_matrix(df, linf_distance)\n",
    "dm_linf"
   ]
  },
  {
   "cell_type": "markdown",
   "metadata": {},
   "source": [
    "![](distancia.png)"
   ]
  }
 ],
 "metadata": {
  "kernelspec": {
   "display_name": "base",
   "language": "python",
   "name": "python3"
  },
  "language_info": {
   "codemirror_mode": {
    "name": "ipython",
    "version": 3
   },
   "file_extension": ".py",
   "mimetype": "text/x-python",
   "name": "python",
   "nbconvert_exporter": "python",
   "pygments_lexer": "ipython3",
   "version": "3.9.16"
  }
 },
 "nbformat": 4,
 "nbformat_minor": 2
}
