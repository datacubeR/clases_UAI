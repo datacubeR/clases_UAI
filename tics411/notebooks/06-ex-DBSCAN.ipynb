{
 "cells": [
  {
   "cell_type": "markdown",
   "metadata": {},
   "source": [
    "## DBSCAN"
   ]
  },
  {
   "cell_type": "code",
   "execution_count": null,
   "metadata": {},
   "outputs": [],
   "source": [
    "import numpy as np\n",
    "import seaborn as sns"
   ]
  },
  {
   "cell_type": "code",
   "execution_count": null,
   "metadata": {},
   "outputs": [],
   "source": [
    "df = sns.load_dataset(\"iris\")\n",
    "X = df.drop(columns=\"species\")\n",
    "X"
   ]
  },
  {
   "cell_type": "markdown",
   "metadata": {},
   "source": [
    "## Función para Visualizar"
   ]
  },
  {
   "cell_type": "code",
   "execution_count": null,
   "metadata": {},
   "outputs": [],
   "source": [
    "import matplotlib.pyplot as plt\n",
    "\n",
    "\n",
    "## Función ligeramente modificada para no requerir centroides en caso que no sea aplicable.\n",
    "def pca_viz(pca_X, labels, pca_centroids=None, title=None, cmap=\"viridis\"):\n",
    "    plt.scatter(pca_X[:, 0], pca_X[:, 1], c=labels, cmap=cmap)\n",
    "    if pca_centroids is not None:\n",
    "        plt.scatter(\n",
    "            pca_centroids[:, 0],\n",
    "            pca_centroids[:, 1],\n",
    "            marker=\"*\",\n",
    "            c=\"red\",\n",
    "            s=150,\n",
    "        )\n",
    "    plt.title(title)"
   ]
  },
  {
   "cell_type": "code",
   "execution_count": null,
   "metadata": {},
   "outputs": [],
   "source": [
    "from sklearn.preprocessing import StandardScaler\n",
    "from sklearn.cluster import DBSCAN\n",
    "\n",
    "sc = StandardScaler()\n",
    "dbs = DBSCAN(min_samples=4, eps=3)\n",
    "X_sc = sc.fit_transform(X)\n",
    "labels = dbs.fit_predict(X_sc)\n",
    "labels"
   ]
  },
  {
   "cell_type": "code",
   "execution_count": null,
   "metadata": {},
   "outputs": [],
   "source": [
    "from sklearn.decomposition import PCA\n",
    "\n",
    "## Probar minPts = 4 y eps = 0.2\n",
    "## Probar minPts = 10 y eps = 0.5\n",
    "## Probar minPts = 13 y eps = 0.6\n",
    "pca = PCA(n_components=2)\n",
    "pca_X = pca.fit_transform(X_sc)\n",
    "\n",
    "pca_viz(\n",
    "    pca_X,\n",
    "    labels=labels,\n",
    "    title=\"Visualización de DBSCAN para Iris en 2D\",\n",
    ")"
   ]
  },
  {
   "cell_type": "code",
   "execution_count": null,
   "metadata": {},
   "outputs": [],
   "source": [
    "from sklearn.neighbors import NearestNeighbors\n",
    "\n",
    "\n",
    "def dbscan_elbow_plot(X, k=5):\n",
    "    knn = NearestNeighbors(n_neighbors=k)\n",
    "    knn.fit(X)\n",
    "    distances, _ = knn.kneighbors(X)\n",
    "    distances = np.sort(distances[:, -1])\n",
    "    n_pts = distances.shape[0]\n",
    "\n",
    "    plt.plot(range(1, n_pts + 1), distances)\n",
    "    plt.xlabel(\n",
    "        f\"Puntos ordenados por Distancia al {k} vecino más cercano.\"\n",
    "    )\n",
    "    plt.ylabel(f\"Distancia al {k} vecino más cercano\")\n",
    "    plt.title(f\"Búsqueda de EPS para DBSCAN con k={k}\")\n",
    "\n",
    "\n",
    "# k = 5 escogido ya que tenemos 4 dimensiones.\n",
    "dbscan_elbow_plot(X_sc, k=5)"
   ]
  },
  {
   "cell_type": "markdown",
   "metadata": {},
   "source": [
    "## Modelo entrenado con Hiperparámetros Óptimos"
   ]
  },
  {
   "cell_type": "code",
   "execution_count": null,
   "metadata": {},
   "outputs": [],
   "source": [
    "MIN_PTS = 5\n",
    "EPS = 0.75\n",
    "sc = StandardScaler()\n",
    "dbs = DBSCAN(min_samples=MIN_PTS, eps=EPS)\n",
    "X_sc = sc.fit_transform(X)\n",
    "labels = dbs.fit_predict(X_sc)\n",
    "pca_viz(\n",
    "    pca_X,\n",
    "    labels=labels,\n",
    "    title=f\"Visualización de DBSCAN para Iris en 2D con los mejores Hiperparámetros: MinPts: {MIN_PTS} y eps = {EPS}\",\n",
    ")"
   ]
  }
 ],
 "metadata": {
  "kernelspec": {
   "display_name": "base",
   "language": "python",
   "name": "python3"
  },
  "language_info": {
   "codemirror_mode": {
    "name": "ipython",
    "version": 3
   },
   "file_extension": ".py",
   "mimetype": "text/x-python",
   "name": "python",
   "nbconvert_exporter": "python",
   "pygments_lexer": "ipython3",
   "version": "3.9.16"
  }
 },
 "nbformat": 4,
 "nbformat_minor": 2
}
