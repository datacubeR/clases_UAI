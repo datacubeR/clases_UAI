{
 "cells": [
  {
   "cell_type": "markdown",
   "metadata": {},
   "source": [
    "## Ejemplo K-Means"
   ]
  },
  {
   "cell_type": "code",
   "execution_count": null,
   "metadata": {},
   "outputs": [],
   "source": [
    "import seaborn as sns\n",
    "\n",
    "# Importamos el Dataset Iris\n",
    "df = sns.load_dataset(\"iris\")\n",
    "df"
   ]
  },
  {
   "cell_type": "code",
   "execution_count": null,
   "metadata": {},
   "outputs": [],
   "source": [
    "df[\"species\"].value_counts()"
   ]
  },
  {
   "cell_type": "markdown",
   "metadata": {},
   "source": [
    "> Supongamos que utilizaremos sólo las variables numéricas... \"Species\", es de hecho la respuesta correcta (la etiqueta). "
   ]
  },
  {
   "cell_type": "code",
   "execution_count": null,
   "metadata": {},
   "outputs": [],
   "source": [
    "# Definimos X como una Matriz sin la variable Species.\n",
    "X = df.drop(columns=\"species\")\n",
    "X"
   ]
  },
  {
   "cell_type": "markdown",
   "metadata": {},
   "source": [
    "## Ayuda Visual\n",
    "Vamos a utilizar PCA para poder reducir las dimensiones a un tamaño el cual podamos visualizar: 2D."
   ]
  },
  {
   "cell_type": "code",
   "execution_count": null,
   "metadata": {},
   "outputs": [],
   "source": [
    "from sklearn.decomposition import PCA\n",
    "import pandas as pd\n",
    "\n",
    "## Esto es sólo una ayuda para poder visualizar datos\n",
    "# que están en más dimensiones de las que podemos ver.\n",
    "pca = PCA(n_components=2, random_state=1)\n",
    "pca_X = pca.fit_transform(X)"
   ]
  },
  {
   "cell_type": "code",
   "execution_count": null,
   "metadata": {},
   "outputs": [],
   "source": [
    "import matplotlib.pyplot as plt\n",
    "\n",
    "plt.scatter(pca_X[:, 0], pca_X[:, 1])\n",
    "plt.title(\"Visualización de Iris en 2D.\")\n",
    "plt.tight_layout()"
   ]
  },
  {
   "cell_type": "code",
   "execution_count": null,
   "metadata": {},
   "outputs": [],
   "source": [
    "## Esta es una función que nos permitirá visualizar nuestras etiquetas en un espacio reducido por PCA.\n",
    "## Además permite la visualización de los centroides de nuestro proceso...\n",
    "\n",
    "\n",
    "def pca_viz(pca_X, pca_centroids, labels, title=None, cmap=\"viridis\"):\n",
    "    plt.scatter(pca_X[:, 0], pca_X[:, 1], c=labels, cmap=cmap)\n",
    "    plt.scatter(\n",
    "        pca_centroids[:, 0],\n",
    "        pca_centroids[:, 1],\n",
    "        marker=\"*\",\n",
    "        c=\"red\",\n",
    "        s=150,\n",
    "    )\n",
    "    plt.title(title)"
   ]
  },
  {
   "cell_type": "markdown",
   "metadata": {},
   "source": [
    "### Implementación de K-Means"
   ]
  },
  {
   "cell_type": "code",
   "execution_count": null,
   "metadata": {},
   "outputs": [],
   "source": [
    "from sklearn.cluster import KMeans\n",
    "\n",
    "km = KMeans(n_clusters=2, n_init=10, random_state=1)\n",
    "labels = km.fit_predict(X)\n",
    "centroids = km.cluster_centers_\n",
    "pca_centroids = pca.transform(centroids)"
   ]
  },
  {
   "cell_type": "code",
   "execution_count": null,
   "metadata": {},
   "outputs": [],
   "source": [
    "pca_viz(\n",
    "    pca_X,\n",
    "    pca_centroids,\n",
    "    labels=labels,\n",
    "    title=\"Visualización de K-Means en Iris 2D\",\n",
    ")"
   ]
  },
  {
   "cell_type": "markdown",
   "metadata": {},
   "source": [
    "### Efecto del Escalamiento en K-Means"
   ]
  },
  {
   "cell_type": "code",
   "execution_count": null,
   "metadata": {},
   "outputs": [],
   "source": [
    "from sklearn.preprocessing import StandardScaler\n",
    "\n",
    "sc = StandardScaler()\n",
    "X_sc = sc.fit_transform(X)\n",
    "pca = PCA(n_components=2, random_state=1)\n",
    "pca_X_sc = pca.fit_transform(X_sc)\n",
    "km = KMeans(n_clusters=2, n_init=10, random_state=1)\n",
    "sc_labels = km.fit_predict(X_sc)\n",
    "centroids = km.cluster_centers_\n",
    "pca_centroids = pca.transform(centroids)\n",
    "pca_viz(\n",
    "    pca_X_sc,\n",
    "    pca_centroids,\n",
    "    sc_labels,\n",
    "    title=\"K-Means de Iris en 2D luego de Estandarizar los datos. \",\n",
    ")"
   ]
  },
  {
   "cell_type": "code",
   "execution_count": null,
   "metadata": {},
   "outputs": [],
   "source": [
    "from sklearn.preprocessing import MinMaxScaler\n",
    "\n",
    "mm = MinMaxScaler()\n",
    "X_mm = mm.fit_transform(X)\n",
    "pca = PCA(n_components=2, random_state=1)\n",
    "pca_X_mm = pca.fit_transform(X_mm)\n",
    "km = KMeans(n_clusters=3, n_init=10, random_state=1)\n",
    "mm_labels = km.fit_predict(X_mm)\n",
    "centroids = km.cluster_centers_\n",
    "pca_centroids = pca.transform(centroids)\n",
    "\n",
    "pca_viz(\n",
    "    pca_X_mm,\n",
    "    pca_centroids,\n",
    "    mm_labels,\n",
    "    title=\"K-Means de Iris en 2D luego de Normalizar los datos.\",\n",
    ")"
   ]
  },
  {
   "cell_type": "markdown",
   "metadata": {},
   "source": [
    "## Ejemplo más avanzado sin entrenar con todos los datos..."
   ]
  },
  {
   "cell_type": "code",
   "execution_count": null,
   "metadata": {},
   "outputs": [],
   "source": [
    "from sklearn.model_selection import train_test_split\n",
    "\n",
    "X_train, X_test = train_test_split(X, test_size=0.25, random_state=1)"
   ]
  },
  {
   "cell_type": "markdown",
   "metadata": {},
   "source": [
    "> Estamos dejando un 25% de los datos fuera para poder chequear cuál sería la `predicción` que se le dan a dichos datos."
   ]
  },
  {
   "cell_type": "code",
   "execution_count": null,
   "metadata": {},
   "outputs": [],
   "source": [
    "pca = PCA(n_components=2)\n",
    "km = KMeans(n_clusters=2, n_init=10)\n",
    "sc = StandardScaler()\n",
    "## Fit siempre se hace con datos de `Entrenamiento`.\n",
    "\n",
    "## Escalamos los datos...\n",
    "sc.fit(X_train)\n",
    "X_train_sc = sc.transform(X_train)\n",
    "X_test_sc = sc.transform(X_test)\n",
    "\n",
    "# Generamos las coordenadas del PCA para visualizar\n",
    "pca.fit(X_train_sc)\n",
    "pca_train = pca.transform(X_train_sc)\n",
    "pca_test = pca.transform(X_test_sc)\n",
    "\n",
    "train_labels = km.fit_predict(X_train_sc)\n",
    "test_labels = km.predict(X_test_sc)\n",
    "centroids = km.cluster_centers_\n",
    "pca_centroids = pca.transform(centroids)\n",
    "\n",
    "pca_viz(pca_train, pca_centroids, train_labels)\n",
    "pca_viz(pca_test, pca_centroids, test_labels, cmap=\"tab20b\")"
   ]
  },
  {
   "cell_type": "markdown",
   "metadata": {},
   "source": [
    "## Cuál es el K óptimo?"
   ]
  },
  {
   "cell_type": "code",
   "execution_count": null,
   "metadata": {},
   "outputs": [],
   "source": [
    "def elbow_curve(X, k_max=10, color=\"blue\", title=None):\n",
    "    wc = []\n",
    "    for k in range(1, k_max + 1):\n",
    "        km = KMeans(n_clusters=k, random_state=1)\n",
    "        km.fit(X)\n",
    "        wc.append(km.inertia_)\n",
    "\n",
    "    k = [*range(1, k_max + 1)]\n",
    "    plt.plot(k, wc, c=color, marker=\"*\")\n",
    "    plt.title(title)\n",
    "    plt.xlabel(\"Número de Clústers\")\n",
    "    plt.ylabel(\"Within Distance\")\n",
    "    return wc\n",
    "\n",
    "\n",
    "wc = elbow_curve(\n",
    "    X_train,\n",
    "    k_max=15,\n",
    "    color=\"red\",\n",
    "    title=\"Curva del Codo para el Dataset Iris, sólo con Train Set.\",\n",
    ")"
   ]
  },
  {
   "cell_type": "code",
   "execution_count": null,
   "metadata": {},
   "outputs": [],
   "source": [
    "wc"
   ]
  }
 ],
 "metadata": {
  "kernelspec": {
   "display_name": "base",
   "language": "python",
   "name": "python3"
  },
  "language_info": {
   "codemirror_mode": {
    "name": "ipython",
    "version": 3
   },
   "file_extension": ".py",
   "mimetype": "text/x-python",
   "name": "python",
   "nbconvert_exporter": "python",
   "pygments_lexer": "ipython3",
   "version": "3.9.16"
  }
 },
 "nbformat": 4,
 "nbformat_minor": 2
}
