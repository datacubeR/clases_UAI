{
 "cells": [
  {
   "cell_type": "code",
   "execution_count": null,
   "metadata": {},
   "outputs": [],
   "source": [
    "import numpy as np\n",
    "import matplotlib.pyplot as plt\n",
    "import seaborn as sns\n",
    "from sklearn import set_config\n",
    "\n",
    "set_config(transform_output=\"pandas\")\n",
    "\n",
    "df = sns.load_dataset(\"titanic\")\n",
    "df"
   ]
  },
  {
   "cell_type": "markdown",
   "metadata": {},
   "source": [
    "> Supongamos que queremos predecir la posibilidad que un pasajero sobreviva o muera luego del accidente del Titanic."
   ]
  },
  {
   "cell_type": "code",
   "execution_count": null,
   "metadata": {},
   "outputs": [],
   "source": [
    "df.dtypes.value_counts().plot(\n",
    "    kind=\"bar\",\n",
    "    edgecolor=\"k\",\n",
    "    title=\"Tipos de Variable presente en Titanic\",\n",
    ")\n",
    "plt.tight_layout()"
   ]
  },
  {
   "cell_type": "markdown",
   "metadata": {},
   "source": [
    "## Supongamos que utilizaremos las siguientes variables"
   ]
  },
  {
   "cell_type": "code",
   "execution_count": null,
   "metadata": {},
   "outputs": [],
   "source": [
    "X = df[[\"class\", \"sex\", \"embark_town\", \"fare\", \"age\"]]\n",
    "y = df.alive\n",
    "\n",
    "X.shape, y.shape"
   ]
  },
  {
   "cell_type": "markdown",
   "metadata": {},
   "source": [
    "## EDA"
   ]
  },
  {
   "cell_type": "code",
   "execution_count": null,
   "metadata": {},
   "outputs": [],
   "source": [
    "num_cols = X.select_dtypes(np.number).columns.tolist()\n",
    "cat_cols = [col for col in X.columns if col not in num_cols]\n",
    "print(f\"Variables Numéricas: {num_cols}\")\n",
    "print(f\"Variables Categóricas: {cat_cols}\")"
   ]
  },
  {
   "cell_type": "markdown",
   "metadata": {},
   "source": [
    "#### Valores Faltantes (Nulos)"
   ]
  },
  {
   "cell_type": "code",
   "execution_count": null,
   "metadata": {},
   "outputs": [],
   "source": [
    "X.isnull().mean().plot(\n",
    "    kind=\"bar\",\n",
    "    edgecolor=\"k\",\n",
    "    title=\"Cantidad de Valores Nulos en el Titanic\",\n",
    ")\n",
    "plt.tight_layout()"
   ]
  },
  {
   "cell_type": "markdown",
   "metadata": {},
   "source": [
    "## Variables Numéricas"
   ]
  },
  {
   "cell_type": "code",
   "execution_count": null,
   "metadata": {},
   "outputs": [],
   "source": [
    "X.hist(grid=False, edgecolor=\"k\")\n",
    "plt.suptitle(\"Distribución de Variables Numéricas\")\n",
    "plt.tight_layout()"
   ]
  },
  {
   "cell_type": "markdown",
   "metadata": {},
   "source": [
    "## Variables Categóricas"
   ]
  },
  {
   "cell_type": "code",
   "execution_count": null,
   "metadata": {},
   "outputs": [],
   "source": [
    "color = [\"red\", \"blue\", \"green\"]\n",
    "for cat, color in zip(cat_cols, color):\n",
    "    df[cat].value_counts().plot(\n",
    "        kind=\"bar\",\n",
    "        edgecolor=\"k\",\n",
    "        color=color,\n",
    "        title=f\"Categorías para '{cat}'\",\n",
    "    )\n",
    "    plt.show()"
   ]
  },
  {
   "cell_type": "markdown",
   "metadata": {},
   "source": [
    "## Preprocesamiento"
   ]
  },
  {
   "cell_type": "code",
   "execution_count": null,
   "metadata": {},
   "outputs": [],
   "source": [
    "from feature_engine.imputation import CategoricalImputer\n",
    "\n",
    "ci = CategoricalImputer(imputation_method=\"frequent\")\n",
    "X_imp = ci.fit_transform(X)\n",
    "X_imp"
   ]
  },
  {
   "cell_type": "code",
   "execution_count": null,
   "metadata": {},
   "outputs": [],
   "source": [
    "from feature_engine.imputation import MeanMedianImputer\n",
    "\n",
    "mmi = MeanMedianImputer(imputation_method=\"mean\")\n",
    "X_imp = mmi.fit_transform(X_imp)\n",
    "X_imp"
   ]
  },
  {
   "cell_type": "code",
   "execution_count": null,
   "metadata": {},
   "outputs": [],
   "source": [
    "from feature_engine.encoding import OneHotEncoder\n",
    "\n",
    "ohe = OneHotEncoder()\n",
    "X_ohe = ohe.fit_transform(X_imp)\n",
    "X_ohe"
   ]
  },
  {
   "cell_type": "code",
   "execution_count": null,
   "metadata": {},
   "outputs": [],
   "source": [
    "from sklearn.preprocessing import StandardScaler\n",
    "\n",
    "sc_all = StandardScaler()\n",
    "X_sc_all = sc_all.fit_transform(X_ohe)\n",
    "X_sc_all"
   ]
  },
  {
   "cell_type": "code",
   "execution_count": null,
   "metadata": {},
   "outputs": [],
   "source": [
    "from feature_engine.wrappers import SklearnTransformerWrapper\n",
    "\n",
    "sc = SklearnTransformerWrapper(StandardScaler(), variables=[\"fare\", \"age\"])\n",
    "X_sc = sc.fit_transform(X_ohe)\n",
    "X_sc"
   ]
  },
  {
   "cell_type": "markdown",
   "metadata": {},
   "source": [
    "## Entrenamiento del Modelo"
   ]
  },
  {
   "cell_type": "code",
   "execution_count": null,
   "metadata": {},
   "outputs": [],
   "source": [
    "from sklearn.neighbors import KNeighborsClassifier\n",
    "\n",
    "\n",
    "def knn_clf(X, y, k=5, prep=\"\"):\n",
    "    knn = KNeighborsClassifier(\n",
    "        n_neighbors=k, metric=\"euclidean\", n_jobs=-1\n",
    "    )\n",
    "    ## Notar que es posible utilizar Variables categóricas como Etiquetas...\n",
    "    knn.fit(X, y)\n",
    "    y_pred = knn.predict(X)\n",
    "    print(\n",
    "        f\"Score k = {k}, y Preprocesamiento: {prep}: {knn.score(X,y):.4f}\"\n",
    "    )\n",
    "    return y_pred\n",
    "\n",
    "\n",
    "for k in [3, 5, 7, 9, 11, 13, 15]:\n",
    "    print(\n",
    "        \"=================================================================\"\n",
    "    )\n",
    "    y_pred_sc = knn_clf(X_sc, y, k=k, prep=\"StandardScaler Numérico\")\n",
    "    y_pred_sc_all = knn_clf(X_sc_all, y, k=k, prep=\"StandardScaler a todo\")\n",
    "    y_pred_ohe = knn_clf(X_ohe, y, k=k, prep=\"Sin Escalar\")"
   ]
  },
  {
   "cell_type": "markdown",
   "metadata": {},
   "source": [
    "> Conclusión: Los Preprocesamientos afectan de manera importante el entrenamiento de un modelo. "
   ]
  },
  {
   "cell_type": "markdown",
   "metadata": {},
   "source": [
    "## Uso de Pipelines"
   ]
  },
  {
   "cell_type": "code",
   "execution_count": null,
   "metadata": {},
   "outputs": [],
   "source": [
    "from sklearn.pipeline import Pipeline\n",
    "\n",
    "\n",
    "def model_pipeline(num_method, cat_method, k=5):\n",
    "    pipe = Pipeline(\n",
    "        steps=[\n",
    "            (\"num_imp\", MeanMedianImputer(imputation_method=num_method)),\n",
    "            (\"cat_imp\", CategoricalImputer(imputation_method=cat_method)),\n",
    "            (\"ohe\", OneHotEncoder()),\n",
    "            (\"sc\", StandardScaler()),\n",
    "            (\"model\", KNeighborsClassifier(n_neighbors=5, n_jobs=-1)),\n",
    "        ]\n",
    "    )\n",
    "\n",
    "    return pipe\n",
    "\n",
    "\n",
    "pipe = model_pipeline(num_method=\"mean\", cat_method=\"frequent\", k=5)\n",
    "pipe"
   ]
  },
  {
   "cell_type": "code",
   "execution_count": null,
   "metadata": {},
   "outputs": [],
   "source": [
    "pipe.fit(X, y)\n",
    "y_pred = pipe.predict(X)\n",
    "pipe.score(X, y)"
   ]
  },
  {
   "cell_type": "code",
   "execution_count": null,
   "metadata": {},
   "outputs": [],
   "source": [
    "y_pred"
   ]
  }
 ],
 "metadata": {
  "kernelspec": {
   "display_name": "base",
   "language": "python",
   "name": "python3"
  },
  "language_info": {
   "codemirror_mode": {
    "name": "ipython",
    "version": 3
   },
   "file_extension": ".py",
   "mimetype": "text/x-python",
   "name": "python",
   "nbconvert_exporter": "python",
   "pygments_lexer": "ipython3",
   "version": "3.9.16"
  }
 },
 "nbformat": 4,
 "nbformat_minor": 2
}
