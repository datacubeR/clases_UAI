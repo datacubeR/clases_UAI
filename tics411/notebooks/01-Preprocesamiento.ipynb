{
 "cells": [
  {
   "cell_type": "code",
   "execution_count": null,
   "metadata": {},
   "outputs": [],
   "source": [
    "# %%capture\n",
    "#!pip install feature_engine"
   ]
  },
  {
   "cell_type": "code",
   "execution_count": null,
   "metadata": {},
   "outputs": [],
   "source": [
    "import pandas as pd\n",
    "import numpy as np\n",
    "import seaborn as sns\n",
    "from sklearn import set_config\n",
    "\n",
    "set_config(transform_output=\"pandas\")\n",
    "\n",
    "df = sns.load_dataset(\"titanic\")\n",
    "df"
   ]
  },
  {
   "cell_type": "markdown",
   "metadata": {},
   "source": [
    "* Para realizar cualquier tipo de Preprocesamiento mostraremos 2 procedimientos: `Pandas` y `Scikit-Learn`.\n",
    "\n",
    "* Ambos permiten el mismo tipo de proceso, la gran diferencia es que Scikit-Learn permite combinar distintos preprocesamientos en un Pipeline y es la manera más `Profesional` de hacer este proceso. \n",
    "\n",
    "> Usar Pipelines permitirá evitar errores en procedimientos más complicados que veremos más adelante durante el curso.\n"
   ]
  },
  {
   "cell_type": "markdown",
   "metadata": {},
   "source": [
    "## Valores Faltantes"
   ]
  },
  {
   "cell_type": "code",
   "execution_count": null,
   "metadata": {},
   "outputs": [],
   "source": [
    "df.isnull().sum()"
   ]
  },
  {
   "cell_type": "code",
   "execution_count": null,
   "metadata": {},
   "outputs": [],
   "source": [
    "### Pandas\n",
    "# Veamos cuánto vale el promedio de Edad de los pasajeros del Titanic.\n",
    "media = df[\"age\"].mean()\n",
    "mediana = df[\"age\"].median()\n",
    "print(f\"Promedio de Edad: {media}\")\n",
    "print(f'Promedio de Edad con Imputación con Ceros: {df[\"age\"].fillna(0).mean()}')\n",
    "print(f'Promedio de Edad con Imputación por Media: {df[\"age\"].fillna(media).mean()}')\n",
    "print(\n",
    "    f'Promedio de Edad con Imputación por Mediana: {df[\"age\"].fillna(mediana).mean()}'\n",
    ")"
   ]
  },
  {
   "cell_type": "code",
   "execution_count": null,
   "metadata": {},
   "outputs": [],
   "source": [
    "from sklearn.impute import SimpleImputer\n",
    "\n",
    "sc = SimpleImputer(strategy=\"mean\")\n",
    "data_imputed = sc.fit_transform(df[[\"age\"]])  # Ojo con el doble []\n",
    "data_imputed.isnull().sum()"
   ]
  },
  {
   "cell_type": "code",
   "execution_count": null,
   "metadata": {},
   "outputs": [],
   "source": [
    "mode = df[\"embark_town\"].mode()[0]  # Hablar del tipo de datos que es la Moda.\n",
    "df[\"embark_town\"].fillna(mode).isnull().sum()"
   ]
  },
  {
   "cell_type": "markdown",
   "metadata": {},
   "source": [
    "## Outliers"
   ]
  },
  {
   "cell_type": "code",
   "execution_count": null,
   "metadata": {},
   "outputs": [],
   "source": [
    "print(f\"Promedio de Tarifas: {df.fare.mean()}\")\n",
    "df[\"fare\"].agg([\"min\", \"max\"])"
   ]
  },
  {
   "cell_type": "markdown",
   "metadata": {},
   "source": [
    "* **lower**: Define la cota inferior.\n",
    "* **upper**: Define la cota superior."
   ]
  },
  {
   "cell_type": "code",
   "execution_count": null,
   "metadata": {},
   "outputs": [],
   "source": [
    "clipped_data = df[[\"fare\"]].clip(lower=10, upper=50)\n",
    "clipped_data.agg([\"min\", \"max\"])"
   ]
  },
  {
   "cell_type": "code",
   "execution_count": null,
   "metadata": {},
   "outputs": [],
   "source": [
    "df[[\"fare\"]]"
   ]
  },
  {
   "cell_type": "code",
   "execution_count": null,
   "metadata": {},
   "outputs": [],
   "source": [
    "clipped_data"
   ]
  },
  {
   "cell_type": "code",
   "execution_count": null,
   "metadata": {},
   "outputs": [],
   "source": [
    "from feature_engine.outliers import ArbitraryOutlierCapper, Winsorizer\n",
    "\n",
    "capper = ArbitraryOutlierCapper(\n",
    "    max_capping_dict=dict(fare=50), min_capping_dict=dict(fare=10)\n",
    ")\n",
    "capper.fit_transform(df[[\"fare\"]])"
   ]
  },
  {
   "cell_type": "markdown",
   "metadata": {},
   "source": [
    "* **capping_method**: Define la Estragegia a utilizar para el Winsorizer. Ver [Docs](https://feature-engine.trainindata.com/en/latest/api_doc/outliers/Winsorizer.html#feature_engine.outliers.Winsorize)."
   ]
  },
  {
   "cell_type": "code",
   "execution_count": null,
   "metadata": {},
   "outputs": [],
   "source": [
    "win = Winsorizer(capping_method=\"gaussian\")\n",
    "win.fit_transform(df[[\"fare\"]])"
   ]
  },
  {
   "cell_type": "markdown",
   "metadata": {},
   "source": [
    "## Variables Categóricas"
   ]
  },
  {
   "cell_type": "markdown",
   "metadata": {},
   "source": [
    "* **drop_first**: Si es `True` se elimina la primera categoría."
   ]
  },
  {
   "cell_type": "code",
   "execution_count": null,
   "metadata": {},
   "outputs": [],
   "source": [
    "pd.get_dummies(df[\"embark_town\"], drop_first=False)"
   ]
  },
  {
   "cell_type": "code",
   "execution_count": null,
   "metadata": {},
   "outputs": [],
   "source": [
    "pd.get_dummies(\n",
    "    df[\"embark_town\"], drop_first=True\n",
    ")  # No considera los Nulos como otra categoría..."
   ]
  },
  {
   "cell_type": "markdown",
   "metadata": {},
   "source": [
    "* **sort**: Usar `True` ya que coloca las categorías en orden. Además de esta manera se comporta igual que `OrdinalEncoder` de `Scikit-Learn`."
   ]
  },
  {
   "cell_type": "code",
   "execution_count": null,
   "metadata": {},
   "outputs": [],
   "source": [
    "pd.DataFrame(pd.factorize(df[\"embark_town\"], sort=True)[0], columns=[\"new_column\"])"
   ]
  },
  {
   "cell_type": "markdown",
   "metadata": {},
   "source": [
    "* **sparse_output**: Se debe fijar como False para poder ver el output como Pandas\n",
    "* **drop**: Se debe colocar `\"first\"` o el nombre de *una sóla categoría* a eliminar."
   ]
  },
  {
   "cell_type": "code",
   "execution_count": null,
   "metadata": {},
   "outputs": [],
   "source": [
    "from sklearn.preprocessing import OneHotEncoder, OrdinalEncoder\n",
    "\n",
    "ohe = OneHotEncoder(drop=\"first\", sparse_output=False)\n",
    "ohe.fit_transform(df[[\"embark_town\"]])"
   ]
  },
  {
   "cell_type": "code",
   "execution_count": null,
   "metadata": {},
   "outputs": [],
   "source": [
    "ohe = OneHotEncoder(\n",
    "    drop=[\"Queenstown\"], sparse_output=False\n",
    ")  # También se puede colocar np.nan.\n",
    "ohe.fit_transform(df[[\"embark_town\"]])"
   ]
  },
  {
   "cell_type": "code",
   "execution_count": null,
   "metadata": {},
   "outputs": [],
   "source": [
    "oe = OrdinalEncoder()\n",
    "oe.fit_transform(df[[\"embark_town\"]])"
   ]
  },
  {
   "cell_type": "markdown",
   "metadata": {},
   "source": [
    "## Escalamiento"
   ]
  },
  {
   "cell_type": "code",
   "execution_count": null,
   "metadata": {},
   "outputs": [],
   "source": [
    "from sklearn.preprocessing import StandardScaler, MinMaxScaler\n",
    "\n",
    "sc = StandardScaler()\n",
    "data = sc.fit_transform(df[[\"fare\"]])\n",
    "data.agg([\"mean\", \"std\"])"
   ]
  },
  {
   "cell_type": "code",
   "execution_count": null,
   "metadata": {},
   "outputs": [],
   "source": [
    "mms = MinMaxScaler()\n",
    "mms.fit_transform(df[[\"fare\"]]).agg([\"min\", \"max\"])"
   ]
  }
 ],
 "metadata": {
  "kernelspec": {
   "display_name": "base",
   "language": "python",
   "name": "python3"
  },
  "language_info": {
   "codemirror_mode": {
    "name": "ipython",
    "version": 3
   },
   "file_extension": ".py",
   "mimetype": "text/x-python",
   "name": "python",
   "nbconvert_exporter": "python",
   "pygments_lexer": "ipython3",
   "version": "3.9.16"
  }
 },
 "nbformat": 4,
 "nbformat_minor": 2
}
