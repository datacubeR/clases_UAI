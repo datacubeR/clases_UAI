{
  "nbformat": 4,
  "nbformat_minor": 0,
  "metadata": {
    "colab": {
      "provenance": []
    },
    "kernelspec": {
      "name": "python3",
      "display_name": "Python 3"
    },
    "language_info": {
      "name": "python"
    }
  },
  "cells": [
    {
      "cell_type": "code",
      "execution_count": 1,
      "metadata": {
        "colab": {
          "base_uri": "https://localhost:8080/"
        },
        "id": "JNKxxJj83saz",
        "outputId": "064a5f92-5db2-49a4-b390-1d59ea0c6b2f"
      },
      "outputs": [
        {
          "output_type": "stream",
          "name": "stdout",
          "text": [
            "============================================================\n",
            "Data antes de ser Normalizada: \n",
            "============================================================\n"
          ]
        },
        {
          "output_type": "execute_result",
          "data": {
            "text/plain": [
              "tensor([[16., 14., 12.],\n",
              "        [15.,  3., 15.],\n",
              "        [16.,  7.,  6.],\n",
              "        [14.,  3., 16.],\n",
              "        [ 4.,  4., 18.],\n",
              "        [ 8., 11.,  9.],\n",
              "        [18., 18., 14.],\n",
              "        [ 5., 17., 11.],\n",
              "        [15.,  9., 11.],\n",
              "        [10.,  7.,  7.]])"
            ]
          },
          "metadata": {},
          "execution_count": 1
        }
      ],
      "source": [
        "import torch\n",
        "import torch.nn as nn\n",
        "torch.manual_seed(42)\n",
        "\n",
        "X = torch.randint(1,20, (10, 3)).float()\n",
        "print(\"=\"*60)\n",
        "print(\"Data antes de ser Normalizada: \")\n",
        "print(\"=\"*60)\n",
        "X"
      ]
    },
    {
      "cell_type": "markdown",
      "source": [
        "## 1. BatchNorm"
      ],
      "metadata": {
        "id": "aPYUK_v0Href"
      }
    },
    {
      "cell_type": "code",
      "source": [
        "bn = nn.BatchNorm1d(3)\n",
        "bn.train()\n",
        "output_pytorch= bn(X)\n",
        "print(\"=\"*60)\n",
        "print(\"Forward Pass Train utilizando Pytorch\")\n",
        "print(\"=\"*60)\n",
        "output_pytorch"
      ],
      "metadata": {
        "colab": {
          "base_uri": "https://localhost:8080/"
        },
        "id": "nyIqT_aG32xe",
        "outputId": "870dcc8f-66ca-4612-891e-17f3a8dde901"
      },
      "execution_count": 2,
      "outputs": [
        {
          "output_type": "stream",
          "name": "stdout",
          "text": [
            "============================================================\n",
            "Forward Pass Train utilizando Pytorch\n",
            "============================================================\n"
          ]
        },
        {
          "output_type": "execute_result",
          "data": {
            "text/plain": [
              "tensor([[ 0.8261,  0.8912,  0.0270],\n",
              "        [ 0.6142, -1.1946,  0.8378],\n",
              "        [ 0.8261, -0.4361, -1.5946],\n",
              "        [ 0.4024, -1.1946,  1.1081],\n",
              "        [-1.7157, -1.0050,  1.6486],\n",
              "        [-0.8684,  0.3224, -0.7838],\n",
              "        [ 1.2497,  1.6498,  0.5676],\n",
              "        [-1.5038,  1.4601, -0.2432],\n",
              "        [ 0.6142, -0.0569, -0.2432],\n",
              "        [-0.4448, -0.4361, -1.3243]], grad_fn=<NativeBatchNormBackward0>)"
            ]
          },
          "metadata": {},
          "execution_count": 2
        }
      ]
    },
    {
      "cell_type": "code",
      "source": [
        "print(\"=\"*60)\n",
        "print(\"Parámetros Utilizados: \")\n",
        "print(\"=\"*60)\n",
        "bn.weight.data, bn.bias.data"
      ],
      "metadata": {
        "colab": {
          "base_uri": "https://localhost:8080/"
        },
        "id": "Ip89SFBPGFsN",
        "outputId": "2aca87cb-1518-4157-ea7b-7b6db9dac6b8"
      },
      "execution_count": 3,
      "outputs": [
        {
          "output_type": "stream",
          "name": "stdout",
          "text": [
            "============================================================\n",
            "Parámetros Utilizados: \n",
            "============================================================\n"
          ]
        },
        {
          "output_type": "execute_result",
          "data": {
            "text/plain": [
              "(tensor([1., 1., 1.]), tensor([0., 0., 0.]))"
            ]
          },
          "metadata": {},
          "execution_count": 3
        }
      ]
    },
    {
      "cell_type": "code",
      "source": [
        "print(\"=\"*60)\n",
        "print(\"Promedio y Varianza Acumuladas\")\n",
        "print(\"=\"*60)\n",
        "bn.running_mean, bn.running_var"
      ],
      "metadata": {
        "colab": {
          "base_uri": "https://localhost:8080/"
        },
        "id": "s1S6jE-iAg6I",
        "outputId": "b8b5ac35-b20c-45dd-84ed-866f743c9c11"
      },
      "execution_count": 4,
      "outputs": [
        {
          "output_type": "stream",
          "name": "stdout",
          "text": [
            "============================================================\n",
            "Promedio y Varianza Acumuladas\n",
            "============================================================\n"
          ]
        },
        {
          "output_type": "execute_result",
          "data": {
            "text/plain": [
              "(tensor([1.2100, 0.9300, 1.1900]), tensor([3.3767, 3.9900, 2.4211]))"
            ]
          },
          "metadata": {},
          "execution_count": 4
        }
      ]
    },
    {
      "cell_type": "markdown",
      "source": [
        "## Cálculo Manual"
      ],
      "metadata": {
        "id": "gnEtZFi0GQXB"
      }
    },
    {
      "cell_type": "code",
      "source": [
        "eps = 1e-5\n",
        "batch_mean = X.mean(dim=0, keepdim=True)\n",
        "batch_var_train = X.var(dim=0, unbiased=False, keepdim=True)\n",
        "x_norm = (X-batch_mean)/torch.sqrt(batch_var_train + eps)\n",
        "w = torch.tensor([1,1,1])\n",
        "b = torch.tensor([0,0,0])\n",
        "\n",
        "\n",
        "print(\"=\"*60)\n",
        "print(\"Forward Pass Train obtenido Manualmente\")\n",
        "print(\"=\"*60)\n",
        "w*x_norm + b"
      ],
      "metadata": {
        "colab": {
          "base_uri": "https://localhost:8080/"
        },
        "id": "JQgDb3N3Ezm8",
        "outputId": "32947aa2-aff1-449d-d375-574bfdfe537c"
      },
      "execution_count": 5,
      "outputs": [
        {
          "output_type": "stream",
          "name": "stdout",
          "text": [
            "============================================================\n",
            "Forward Pass Train obtenido Manualmente\n",
            "============================================================\n"
          ]
        },
        {
          "output_type": "execute_result",
          "data": {
            "text/plain": [
              "tensor([[ 0.8261,  0.8912,  0.0270],\n",
              "        [ 0.6142, -1.1946,  0.8378],\n",
              "        [ 0.8261, -0.4361, -1.5946],\n",
              "        [ 0.4024, -1.1946,  1.1081],\n",
              "        [-1.7157, -1.0050,  1.6486],\n",
              "        [-0.8684,  0.3224, -0.7838],\n",
              "        [ 1.2497,  1.6498,  0.5676],\n",
              "        [-1.5038,  1.4601, -0.2432],\n",
              "        [ 0.6142, -0.0569, -0.2432],\n",
              "        [-0.4448, -0.4361, -1.3243]])"
            ]
          },
          "metadata": {},
          "execution_count": 5
        }
      ]
    },
    {
      "cell_type": "code",
      "source": [
        "batch_var_train"
      ],
      "metadata": {
        "colab": {
          "base_uri": "https://localhost:8080/"
        },
        "id": "3gY5AvnrfXrD",
        "outputId": "6c818660-b9eb-4631-82a9-0048d3a8a5d6"
      },
      "execution_count": 6,
      "outputs": [
        {
          "output_type": "execute_result",
          "data": {
            "text/plain": [
              "tensor([[22.2900, 27.8100, 13.6900]])"
            ]
          },
          "metadata": {},
          "execution_count": 6
        }
      ]
    },
    {
      "cell_type": "code",
      "source": [
        "print(\"=\"*60)\n",
        "print(\"Test Time: \")\n",
        "print(\"=\"*60)\n",
        "\n",
        "batch_var_eval = X.var(dim=0, unbiased=True, keepdim=True)\n",
        "\n",
        "alpha = 0.1\n",
        "rm = (1-alpha)*torch.tensor([0,0,0]) + alpha*batch_mean\n",
        "rv = (1-alpha)*torch.tensor([1,1,1]) + alpha*batch_var_eval\n",
        "print(\"Media: \")\n",
        "print(rm)\n",
        "print(\"Varianza: \")\n",
        "print(rv)\n",
        "\n",
        "print(\"Normalización en Modo Evaluación obtenido de manera manual...\")\n",
        "print(\"=\"*60)\n",
        "x_normalized_eval = (X - rm)/torch.sqrt(rv + eps)\n",
        "bn.weight.data*x_normalized_eval+bn.bias.data"
      ],
      "metadata": {
        "colab": {
          "base_uri": "https://localhost:8080/"
        },
        "id": "WT8KOXmwHF_i",
        "outputId": "df478348-e29d-4ba9-8d4b-1a3402c17e6d"
      },
      "execution_count": 7,
      "outputs": [
        {
          "output_type": "stream",
          "name": "stdout",
          "text": [
            "============================================================\n",
            "Test Time: \n",
            "============================================================\n",
            "Media: \n",
            "tensor([[1.2100, 0.9300, 1.1900]])\n",
            "Varianza: \n",
            "tensor([[3.3767, 3.9900, 2.4211]])\n",
            "Normalización en Modo Evaluación obtenido de manera manual...\n",
            "============================================================\n"
          ]
        },
        {
          "output_type": "execute_result",
          "data": {
            "text/plain": [
              "tensor([[ 8.0487,  6.5432,  6.9473],\n",
              "        [ 7.5045,  1.0363,  8.8753],\n",
              "        [ 8.0487,  3.0388,  3.0913],\n",
              "        [ 6.9603,  1.0363,  9.5180],\n",
              "        [ 1.5183,  1.5369, 10.8034],\n",
              "        [ 3.6951,  5.0413,  5.0193],\n",
              "        [ 9.1370,  8.5457,  8.2327],\n",
              "        [ 2.0625,  8.0451,  6.3046],\n",
              "        [ 7.5045,  4.0400,  6.3046],\n",
              "        [ 4.7835,  3.0388,  3.7339]])"
            ]
          },
          "metadata": {},
          "execution_count": 7
        }
      ]
    },
    {
      "cell_type": "code",
      "source": [
        "bn.eval()\n",
        "print(\"=\"*60)\n",
        "print(\"Forward Pass en Modo Evaluación usando Pytorch...\")\n",
        "print(\"=\"*60)\n",
        "bn(X)"
      ],
      "metadata": {
        "colab": {
          "base_uri": "https://localhost:8080/"
        },
        "id": "QZ7chxW0LQrq",
        "outputId": "494b5524-246a-4de4-f3ea-3bfc0425d45d"
      },
      "execution_count": 8,
      "outputs": [
        {
          "output_type": "stream",
          "name": "stdout",
          "text": [
            "============================================================\n",
            "Forward Pass en Modo Evaluación usando Pytorch...\n",
            "============================================================\n"
          ]
        },
        {
          "output_type": "execute_result",
          "data": {
            "text/plain": [
              "tensor([[ 8.0487,  6.5432,  6.9473],\n",
              "        [ 7.5045,  1.0363,  8.8753],\n",
              "        [ 8.0487,  3.0388,  3.0913],\n",
              "        [ 6.9603,  1.0363,  9.5180],\n",
              "        [ 1.5183,  1.5369, 10.8034],\n",
              "        [ 3.6951,  5.0413,  5.0193],\n",
              "        [ 9.1370,  8.5457,  8.2327],\n",
              "        [ 2.0625,  8.0451,  6.3046],\n",
              "        [ 7.5045,  4.0400,  6.3046],\n",
              "        [ 4.7835,  3.0388,  3.7339]], grad_fn=<NativeBatchNormBackward0>)"
            ]
          },
          "metadata": {},
          "execution_count": 8
        }
      ]
    },
    {
      "cell_type": "markdown",
      "source": [
        "## 2. Layer Norm"
      ],
      "metadata": {
        "id": "sLPHzRp7HknZ"
      }
    },
    {
      "cell_type": "code",
      "source": [
        "ln = nn.LayerNorm(3)\n",
        "output_pytorch = ln(X)\n",
        "print(\"=\"*60)\n",
        "print(\"Forward Pass obtenido utilizando Pytorch\")\n",
        "print(\"=\"*60)\n",
        "output_pytorch"
      ],
      "metadata": {
        "colab": {
          "base_uri": "https://localhost:8080/"
        },
        "id": "5q-WnPmgImO4",
        "outputId": "95cc2282-014c-4116-f68f-8cc386b2390c"
      },
      "execution_count": 9,
      "outputs": [
        {
          "output_type": "stream",
          "name": "stdout",
          "text": [
            "============================================================\n",
            "Forward Pass obtenido utilizando Pytorch\n",
            "============================================================\n"
          ]
        },
        {
          "output_type": "execute_result",
          "data": {
            "text/plain": [
              "tensor([[ 1.2247,  0.0000, -1.2247],\n",
              "        [ 0.7071, -1.4142,  0.7071],\n",
              "        [ 1.4084, -0.5930, -0.8154],\n",
              "        [ 0.5249, -1.3997,  0.8748],\n",
              "        [-0.7071, -0.7071,  1.4142],\n",
              "        [-1.0690,  1.3363, -0.2673],\n",
              "        [ 0.7071,  0.7071, -1.4142],\n",
              "        [-1.2247,  1.2247,  0.0000],\n",
              "        [ 1.3363, -1.0690, -0.2673],\n",
              "        [ 1.4142, -0.7071, -0.7071]], grad_fn=<NativeLayerNormBackward0>)"
            ]
          },
          "metadata": {},
          "execution_count": 9
        }
      ]
    },
    {
      "cell_type": "code",
      "source": [
        "print(\"=\"*60)\n",
        "print(\"Parámetros Iniciales: \")\n",
        "print(\"=\"*60)\n",
        "ln.weight.data, ln.bias.data"
      ],
      "metadata": {
        "colab": {
          "base_uri": "https://localhost:8080/"
        },
        "id": "m9MiWKdZJChl",
        "outputId": "b9ea4335-ff90-407e-9bfa-a30f5e9a6ffd"
      },
      "execution_count": 10,
      "outputs": [
        {
          "output_type": "stream",
          "name": "stdout",
          "text": [
            "============================================================\n",
            "Parámetros Iniciales: \n",
            "============================================================\n"
          ]
        },
        {
          "output_type": "execute_result",
          "data": {
            "text/plain": [
              "(tensor([1., 1., 1.]), tensor([0., 0., 0.]))"
            ]
          },
          "metadata": {},
          "execution_count": 10
        }
      ]
    },
    {
      "cell_type": "code",
      "source": [
        "eps = 1e-5\n",
        "sample_mean = X.mean(dim=1, keepdim=True)\n",
        "sample_var = X.var(dim=1, unbiased=False, keepdim=True)\n",
        "x_normalized = (X - sample_mean) / torch.sqrt(sample_var + eps)\n",
        "print(\"=\"*60)\n",
        "print(\"Forward Pass Obtenido de manera Manual\")\n",
        "print(\"=\"*60)\n",
        "ln.weight.data*x_normalized + ln.bias.data"
      ],
      "metadata": {
        "colab": {
          "base_uri": "https://localhost:8080/"
        },
        "id": "lC-J9EqhIuDa",
        "outputId": "b6f5588d-48e1-44c3-90af-8ea2a79df868"
      },
      "execution_count": 11,
      "outputs": [
        {
          "output_type": "stream",
          "name": "stdout",
          "text": [
            "============================================================\n",
            "Forward Pass Obtenido de manera Manual\n",
            "============================================================\n"
          ]
        },
        {
          "output_type": "execute_result",
          "data": {
            "text/plain": [
              "tensor([[ 1.2247,  0.0000, -1.2247],\n",
              "        [ 0.7071, -1.4142,  0.7071],\n",
              "        [ 1.4084, -0.5930, -0.8154],\n",
              "        [ 0.5249, -1.3997,  0.8748],\n",
              "        [-0.7071, -0.7071,  1.4142],\n",
              "        [-1.0690,  1.3363, -0.2673],\n",
              "        [ 0.7071,  0.7071, -1.4142],\n",
              "        [-1.2247,  1.2247,  0.0000],\n",
              "        [ 1.3363, -1.0690, -0.2673],\n",
              "        [ 1.4142, -0.7071, -0.7071]])"
            ]
          },
          "metadata": {},
          "execution_count": 11
        }
      ]
    },
    {
      "cell_type": "markdown",
      "source": [
        "## 3. RMSNorm"
      ],
      "metadata": {
        "id": "ZyFuTjoF46wa"
      }
    },
    {
      "cell_type": "code",
      "source": [
        "print(\"=\"*60)\n",
        "print(\"Forward Pass Obtenido utilizando Pytorch\")\n",
        "print(\"=\"*60)\n",
        "rms_layer = nn.RMSNorm(3)\n",
        "rms_layer(X)"
      ],
      "metadata": {
        "colab": {
          "base_uri": "https://localhost:8080/"
        },
        "id": "xZuVFKer49pE",
        "outputId": "bc6ea295-1ff1-4aa4-b3ab-e1c35eeeb013"
      },
      "execution_count": 12,
      "outputs": [
        {
          "output_type": "stream",
          "name": "stdout",
          "text": [
            "============================================================\n",
            "Forward Pass Obtenido utilizando Pytorch\n",
            "============================================================\n"
          ]
        },
        {
          "output_type": "execute_result",
          "data": {
            "text/plain": [
              "tensor([[1.1352, 0.9933, 0.8514],\n",
              "        [1.2127, 0.2425, 1.2127],\n",
              "        [1.5007, 0.6566, 0.5628],\n",
              "        [1.1294, 0.2420, 1.2907],\n",
              "        [0.3672, 0.3672, 1.6524],\n",
              "        [0.8496, 1.1682, 0.9558],\n",
              "        [1.0732, 1.0732, 0.8347],\n",
              "        [0.4152, 1.4118, 0.9135],\n",
              "        [1.2573, 0.7544, 0.9220],\n",
              "        [1.2309, 0.8616, 0.8616]], grad_fn=<MulBackward0>)"
            ]
          },
          "metadata": {},
          "execution_count": 12
        }
      ]
    },
    {
      "cell_type": "code",
      "source": [
        "print(\"=\"*60)\n",
        "print(\"Forward Pass Obtenido de manera Manual\")\n",
        "print(\"=\"*60)\n",
        "rms = torch.sqrt((X**2).mean(dim=1, keepdims = True))\n",
        "rms_layer.weight.data*X/rms"
      ],
      "metadata": {
        "colab": {
          "base_uri": "https://localhost:8080/"
        },
        "id": "CIHsxDvH5pDQ",
        "outputId": "f8953240-80fb-47b3-f858-4d81348c436c"
      },
      "execution_count": 13,
      "outputs": [
        {
          "output_type": "stream",
          "name": "stdout",
          "text": [
            "============================================================\n",
            "Forward Pass Obtenido de manera Manual\n",
            "============================================================\n"
          ]
        },
        {
          "output_type": "execute_result",
          "data": {
            "text/plain": [
              "tensor([[1.1352, 0.9933, 0.8514],\n",
              "        [1.2127, 0.2425, 1.2127],\n",
              "        [1.5007, 0.6566, 0.5628],\n",
              "        [1.1294, 0.2420, 1.2907],\n",
              "        [0.3672, 0.3672, 1.6524],\n",
              "        [0.8496, 1.1682, 0.9558],\n",
              "        [1.0732, 1.0732, 0.8347],\n",
              "        [0.4152, 1.4118, 0.9135],\n",
              "        [1.2573, 0.7544, 0.9220],\n",
              "        [1.2309, 0.8616, 0.8616]])"
            ]
          },
          "metadata": {},
          "execution_count": 13
        }
      ]
    },
    {
      "cell_type": "markdown",
      "source": [
        "## Dropout"
      ],
      "metadata": {
        "id": "dV1r3gcjMJqK"
      }
    },
    {
      "cell_type": "code",
      "source": [
        "torch.manual_seed(42)\n",
        "p = 0.5\n",
        "do = nn.Dropout(p = p)\n",
        "do.train()\n",
        "output_pytorch = do(X)\n",
        "print(\"=\"*60)\n",
        "print(\"Output obtenido utilizando Pytorch\")\n",
        "print(\"=\"*60)\n",
        "output_pytorch"
      ],
      "metadata": {
        "colab": {
          "base_uri": "https://localhost:8080/"
        },
        "id": "hxvL5qVIMKfc",
        "outputId": "4cb68bed-47d9-4ee4-a3d4-0c22f6aed2ce"
      },
      "execution_count": 14,
      "outputs": [
        {
          "output_type": "stream",
          "name": "stdout",
          "text": [
            "============================================================\n",
            "Output obtenido utilizando Pytorch\n",
            "============================================================\n"
          ]
        },
        {
          "output_type": "execute_result",
          "data": {
            "text/plain": [
              "tensor([[32., 28., 24.],\n",
              "        [30.,  0., 30.],\n",
              "        [ 0.,  0., 12.],\n",
              "        [28.,  6., 32.],\n",
              "        [ 0.,  0., 36.],\n",
              "        [ 0., 22.,  0.],\n",
              "        [ 0., 36., 28.],\n",
              "        [ 0., 34., 22.],\n",
              "        [30., 18.,  0.],\n",
              "        [20., 14., 14.]])"
            ]
          },
          "metadata": {},
          "execution_count": 14
        }
      ]
    },
    {
      "cell_type": "code",
      "source": [
        "print(\"=\"*60)\n",
        "print(\"Se genera una máscara aleatoria de los Elementos a mantenerse...\")\n",
        "print(\"=\"*60)\n",
        "mask = torch.where(output_pytorch!=0, 1, 0)\n",
        "mask"
      ],
      "metadata": {
        "colab": {
          "base_uri": "https://localhost:8080/"
        },
        "id": "jpX-goj4NZ_Q",
        "outputId": "2899f683-3cca-48a2-af48-6adadfdcff05"
      },
      "execution_count": 15,
      "outputs": [
        {
          "output_type": "stream",
          "name": "stdout",
          "text": [
            "============================================================\n",
            "Se genera una máscara aleatoria de los Elementos a mantenerse...\n",
            "============================================================\n"
          ]
        },
        {
          "output_type": "execute_result",
          "data": {
            "text/plain": [
              "tensor([[1, 1, 1],\n",
              "        [1, 0, 1],\n",
              "        [0, 0, 1],\n",
              "        [1, 1, 1],\n",
              "        [0, 0, 1],\n",
              "        [0, 1, 0],\n",
              "        [0, 1, 1],\n",
              "        [0, 1, 1],\n",
              "        [1, 1, 0],\n",
              "        [1, 1, 1]])"
            ]
          },
          "metadata": {},
          "execution_count": 15
        }
      ]
    },
    {
      "cell_type": "code",
      "source": [
        "print(\"=\"*60)\n",
        "print(\"A todos los elementos escogidos para mantenerse son escalados...\")\n",
        "print(\"=\"*60)\n",
        "scale = 1/(1-p)\n",
        "print(\"\")\n",
        "print(\"=\"*60)\n",
        "print(\"Output Obtenido Manualmente\")\n",
        "print(\"=\"*60)\n",
        "x_do = X*mask*scale\n",
        "x_do"
      ],
      "metadata": {
        "colab": {
          "base_uri": "https://localhost:8080/"
        },
        "id": "TjocP1ojNjpB",
        "outputId": "43ab887d-5feb-4d1a-a05e-2f1000d34ea3"
      },
      "execution_count": 16,
      "outputs": [
        {
          "output_type": "stream",
          "name": "stdout",
          "text": [
            "============================================================\n",
            "A todos los elementos escogidos para mantenerse son escalados...\n",
            "============================================================\n",
            "\n",
            "============================================================\n",
            "Output Obtenido Manualmente\n",
            "============================================================\n"
          ]
        },
        {
          "output_type": "execute_result",
          "data": {
            "text/plain": [
              "tensor([[32., 28., 24.],\n",
              "        [30.,  0., 30.],\n",
              "        [ 0.,  0., 12.],\n",
              "        [28.,  6., 32.],\n",
              "        [ 0.,  0., 36.],\n",
              "        [ 0., 22.,  0.],\n",
              "        [ 0., 36., 28.],\n",
              "        [ 0., 34., 22.],\n",
              "        [30., 18.,  0.],\n",
              "        [20., 14., 14.]])"
            ]
          },
          "metadata": {},
          "execution_count": 16
        }
      ]
    },
    {
      "cell_type": "code",
      "source": [
        "do = nn.Dropout(p = p)\n",
        "do.eval()\n",
        "output_pytorch = do(X)\n",
        "output_pytorch"
      ],
      "metadata": {
        "colab": {
          "base_uri": "https://localhost:8080/"
        },
        "id": "eAYg4qm7E7KH",
        "outputId": "97f860c8-3600-4bde-ae66-05b7ebf362b5"
      },
      "execution_count": 17,
      "outputs": [
        {
          "output_type": "execute_result",
          "data": {
            "text/plain": [
              "tensor([[16., 14., 12.],\n",
              "        [15.,  3., 15.],\n",
              "        [16.,  7.,  6.],\n",
              "        [14.,  3., 16.],\n",
              "        [ 4.,  4., 18.],\n",
              "        [ 8., 11.,  9.],\n",
              "        [18., 18., 14.],\n",
              "        [ 5., 17., 11.],\n",
              "        [15.,  9., 11.],\n",
              "        [10.,  7.,  7.]])"
            ]
          },
          "metadata": {},
          "execution_count": 17
        }
      ]
    },
    {
      "cell_type": "markdown",
      "source": [
        "## Inicialización de Parámetros"
      ],
      "metadata": {
        "id": "hPuY90CwOyyU"
      }
    },
    {
      "cell_type": "code",
      "source": [
        "fc = nn.Linear(5,3)\n",
        "fc.weight.data, fc.bias.data"
      ],
      "metadata": {
        "colab": {
          "base_uri": "https://localhost:8080/"
        },
        "id": "XktelqOTPmZw",
        "outputId": "c9086a69-a5fb-43f7-fe9e-c68e9a44846a"
      },
      "execution_count": 18,
      "outputs": [
        {
          "output_type": "execute_result",
          "data": {
            "text/plain": [
              "(tensor([[ 0.0282, -0.3052,  0.1379, -0.1540,  0.1370],\n",
              "         [-0.0932,  0.3709, -0.2651, -0.2667, -0.2667],\n",
              "         [ 0.4022,  0.1490,  0.4303, -0.3691, -0.4436]]),\n",
              " tensor([-0.3499, -0.3008,  0.1811]))"
            ]
          },
          "metadata": {},
          "execution_count": 18
        }
      ]
    },
    {
      "cell_type": "code",
      "source": [
        "nn.init.ones_(fc.weight)\n",
        "fc.weight.data, fc.bias.data"
      ],
      "metadata": {
        "colab": {
          "base_uri": "https://localhost:8080/"
        },
        "id": "WgEsP5CjPqYR",
        "outputId": "40689e6e-a374-4a81-bbd6-8d9f47a58247"
      },
      "execution_count": 19,
      "outputs": [
        {
          "output_type": "execute_result",
          "data": {
            "text/plain": [
              "(tensor([[1., 1., 1., 1., 1.],\n",
              "         [1., 1., 1., 1., 1.],\n",
              "         [1., 1., 1., 1., 1.]]),\n",
              " tensor([-0.3499, -0.3008,  0.1811]))"
            ]
          },
          "metadata": {},
          "execution_count": 19
        }
      ]
    },
    {
      "cell_type": "code",
      "source": [
        "nn.init.ones_(fc.weight)\n",
        "nn.init.zeros_(fc.bias)\n",
        "fc.weight.data, fc.bias.data"
      ],
      "metadata": {
        "colab": {
          "base_uri": "https://localhost:8080/"
        },
        "id": "t2Tka9A_P6Yr",
        "outputId": "49e56315-6ac1-4e0f-ad74-abc1e01f9bd7"
      },
      "execution_count": 20,
      "outputs": [
        {
          "output_type": "execute_result",
          "data": {
            "text/plain": [
              "(tensor([[1., 1., 1., 1., 1.],\n",
              "         [1., 1., 1., 1., 1.],\n",
              "         [1., 1., 1., 1., 1.]]),\n",
              " tensor([0., 0., 0.]))"
            ]
          },
          "metadata": {},
          "execution_count": 20
        }
      ]
    },
    {
      "cell_type": "code",
      "source": [
        "nn.init.ones_(fc.weight)\n",
        "nn.init.zeros_(fc.bias)\n",
        "fc.weight.data, fc.bias.data"
      ],
      "metadata": {
        "id": "lCla6-3IQLuM",
        "colab": {
          "base_uri": "https://localhost:8080/"
        },
        "outputId": "b378f093-c65b-476f-8687-2089a7615000"
      },
      "execution_count": 21,
      "outputs": [
        {
          "output_type": "execute_result",
          "data": {
            "text/plain": [
              "(tensor([[1., 1., 1., 1., 1.],\n",
              "         [1., 1., 1., 1., 1.],\n",
              "         [1., 1., 1., 1., 1.]]),\n",
              " tensor([0., 0., 0.]))"
            ]
          },
          "metadata": {},
          "execution_count": 21
        }
      ]
    },
    {
      "cell_type": "code",
      "source": [
        "nn.init.constant_(fc.weight, 0.3)\n",
        "nn.init.constant_(fc.bias, 0.5)\n",
        "fc.weight.data, fc.bias.data"
      ],
      "metadata": {
        "colab": {
          "base_uri": "https://localhost:8080/"
        },
        "id": "cA_SHzjnQYji",
        "outputId": "9a90eab0-8e02-4e84-8487-f5feeb7e49c7"
      },
      "execution_count": 22,
      "outputs": [
        {
          "output_type": "execute_result",
          "data": {
            "text/plain": [
              "(tensor([[0.3000, 0.3000, 0.3000, 0.3000, 0.3000],\n",
              "         [0.3000, 0.3000, 0.3000, 0.3000, 0.3000],\n",
              "         [0.3000, 0.3000, 0.3000, 0.3000, 0.3000]]),\n",
              " tensor([0.5000, 0.5000, 0.5000]))"
            ]
          },
          "metadata": {},
          "execution_count": 22
        }
      ]
    },
    {
      "cell_type": "code",
      "source": [
        "nn.init.uniform_(fc.weight, 1,100)\n",
        "fc.weight.data"
      ],
      "metadata": {
        "colab": {
          "base_uri": "https://localhost:8080/"
        },
        "id": "bpyHrtBOQd6v",
        "outputId": "246b83b7-d438-43fd-f2bb-686060d90e3f"
      },
      "execution_count": 23,
      "outputs": [
        {
          "output_type": "execute_result",
          "data": {
            "text/plain": [
              "tensor([[68.2248, 91.6308, 24.9369, 16.7553, 76.7636],\n",
              "        [30.4919, 80.5427, 38.7536, 78.8163, 12.0401],\n",
              "        [25.5198, 65.5914, 60.9647, 37.8795, 80.0054]])"
            ]
          },
          "metadata": {},
          "execution_count": 23
        }
      ]
    },
    {
      "cell_type": "code",
      "source": [
        "torch.nn.init.calculate_gain(\"relu\", param=None)\n",
        "nn.init.xavier_uniform_(fc.weight.data, gain=nn.init.calculate_gain(\"relu\"))"
      ],
      "metadata": {
        "id": "dlL9aMgXQ8zH",
        "colab": {
          "base_uri": "https://localhost:8080/"
        },
        "outputId": "48424650-4940-4038-b3ee-35240d82126d"
      },
      "execution_count": 24,
      "outputs": [
        {
          "output_type": "execute_result",
          "data": {
            "text/plain": [
              "tensor([[ 0.8326, -0.8882, -0.6539,  1.1215, -0.4133],\n",
              "        [-0.4342, -1.1851, -0.7014,  0.3059, -0.1617],\n",
              "        [-0.8890,  0.0287, -0.8366, -1.0391, -0.6744]])"
            ]
          },
          "metadata": {},
          "execution_count": 24
        }
      ]
    },
    {
      "cell_type": "code",
      "source": [
        "nn.init.kaiming_uniform_(fc.weight.data, mode=\"fan_in\", nonlinearity=\"relu\")"
      ],
      "metadata": {
        "colab": {
          "base_uri": "https://localhost:8080/"
        },
        "id": "aJ_mDha_HM3y",
        "outputId": "9987b7c5-4d3b-45a6-982b-53308c9496e1"
      },
      "execution_count": 25,
      "outputs": [
        {
          "output_type": "execute_result",
          "data": {
            "text/plain": [
              "tensor([[-0.9587, -0.6975,  1.0950,  0.2069,  0.3376],\n",
              "        [-1.0217, -0.7195, -0.3646,  0.1713, -0.9639],\n",
              "        [-0.4720, -0.6558,  0.0030, -0.4076, -0.0759]])"
            ]
          },
          "metadata": {},
          "execution_count": 25
        }
      ]
    },
    {
      "cell_type": "markdown",
      "source": [
        "## Checkpoint"
      ],
      "metadata": {
        "id": "MS_zf8FXJ2Tl"
      }
    },
    {
      "cell_type": "code",
      "source": [
        "## Checkpoint\n",
        "\n",
        "X = torch.randint(1,20, (10, 3)).float()\n",
        "y = torch.randint(0,2, (10,)).float()\n",
        "\n",
        "class Net(nn.Module):\n",
        "    def __init__(self):\n",
        "        super().__init__()\n",
        "        self.fc = nn.Linear(3, 1)\n",
        "\n",
        "    def forward(self, x):\n",
        "        return self.fc(x)\n",
        "\n"
      ],
      "metadata": {
        "id": "THcfytRlGk25"
      },
      "execution_count": 26,
      "outputs": []
    },
    {
      "cell_type": "code",
      "source": [
        "torch.manual_seed(42)\n",
        "epochs=20\n",
        "epoch_loss = []\n",
        "model = Net()\n",
        "optimizer = torch.optim.SGD(model.parameters(), lr=0.01)\n",
        "criterion = nn.BCEWithLogitsLoss()\n",
        "for e in range(epochs):\n",
        "  model.train()\n",
        "  optimizer.zero_grad()\n",
        "  logits = model(X)\n",
        "  loss = criterion(logits, y.unsqueeze(-1))\n",
        "  loss.backward()\n",
        "  optimizer.step()\n",
        "  epoch_loss.append(loss.item())\n",
        "  print(f\"Epoch: {e+1}. Loss: {loss.item()}\")\n",
        "\n",
        "model.fc.weight.data"
      ],
      "metadata": {
        "colab": {
          "base_uri": "https://localhost:8080/"
        },
        "id": "ssgwjpHTIStv",
        "outputId": "c880d1a0-3a22-4f21-dac8-386aea0ab6ed"
      },
      "execution_count": 27,
      "outputs": [
        {
          "output_type": "stream",
          "name": "stdout",
          "text": [
            "Epoch: 1. Loss: 5.684591770172119\n",
            "Epoch: 2. Loss: 4.632599830627441\n",
            "Epoch: 3. Loss: 3.6506359577178955\n",
            "Epoch: 4. Loss: 2.812757968902588\n",
            "Epoch: 5. Loss: 2.171171188354492\n",
            "Epoch: 6. Loss: 1.7123682498931885\n",
            "Epoch: 7. Loss: 1.4345756769180298\n",
            "Epoch: 8. Loss: 1.284837007522583\n",
            "Epoch: 9. Loss: 1.182861089706421\n",
            "Epoch: 10. Loss: 1.0974228382110596\n",
            "Epoch: 11. Loss: 1.0225789546966553\n",
            "Epoch: 12. Loss: 0.9574964642524719\n",
            "Epoch: 13. Loss: 0.9016749262809753\n",
            "Epoch: 14. Loss: 0.8543142080307007\n",
            "Epoch: 15. Loss: 0.8144165277481079\n",
            "Epoch: 16. Loss: 0.7809440493583679\n",
            "Epoch: 17. Loss: 0.7529222965240479\n",
            "Epoch: 18. Loss: 0.7294866442680359\n",
            "Epoch: 19. Loss: 0.7098948359489441\n",
            "Epoch: 20. Loss: 0.6935199499130249\n"
          ]
        },
        {
          "output_type": "execute_result",
          "data": {
            "text/plain": [
              "tensor([[ 0.1235, -0.1139, -0.0554]])"
            ]
          },
          "metadata": {},
          "execution_count": 27
        }
      ]
    },
    {
      "cell_type": "code",
      "source": [
        "checkpoint = {\n",
        "    'epoch': epochs,\n",
        "    'model_state_dict': model.state_dict(),\n",
        "    'optimizer_state_dict': optimizer.state_dict(),\n",
        "    'loss': loss\n",
        "}\n",
        "\n",
        "torch.save(checkpoint, 'checkpoint.pth')"
      ],
      "metadata": {
        "id": "5gYfqDqvIjRX"
      },
      "execution_count": 28,
      "outputs": []
    },
    {
      "cell_type": "code",
      "source": [
        "checkpoint = torch.load('checkpoint.pth')\n",
        "\n",
        "model.load_state_dict(checkpoint['model_state_dict'])\n",
        "optimizer.load_state_dict(checkpoint['optimizer_state_dict'])\n",
        "epoch = checkpoint['epoch']\n",
        "loss = checkpoint['loss']\n",
        "\n",
        "print(f\"✅ Loaded checkpoint from epoch {epoch}, loss={loss}\")"
      ],
      "metadata": {
        "colab": {
          "base_uri": "https://localhost:8080/"
        },
        "id": "F9rEtx_4I-a1",
        "outputId": "a687ece0-0776-4803-89a6-118344c35387"
      },
      "execution_count": 29,
      "outputs": [
        {
          "output_type": "stream",
          "name": "stdout",
          "text": [
            "✅ Loaded checkpoint from epoch 20, loss=0.6935199499130249\n"
          ]
        }
      ]
    },
    {
      "cell_type": "code",
      "source": [
        "model.fc.weight.data"
      ],
      "metadata": {
        "colab": {
          "base_uri": "https://localhost:8080/"
        },
        "id": "t2B5NwcAJoIe",
        "outputId": "3ef2aa91-9a9b-4eca-a4b3-8664d3bc8276"
      },
      "execution_count": 30,
      "outputs": [
        {
          "output_type": "execute_result",
          "data": {
            "text/plain": [
              "tensor([[ 0.1235, -0.1139, -0.0554]])"
            ]
          },
          "metadata": {},
          "execution_count": 30
        }
      ]
    },
    {
      "cell_type": "markdown",
      "source": [
        "## Gradient Accumulation"
      ],
      "metadata": {
        "id": "ZHpFu6HwSs8t"
      }
    },
    {
      "cell_type": "code",
      "source": [
        "## Training with Accumulation\n",
        "torch.manual_seed(42)\n",
        "epochs=20\n",
        "accumulation_steps=4\n",
        "model = Net()\n",
        "optimizer = torch.optim.SGD(model.parameters(), lr=0.01)\n",
        "criterion = nn.BCEWithLogitsLoss()\n",
        "model.zero_grad()                                   # Resetea Gradientes Iniciales\n",
        "for e in range(epochs):\n",
        "  logits = model(X)\n",
        "  loss = criterion(logits, y.unsqueeze(-1))\n",
        "  print(f\"Epoch: {e+1}. Loss: {loss.item()}\")\n",
        "  loss = loss / accumulation_steps                # Normaliza Loss\n",
        "  loss.backward()                                 # Backward pass (Recordar que Pytorch Acumula Gradientes hasta que se use .zero_grad())\n",
        "  if (e+1) % accumulation_steps == 0:\n",
        "      optimizer.step()                            # Se actualizan pesos sólo cada ciertos steps\n",
        "      model.zero_grad()                           # Y ahora se resetea\n"
      ],
      "metadata": {
        "colab": {
          "base_uri": "https://localhost:8080/"
        },
        "id": "QfjBxzKpJqtw",
        "outputId": "8c3eac46-8bd0-45be-ea79-98cc367ee2ab"
      },
      "execution_count": 31,
      "outputs": [
        {
          "output_type": "stream",
          "name": "stdout",
          "text": [
            "Epoch: 1. Loss: 5.684591770172119\n",
            "Epoch: 2. Loss: 5.684591770172119\n",
            "Epoch: 3. Loss: 5.684591770172119\n",
            "Epoch: 4. Loss: 5.684591770172119\n",
            "Epoch: 5. Loss: 4.632599830627441\n",
            "Epoch: 6. Loss: 4.632599830627441\n",
            "Epoch: 7. Loss: 4.632599830627441\n",
            "Epoch: 8. Loss: 4.632599830627441\n",
            "Epoch: 9. Loss: 3.6506359577178955\n",
            "Epoch: 10. Loss: 3.6506359577178955\n",
            "Epoch: 11. Loss: 3.6506359577178955\n",
            "Epoch: 12. Loss: 3.6506359577178955\n",
            "Epoch: 13. Loss: 2.812757968902588\n",
            "Epoch: 14. Loss: 2.812757968902588\n",
            "Epoch: 15. Loss: 2.812757968902588\n",
            "Epoch: 16. Loss: 2.812757968902588\n",
            "Epoch: 17. Loss: 2.171171188354492\n",
            "Epoch: 18. Loss: 2.171171188354492\n",
            "Epoch: 19. Loss: 2.171171188354492\n",
            "Epoch: 20. Loss: 2.171171188354492\n"
          ]
        }
      ]
    },
    {
      "cell_type": "code",
      "source": [
        "model.fc.weight.data"
      ],
      "metadata": {
        "colab": {
          "base_uri": "https://localhost:8080/"
        },
        "id": "vbAPvSFNTr_i",
        "outputId": "8ea6a40b-cb9c-44fd-91da-3e1cd77fd977"
      },
      "execution_count": 32,
      "outputs": [
        {
          "output_type": "execute_result",
          "data": {
            "text/plain": [
              "tensor([[ 0.2156,  0.1241, -0.2904]])"
            ]
          },
          "metadata": {},
          "execution_count": 32
        }
      ]
    },
    {
      "cell_type": "code",
      "source": [
        "## Training with Accumulation\n",
        "torch.manual_seed(42)\n",
        "epochs=80\n",
        "accumulation_steps=4\n",
        "model = Net()\n",
        "optimizer = torch.optim.SGD(model.parameters(), lr=0.01)\n",
        "criterion = nn.BCEWithLogitsLoss()\n",
        "model.zero_grad()                                   # Resetea Gradientes Iniciales\n",
        "for e in range(epochs):\n",
        "  logits = model(X)\n",
        "  loss = criterion(logits, y.unsqueeze(-1))\n",
        "  print(f\"Epoch: {e+1}. Loss: {loss.item()}\")\n",
        "  loss = loss / accumulation_steps                # Normaliza Loss\n",
        "  loss.backward()                                 # Backward pass (Recordar que Pytorch Acumula Gradientes hasta que se use .zero_grad())\n",
        "  if (e+1) % accumulation_steps == 0:\n",
        "      optimizer.step()                            # Se actualizan pesos sólo cada ciertos steps\n",
        "      model.zero_grad()                           # Y ahora se resetea\n",
        "\n",
        "model.fc.weight.data"
      ],
      "metadata": {
        "colab": {
          "base_uri": "https://localhost:8080/"
        },
        "id": "I08OnGYwUJUH",
        "outputId": "2bd7de1f-7819-476f-f07c-0c40fba3adaf"
      },
      "execution_count": 33,
      "outputs": [
        {
          "output_type": "stream",
          "name": "stdout",
          "text": [
            "Epoch: 1. Loss: 5.684591770172119\n",
            "Epoch: 2. Loss: 5.684591770172119\n",
            "Epoch: 3. Loss: 5.684591770172119\n",
            "Epoch: 4. Loss: 5.684591770172119\n",
            "Epoch: 5. Loss: 4.632599830627441\n",
            "Epoch: 6. Loss: 4.632599830627441\n",
            "Epoch: 7. Loss: 4.632599830627441\n",
            "Epoch: 8. Loss: 4.632599830627441\n",
            "Epoch: 9. Loss: 3.6506359577178955\n",
            "Epoch: 10. Loss: 3.6506359577178955\n",
            "Epoch: 11. Loss: 3.6506359577178955\n",
            "Epoch: 12. Loss: 3.6506359577178955\n",
            "Epoch: 13. Loss: 2.812757968902588\n",
            "Epoch: 14. Loss: 2.812757968902588\n",
            "Epoch: 15. Loss: 2.812757968902588\n",
            "Epoch: 16. Loss: 2.812757968902588\n",
            "Epoch: 17. Loss: 2.171171188354492\n",
            "Epoch: 18. Loss: 2.171171188354492\n",
            "Epoch: 19. Loss: 2.171171188354492\n",
            "Epoch: 20. Loss: 2.171171188354492\n",
            "Epoch: 21. Loss: 1.7123682498931885\n",
            "Epoch: 22. Loss: 1.7123682498931885\n",
            "Epoch: 23. Loss: 1.7123682498931885\n",
            "Epoch: 24. Loss: 1.7123682498931885\n",
            "Epoch: 25. Loss: 1.4345756769180298\n",
            "Epoch: 26. Loss: 1.4345756769180298\n",
            "Epoch: 27. Loss: 1.4345756769180298\n",
            "Epoch: 28. Loss: 1.4345756769180298\n",
            "Epoch: 29. Loss: 1.284837007522583\n",
            "Epoch: 30. Loss: 1.284837007522583\n",
            "Epoch: 31. Loss: 1.284837007522583\n",
            "Epoch: 32. Loss: 1.284837007522583\n",
            "Epoch: 33. Loss: 1.182861089706421\n",
            "Epoch: 34. Loss: 1.182861089706421\n",
            "Epoch: 35. Loss: 1.182861089706421\n",
            "Epoch: 36. Loss: 1.182861089706421\n",
            "Epoch: 37. Loss: 1.0974228382110596\n",
            "Epoch: 38. Loss: 1.0974228382110596\n",
            "Epoch: 39. Loss: 1.0974228382110596\n",
            "Epoch: 40. Loss: 1.0974228382110596\n",
            "Epoch: 41. Loss: 1.0225789546966553\n",
            "Epoch: 42. Loss: 1.0225789546966553\n",
            "Epoch: 43. Loss: 1.0225789546966553\n",
            "Epoch: 44. Loss: 1.0225789546966553\n",
            "Epoch: 45. Loss: 0.9574964642524719\n",
            "Epoch: 46. Loss: 0.9574964642524719\n",
            "Epoch: 47. Loss: 0.9574964642524719\n",
            "Epoch: 48. Loss: 0.9574964642524719\n",
            "Epoch: 49. Loss: 0.9016749262809753\n",
            "Epoch: 50. Loss: 0.9016749262809753\n",
            "Epoch: 51. Loss: 0.9016749262809753\n",
            "Epoch: 52. Loss: 0.9016749262809753\n",
            "Epoch: 53. Loss: 0.8543142080307007\n",
            "Epoch: 54. Loss: 0.8543142080307007\n",
            "Epoch: 55. Loss: 0.8543142080307007\n",
            "Epoch: 56. Loss: 0.8543142080307007\n",
            "Epoch: 57. Loss: 0.8144165277481079\n",
            "Epoch: 58. Loss: 0.8144165277481079\n",
            "Epoch: 59. Loss: 0.8144165277481079\n",
            "Epoch: 60. Loss: 0.8144165277481079\n",
            "Epoch: 61. Loss: 0.7809440493583679\n",
            "Epoch: 62. Loss: 0.7809440493583679\n",
            "Epoch: 63. Loss: 0.7809440493583679\n",
            "Epoch: 64. Loss: 0.7809440493583679\n",
            "Epoch: 65. Loss: 0.7529222965240479\n",
            "Epoch: 66. Loss: 0.7529222965240479\n",
            "Epoch: 67. Loss: 0.7529222965240479\n",
            "Epoch: 68. Loss: 0.7529222965240479\n",
            "Epoch: 69. Loss: 0.7294866442680359\n",
            "Epoch: 70. Loss: 0.7294866442680359\n",
            "Epoch: 71. Loss: 0.7294866442680359\n",
            "Epoch: 72. Loss: 0.7294866442680359\n",
            "Epoch: 73. Loss: 0.7098948359489441\n",
            "Epoch: 74. Loss: 0.7098948359489441\n",
            "Epoch: 75. Loss: 0.7098948359489441\n",
            "Epoch: 76. Loss: 0.7098948359489441\n",
            "Epoch: 77. Loss: 0.6935199499130249\n",
            "Epoch: 78. Loss: 0.6935199499130249\n",
            "Epoch: 79. Loss: 0.6935199499130249\n",
            "Epoch: 80. Loss: 0.6935199499130249\n"
          ]
        },
        {
          "output_type": "execute_result",
          "data": {
            "text/plain": [
              "tensor([[ 0.1235, -0.1139, -0.0554]])"
            ]
          },
          "metadata": {},
          "execution_count": 33
        }
      ]
    }
  ]
}