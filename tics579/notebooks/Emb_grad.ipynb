{
  "nbformat": 4,
  "nbformat_minor": 0,
  "metadata": {
    "colab": {
      "provenance": []
    },
    "kernelspec": {
      "name": "python3",
      "display_name": "Python 3"
    },
    "language_info": {
      "name": "python"
    }
  },
  "cells": [
    {
      "cell_type": "markdown",
      "source": [
        "## Derivación a Mano"
      ],
      "metadata": {
        "id": "jZxXsUcQxrd_"
      }
    },
    {
      "cell_type": "code",
      "execution_count": 1,
      "metadata": {
        "id": "TJsGU6DdxT9U"
      },
      "outputs": [],
      "source": [
        "import torch\n",
        "import torch.nn as nn\n",
        "import torch.nn.functional as F\n",
        "\n",
        "X = torch.tensor([0,3,4,3]).reshape(-1,1)\n",
        "m = X.shape[0]\n",
        "y = torch.tensor([1,0,1,0]).reshape(-1,1).float()\n",
        "\n",
        "E = torch.tensor([[0.1,0.2,0.3],[0,0.1,-0.1],[-0.2,0,0.2],[0.4,0,-0.1],[0.2,-0.2,0.1]], requires_grad=True)\n",
        "\n",
        "S = F.one_hot(X.squeeze(-1)).float()\n",
        "W1 = torch.tensor([0.5,-0.25,0.1]).reshape(-1,1)\n",
        "b = torch.tensor([0.1])\n"
      ]
    },
    {
      "cell_type": "code",
      "source": [
        "e = E[X.squeeze(-1)]\n",
        "e"
      ],
      "metadata": {
        "colab": {
          "base_uri": "https://localhost:8080/"
        },
        "id": "G8zFRZ6XyACg",
        "outputId": "a45f3608-026c-46af-cbd6-bcfddccdc2fe"
      },
      "execution_count": 2,
      "outputs": [
        {
          "output_type": "execute_result",
          "data": {
            "text/plain": [
              "tensor([[ 0.1000,  0.2000,  0.3000],\n",
              "        [ 0.4000,  0.0000, -0.1000],\n",
              "        [ 0.2000, -0.2000,  0.1000],\n",
              "        [ 0.4000,  0.0000, -0.1000]], grad_fn=<IndexBackward0>)"
            ]
          },
          "metadata": {},
          "execution_count": 2
        }
      ]
    },
    {
      "cell_type": "code",
      "source": [
        "phi1 = e @ W1\n",
        "phi1\n"
      ],
      "metadata": {
        "colab": {
          "base_uri": "https://localhost:8080/"
        },
        "id": "v_bVua3bxdlr",
        "outputId": "6b074fe6-3f59-4289-ba1c-9c66e7aee2d4"
      },
      "execution_count": 3,
      "outputs": [
        {
          "output_type": "execute_result",
          "data": {
            "text/plain": [
              "tensor([[0.0300],\n",
              "        [0.1900],\n",
              "        [0.1600],\n",
              "        [0.1900]], grad_fn=<MmBackward0>)"
            ]
          },
          "metadata": {},
          "execution_count": 3
        }
      ]
    },
    {
      "cell_type": "code",
      "source": [
        "Z = phi1 + b\n",
        "Z"
      ],
      "metadata": {
        "colab": {
          "base_uri": "https://localhost:8080/"
        },
        "id": "SMIe2xE6yIbO",
        "outputId": "2f4a98e6-3b9f-4df7-a18f-29deaa76dd59"
      },
      "execution_count": 4,
      "outputs": [
        {
          "output_type": "execute_result",
          "data": {
            "text/plain": [
              "tensor([[0.1300],\n",
              "        [0.2900],\n",
              "        [0.2600],\n",
              "        [0.2900]], grad_fn=<AddBackward0>)"
            ]
          },
          "metadata": {},
          "execution_count": 4
        }
      ]
    },
    {
      "cell_type": "code",
      "source": [
        "p = torch.sigmoid(Z)\n",
        "p"
      ],
      "metadata": {
        "colab": {
          "base_uri": "https://localhost:8080/"
        },
        "id": "mq835oBkyKNa",
        "outputId": "e7c95abf-c485-4626-8c6d-38e66b480082"
      },
      "execution_count": 5,
      "outputs": [
        {
          "output_type": "execute_result",
          "data": {
            "text/plain": [
              "tensor([[0.5325],\n",
              "        [0.5720],\n",
              "        [0.5646],\n",
              "        [0.5720]], grad_fn=<SigmoidBackward0>)"
            ]
          },
          "metadata": {},
          "execution_count": 5
        }
      ]
    },
    {
      "cell_type": "code",
      "source": [
        "S.T @(p - y)@W1.T/m"
      ],
      "metadata": {
        "colab": {
          "base_uri": "https://localhost:8080/"
        },
        "id": "1eKisu2YxmTZ",
        "outputId": "881a7871-5712-425f-d729-b015803ef569"
      },
      "execution_count": 6,
      "outputs": [
        {
          "output_type": "execute_result",
          "data": {
            "text/plain": [
              "tensor([[-0.0584,  0.0292, -0.0117],\n",
              "        [ 0.0000, -0.0000,  0.0000],\n",
              "        [ 0.0000, -0.0000,  0.0000],\n",
              "        [ 0.1430, -0.0715,  0.0286],\n",
              "        [-0.0544,  0.0272, -0.0109]], grad_fn=<DivBackward0>)"
            ]
          },
          "metadata": {},
          "execution_count": 6
        }
      ]
    },
    {
      "cell_type": "markdown",
      "source": [
        "## Derivación en Pytorch"
      ],
      "metadata": {
        "id": "VsPrCQzCxu3l"
      }
    },
    {
      "cell_type": "code",
      "source": [
        "class EmbeddingMLP(nn.Module):\n",
        "  def __init__(self):\n",
        "    super().__init__()\n",
        "    self.emb = nn.Embedding(5, 3)\n",
        "    self.emb.weight.data = E\n",
        "    self.fc = nn.Linear(5, 1)\n",
        "    self.fc.weight.data = W1.T\n",
        "    self.fc.bias.data = b\n",
        "\n",
        "  def forward(self,x):\n",
        "    x = self.emb(x)\n",
        "    x = self.fc(x)\n",
        "    return x\n",
        "\n",
        "model = EmbeddingMLP()\n",
        "criterion = nn.BCEWithLogitsLoss()\n",
        "logits = model(X)\n",
        "loss = criterion(logits, y.unsqueeze(-1))\n",
        "loss.backward()"
      ],
      "metadata": {
        "id": "8TiycYHUxqa5"
      },
      "execution_count": 7,
      "outputs": []
    },
    {
      "cell_type": "code",
      "source": [
        "model.emb.weight.grad"
      ],
      "metadata": {
        "colab": {
          "base_uri": "https://localhost:8080/"
        },
        "id": "IEdbVLSSx3lI",
        "outputId": "38877f06-5886-4755-c08e-9643a496e198"
      },
      "execution_count": 8,
      "outputs": [
        {
          "output_type": "execute_result",
          "data": {
            "text/plain": [
              "tensor([[-0.0584,  0.0292, -0.0117],\n",
              "        [ 0.0000,  0.0000,  0.0000],\n",
              "        [ 0.0000,  0.0000,  0.0000],\n",
              "        [ 0.1430, -0.0715,  0.0286],\n",
              "        [-0.0544,  0.0272, -0.0109]])"
            ]
          },
          "metadata": {},
          "execution_count": 8
        }
      ]
    }
  ]
}