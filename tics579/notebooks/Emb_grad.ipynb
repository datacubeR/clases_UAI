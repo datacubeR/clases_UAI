{
  "cells": [
    {
      "cell_type": "markdown",
      "metadata": {
        "id": "jZxXsUcQxrd_"
      },
      "source": [
        "## Derivación a Mano"
      ]
    },
    {
      "cell_type": "code",
      "execution_count": null,
      "metadata": {
        "id": "TJsGU6DdxT9U"
      },
      "outputs": [],
      "source": [
        "import torch\n",
        "import torch.nn as nn\n",
        "import torch.nn.functional as F\n",
        "\n",
        "X = torch.tensor([0, 3, 4, 3]).reshape(-1, 1)\n",
        "m = X.shape[0]\n",
        "y = torch.tensor([1, 0, 1, 0]).reshape(-1, 1).float()\n",
        "\n",
        "E = torch.tensor(\n",
        "    [\n",
        "        [0.1, 0.2, 0.3],\n",
        "        [0, 0.1, -0.1],\n",
        "        [-0.2, 0, 0.2],\n",
        "        [0.4, 0, -0.1],\n",
        "        [0.2, -0.2, 0.1],\n",
        "    ],\n",
        "    requires_grad=True,\n",
        ")\n",
        "\n",
        "S = F.one_hot(X.squeeze(-1)).float()\n",
        "W1 = torch.tensor([0.5, -0.25, 0.1]).reshape(-1, 1)\n",
        "b = torch.tensor([0.1])"
      ]
    },
    {
      "cell_type": "code",
      "execution_count": 2,
      "metadata": {
        "colab": {
          "base_uri": "https://localhost:8080/"
        },
        "id": "G8zFRZ6XyACg",
        "outputId": "a45f3608-026c-46af-cbd6-bcfddccdc2fe"
      },
      "outputs": [
        {
          "data": {
            "text/plain": [
              "tensor([[ 0.1000,  0.2000,  0.3000],\n",
              "        [ 0.4000,  0.0000, -0.1000],\n",
              "        [ 0.2000, -0.2000,  0.1000],\n",
              "        [ 0.4000,  0.0000, -0.1000]], grad_fn=<IndexBackward0>)"
            ]
          },
          "execution_count": 2,
          "metadata": {},
          "output_type": "execute_result"
        }
      ],
      "source": [
        "e = E[X.squeeze(-1)]\n",
        "e"
      ]
    },
    {
      "cell_type": "code",
      "execution_count": null,
      "metadata": {
        "colab": {
          "base_uri": "https://localhost:8080/"
        },
        "id": "v_bVua3bxdlr",
        "outputId": "6b074fe6-3f59-4289-ba1c-9c66e7aee2d4"
      },
      "outputs": [
        {
          "data": {
            "text/plain": [
              "tensor([[0.0300],\n",
              "        [0.1900],\n",
              "        [0.1600],\n",
              "        [0.1900]], grad_fn=<MmBackward0>)"
            ]
          },
          "execution_count": 3,
          "metadata": {},
          "output_type": "execute_result"
        }
      ],
      "source": [
        "phi1 = e @ W1\n",
        "phi1"
      ]
    },
    {
      "cell_type": "code",
      "execution_count": 4,
      "metadata": {
        "colab": {
          "base_uri": "https://localhost:8080/"
        },
        "id": "SMIe2xE6yIbO",
        "outputId": "2f4a98e6-3b9f-4df7-a18f-29deaa76dd59"
      },
      "outputs": [
        {
          "data": {
            "text/plain": [
              "tensor([[0.1300],\n",
              "        [0.2900],\n",
              "        [0.2600],\n",
              "        [0.2900]], grad_fn=<AddBackward0>)"
            ]
          },
          "execution_count": 4,
          "metadata": {},
          "output_type": "execute_result"
        }
      ],
      "source": [
        "Z = phi1 + b\n",
        "Z"
      ]
    },
    {
      "cell_type": "code",
      "execution_count": 5,
      "metadata": {
        "colab": {
          "base_uri": "https://localhost:8080/"
        },
        "id": "mq835oBkyKNa",
        "outputId": "e7c95abf-c485-4626-8c6d-38e66b480082"
      },
      "outputs": [
        {
          "data": {
            "text/plain": [
              "tensor([[0.5325],\n",
              "        [0.5720],\n",
              "        [0.5646],\n",
              "        [0.5720]], grad_fn=<SigmoidBackward0>)"
            ]
          },
          "execution_count": 5,
          "metadata": {},
          "output_type": "execute_result"
        }
      ],
      "source": [
        "p = torch.sigmoid(Z)\n",
        "p"
      ]
    },
    {
      "cell_type": "code",
      "execution_count": null,
      "metadata": {
        "colab": {
          "base_uri": "https://localhost:8080/"
        },
        "id": "1eKisu2YxmTZ",
        "outputId": "881a7871-5712-425f-d729-b015803ef569"
      },
      "outputs": [
        {
          "data": {
            "text/plain": [
              "tensor([[-0.0584,  0.0292, -0.0117],\n",
              "        [ 0.0000, -0.0000,  0.0000],\n",
              "        [ 0.0000, -0.0000,  0.0000],\n",
              "        [ 0.1430, -0.0715,  0.0286],\n",
              "        [-0.0544,  0.0272, -0.0109]], grad_fn=<DivBackward0>)"
            ]
          },
          "execution_count": 6,
          "metadata": {},
          "output_type": "execute_result"
        }
      ],
      "source": [
        "S.T @ (p - y) @ W1.T / m"
      ]
    },
    {
      "cell_type": "markdown",
      "metadata": {
        "id": "VsPrCQzCxu3l"
      },
      "source": [
        "## Derivación en Pytorch"
      ]
    },
    {
      "cell_type": "code",
      "execution_count": null,
      "metadata": {
        "id": "8TiycYHUxqa5"
      },
      "outputs": [],
      "source": [
        "class EmbeddingMLP(nn.Module):\n",
        "    def __init__(self):\n",
        "        super().__init__()\n",
        "        self.emb = nn.Embedding(5, 3)\n",
        "        self.emb.weight.data = E\n",
        "        self.fc = nn.Linear(5, 1)\n",
        "        self.fc.weight.data = W1.T\n",
        "        self.fc.bias.data = b\n",
        "\n",
        "    def forward(self, x):\n",
        "        x = self.emb(x)\n",
        "        x = self.fc(x)\n",
        "        return x\n",
        "\n",
        "\n",
        "model = EmbeddingMLP()\n",
        "criterion = nn.BCEWithLogitsLoss()\n",
        "logits = model(X)\n",
        "loss = criterion(logits, y.unsqueeze(-1))\n",
        "loss.backward()"
      ]
    },
    {
      "cell_type": "code",
      "execution_count": 8,
      "metadata": {
        "colab": {
          "base_uri": "https://localhost:8080/"
        },
        "id": "IEdbVLSSx3lI",
        "outputId": "38877f06-5886-4755-c08e-9643a496e198"
      },
      "outputs": [
        {
          "data": {
            "text/plain": [
              "tensor([[-0.0584,  0.0292, -0.0117],\n",
              "        [ 0.0000,  0.0000,  0.0000],\n",
              "        [ 0.0000,  0.0000,  0.0000],\n",
              "        [ 0.1430, -0.0715,  0.0286],\n",
              "        [-0.0544,  0.0272, -0.0109]])"
            ]
          },
          "execution_count": 8,
          "metadata": {},
          "output_type": "execute_result"
        }
      ],
      "source": [
        "model.emb.weight.grad"
      ]
    }
  ],
  "metadata": {
    "colab": {
      "provenance": []
    },
    "kernelspec": {
      "display_name": "Python 3",
      "name": "python3"
    },
    "language_info": {
      "name": "python"
    }
  },
  "nbformat": 4,
  "nbformat_minor": 0
}
