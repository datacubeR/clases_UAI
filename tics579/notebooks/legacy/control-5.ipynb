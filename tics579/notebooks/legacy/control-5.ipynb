{
 "cells": [
  {
   "cell_type": "markdown",
   "metadata": {},
   "source": [
    "## Control 5\n",
    "\n",
    "1. ¿Qué significa desenrrollar (unrollment) la RNN?\n",
    "2. ¿Qué es el problema de Vanishing/Exploding Gradients?\n",
    "3. ¿Cuáles son las 4 Gates de una LSTM?\n",
    "4. ¿Cuál es la diferencia entre Cell State y Hidden State?\n",
    "5. ¿Qué es una RNN bidireccional?\n",
    "6. ¿Qué es la nn.Embedding en Pytorch y por qué es necesarios en tareas de Texto?"
   ]
  }
 ],
 "metadata": {
  "language_info": {
   "name": "python"
  }
 },
 "nbformat": 4,
 "nbformat_minor": 2
}
