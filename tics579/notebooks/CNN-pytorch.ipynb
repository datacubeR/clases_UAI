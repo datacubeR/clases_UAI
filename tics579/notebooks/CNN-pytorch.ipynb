{
 "cells": [
  {
   "cell_type": "code",
   "execution_count": 1,
   "metadata": {},
   "outputs": [],
   "source": [
    "import torch\n",
    "import torch.nn as nn\n",
    "from torchinfo import summary\n",
    "\n",
    "SEED = 10\n",
    "\n",
    "torch.manual_seed(SEED)\n",
    "torch.cuda.manual_seed(SEED)"
   ]
  },
  {
   "cell_type": "code",
   "execution_count": 2,
   "metadata": {},
   "outputs": [
    {
     "name": "stdout",
     "output_type": "stream",
     "text": [
      "Shape X: (70000, 784)\n",
      "Shape y: (70000,)\n"
     ]
    }
   ],
   "source": [
    "from sklearn.datasets import fetch_openml\n",
    "\n",
    "df, target = fetch_openml(\"mnist_784\", return_X_y=True)\n",
    "print(f\"Shape X: {df.shape}\")\n",
    "print(f\"Shape y: {target.shape}\")"
   ]
  },
  {
   "cell_type": "code",
   "execution_count": 3,
   "metadata": {},
   "outputs": [],
   "source": [
    "from sklearn.model_selection import train_test_split\n",
    "import matplotlib.pyplot as plt\n",
    "\n",
    "X_train, X_test, y_train, y_test = train_test_split(\n",
    "    df, target, test_size=0.25, random_state=SEED\n",
    ")"
   ]
  },
  {
   "cell_type": "code",
   "execution_count": 4,
   "metadata": {},
   "outputs": [],
   "source": [
    "from torch.utils.data import DataLoader, Dataset\n",
    "\n",
    "\n",
    "class MNIST(Dataset):\n",
    "\n",
    "    def __init__(self, X, y):\n",
    "\n",
    "        self.X = X.to_numpy()\n",
    "        self.y = y.values\n",
    "\n",
    "    def __len__(self):\n",
    "        return len(self.X)\n",
    "\n",
    "    def __getitem__(self, idx):\n",
    "        return dict(\n",
    "            X=torch.tensor(self.X[idx], dtype=torch.float32)\n",
    "            .view(28, 28)\n",
    "            .unsqueeze(0),\n",
    "            y=torch.tensor(int(self.y[idx]), dtype=torch.long),\n",
    "        )\n",
    "\n",
    "\n",
    "train_set = MNIST(X_train, y_train)\n",
    "test_set = MNIST(X_test, y_test)"
   ]
  },
  {
   "cell_type": "code",
   "execution_count": 5,
   "metadata": {},
   "outputs": [
    {
     "data": {
      "image/png": "[encoded data removed]",
      "text/plain": [
       "<Figure size 640x480 with 1 Axes>"
      ]
     },
     "metadata": {},
     "output_type": "display_data"
    }
   ],
   "source": [
    "def plot_number(X, y, tensor=True):\n",
    "\n",
    "    if tensor:\n",
    "        X = X.numpy().squeeze(0)\n",
    "        y = y.item()\n",
    "\n",
    "    plt.imshow(X, cmap=\"gray\")\n",
    "    plt.title(f\"Label: {y:.0f}\")\n",
    "    plt.show()\n",
    "\n",
    "\n",
    "idx = torch.randint(0, len(train_set), (1,)).item()\n",
    "plot_number(train_set[idx][\"X\"], train_set[idx][\"y\"])"
   ]
  },
  {
   "cell_type": "code",
   "execution_count": 6,
   "metadata": {},
   "outputs": [
    {
     "data": {
      "text/plain": [
       "(torch.Size([1, 28, 28]), torch.Size([]))"
      ]
     },
     "execution_count": 6,
     "metadata": {},
     "output_type": "execute_result"
    }
   ],
   "source": [
    "train_set[0][\"X\"].shape, train_set[0][\"y\"].shape"
   ]
  },
  {
   "cell_type": "code",
   "execution_count": 7,
   "metadata": {},
   "outputs": [
    {
     "data": {
      "text/plain": [
       "==========================================================================================\n",
       "Layer (type:depth-idx)                   Output Shape              Param #\n",
       "==========================================================================================\n",
       "CNN                                      [1, 10]                   --\n",
       "├─Sequential: 1-1                        [1, 64, 13, 13]           --\n",
       "│    └─Conv2d: 2-1                       [1, 64, 26, 26]           640\n",
       "│    └─ReLU: 2-2                         [1, 64, 26, 26]           --\n",
       "│    └─MaxPool2d: 2-3                    [1, 64, 13, 13]           --\n",
       "├─Sequential: 1-2                        [1, 32, 5, 5]             --\n",
       "│    └─Conv2d: 2-4                       [1, 32, 11, 11]           18,464\n",
       "│    └─ReLU: 2-5                         [1, 32, 11, 11]           --\n",
       "│    └─MaxPool2d: 2-6                    [1, 32, 5, 5]             --\n",
       "├─Flatten: 1-3                           [1, 800]                  --\n",
       "├─Linear: 1-4                            [1, 16]                   12,816\n",
       "├─Linear: 1-5                            [1, 10]                   170\n",
       "==========================================================================================\n",
       "Total params: 32,090\n",
       "Trainable params: 32,090\n",
       "Non-trainable params: 0\n",
       "Total mult-adds (Units.MEGABYTES): 2.68\n",
       "==========================================================================================\n",
       "Input size (MB): 0.00\n",
       "Forward/backward pass size (MB): 0.38\n",
       "Params size (MB): 0.13\n",
       "Estimated Total Size (MB): 0.51\n",
       "=========================================================================================="
      ]
     },
     "execution_count": 7,
     "metadata": {},
     "output_type": "execute_result"
    }
   ],
   "source": [
    "class CNN(nn.Module):\n",
    "    def __init__(self, in_channels=1, n_outputs=10, ks=3):\n",
    "        super().__init__()\n",
    "        self.conv1 = self.CNN_block(in_channels, 64, k=ks)\n",
    "        self.conv2 = self.CNN_block(64, 32, k=ks)\n",
    "        self.flatten = nn.Flatten()\n",
    "        # self.fc1 = nn.LazyLinear(32)\n",
    "        self.fc1 = nn.Linear(32 * 5 * 5, 16)  # filtros x tamaño\n",
    "        self.fc2 = nn.Linear(16, n_outputs)\n",
    "\n",
    "    def forward(self, x):\n",
    "        x = self.conv1(x)\n",
    "        x = self.conv2(x)\n",
    "        x = self.flatten(x)\n",
    "        x = self.fc1(x)\n",
    "        x = self.fc2(x)\n",
    "        return x\n",
    "\n",
    "    @staticmethod\n",
    "    def CNN_block(c_in, c_out, k=3, p=0, s=1, pk=2, ps=2):\n",
    "        return nn.Sequential(\n",
    "            nn.Conv2d(\n",
    "                in_channels=c_in,\n",
    "                out_channels=c_out,\n",
    "                kernel_size=k,\n",
    "                padding=p,\n",
    "                stride=s,\n",
    "            ),\n",
    "            nn.ReLU(),\n",
    "            nn.MaxPool2d(kernel_size=pk, stride=ps),\n",
    "        )\n",
    "\n",
    "\n",
    "model = CNN(in_channels=1, n_outputs=10)\n",
    "summary(model, input_size=(1, 1, 28, 28))"
   ]
  },
  {
   "cell_type": "code",
   "execution_count": 8,
   "metadata": {},
   "outputs": [
    {
     "name": "stdout",
     "output_type": "stream",
     "text": [
      "Training in cuda\n",
      "Epoch: 0- time: 2.61 - Train Loss: 2.2997 - Test Loss: 0.5438- Train Recall: 0.5871 - Test Recall: 0.8500\n",
      "Epoch: 1- time: 2.42 - Train Loss: 0.3812 - Test Loss: 0.2982- Train Recall: 0.7392 - Test Recall: 0.8828\n",
      "Epoch: 2- time: 2.36 - Train Loss: 0.2428 - Test Loss: 0.2133- Train Recall: 0.8029 - Test Recall: 0.9012\n",
      "Epoch: 3- time: 2.38 - Train Loss: 0.1837 - Test Loss: 0.1690- Train Recall: 0.8386 - Test Recall: 0.9129\n",
      "Epoch: 4- time: 2.35 - Train Loss: 0.1494 - Test Loss: 0.1438- Train Recall: 0.8620 - Test Recall: 0.9216\n",
      "Epoch: 5- time: 2.37 - Train Loss: 0.1264 - Test Loss: 0.1268- Train Recall: 0.8788 - Test Recall: 0.9283\n",
      "Epoch: 6- time: 2.36 - Train Loss: 0.1122 - Test Loss: 0.1174- Train Recall: 0.8912 - Test Recall: 0.9337\n",
      "Epoch: 7- time: 2.38 - Train Loss: 0.0984 - Test Loss: 0.1093- Train Recall: 0.9011 - Test Recall: 0.9379\n",
      "Epoch: 8- time: 2.34 - Train Loss: 0.0883 - Test Loss: 0.0962- Train Recall: 0.9091 - Test Recall: 0.9415\n",
      "Epoch: 9- time: 2.39 - Train Loss: 0.0796 - Test Loss: 0.0907- Train Recall: 0.9157 - Test Recall: 0.9446\n",
      "Epoch: 10- time: 2.42 - Train Loss: 0.0732 - Test Loss: 0.0878- Train Recall: 0.9213 - Test Recall: 0.9472\n",
      "Epoch: 11- time: 2.41 - Train Loss: 0.0675 - Test Loss: 0.0845- Train Recall: 0.9261 - Test Recall: 0.9495\n",
      "Epoch: 12- time: 2.36 - Train Loss: 0.0628 - Test Loss: 0.0786- Train Recall: 0.9303 - Test Recall: 0.9515\n",
      "Epoch: 13- time: 2.34 - Train Loss: 0.0577 - Test Loss: 0.0756- Train Recall: 0.9340 - Test Recall: 0.9534\n",
      "Epoch: 14- time: 2.39 - Train Loss: 0.0547 - Test Loss: 0.0738- Train Recall: 0.9373 - Test Recall: 0.9550\n",
      "Epoch: 15- time: 2.42 - Train Loss: 0.0516 - Test Loss: 0.0718- Train Recall: 0.9403 - Test Recall: 0.9565\n",
      "Epoch: 16- time: 2.43 - Train Loss: 0.0480 - Test Loss: 0.0715- Train Recall: 0.9429 - Test Recall: 0.9578\n",
      "Epoch: 17- time: 2.42 - Train Loss: 0.0447 - Test Loss: 0.0675- Train Recall: 0.9454 - Test Recall: 0.9590\n",
      "Epoch: 18- time: 2.35 - Train Loss: 0.0419 - Test Loss: 0.0694- Train Recall: 0.9476 - Test Recall: 0.9601\n",
      "Epoch: 19- time: 2.39 - Train Loss: 0.0396 - Test Loss: 0.0670- Train Recall: 0.9496 - Test Recall: 0.9611\n",
      "Epoch: 20- time: 2.35 - Train Loss: 0.0371 - Test Loss: 0.0637- Train Recall: 0.9515 - Test Recall: 0.9620\n",
      "Epoch: 21- time: 2.36 - Train Loss: 0.0340 - Test Loss: 0.0623- Train Recall: 0.9532 - Test Recall: 0.9629\n",
      "Epoch: 22- time: 2.38 - Train Loss: 0.0325 - Test Loss: 0.0609- Train Recall: 0.9548 - Test Recall: 0.9637\n",
      "Epoch: 23- time: 2.38 - Train Loss: 0.0315 - Test Loss: 0.0629- Train Recall: 0.9563 - Test Recall: 0.9645\n",
      "Epoch: 24- time: 2.37 - Train Loss: 0.0304 - Test Loss: 0.0613- Train Recall: 0.9577 - Test Recall: 0.9651\n",
      "Epoch: 25- time: 2.38 - Train Loss: 0.0278 - Test Loss: 0.0593- Train Recall: 0.9591 - Test Recall: 0.9658\n",
      "Epoch: 26- time: 2.36 - Train Loss: 0.0256 - Test Loss: 0.0587- Train Recall: 0.9603 - Test Recall: 0.9664\n",
      "Epoch: 27- time: 2.34 - Train Loss: 0.0246 - Test Loss: 0.0577- Train Recall: 0.9615 - Test Recall: 0.9670\n",
      "Epoch: 28- time: 2.33 - Train Loss: 0.0241 - Test Loss: 0.0599- Train Recall: 0.9626 - Test Recall: 0.9676\n",
      "Epoch: 29- time: 2.37 - Train Loss: 0.0228 - Test Loss: 0.0572- Train Recall: 0.9636 - Test Recall: 0.9681\n",
      "Epoch: 30- time: 2.34 - Train Loss: 0.0222 - Test Loss: 0.0598- Train Recall: 0.9646 - Test Recall: 0.9686\n",
      "Epoch: 31- time: 2.33 - Train Loss: 0.0203 - Test Loss: 0.0582- Train Recall: 0.9655 - Test Recall: 0.9690\n",
      "Epoch: 32- time: 2.36 - Train Loss: 0.0186 - Test Loss: 0.0561- Train Recall: 0.9664 - Test Recall: 0.9695\n",
      "Epoch: 33- time: 2.34 - Train Loss: 0.0172 - Test Loss: 0.0583- Train Recall: 0.9673 - Test Recall: 0.9699\n",
      "Epoch: 34- time: 2.33 - Train Loss: 0.0175 - Test Loss: 0.0585- Train Recall: 0.9681 - Test Recall: 0.9703\n",
      "Epoch: 35- time: 2.36 - Train Loss: 0.0167 - Test Loss: 0.0575- Train Recall: 0.9688 - Test Recall: 0.9706\n",
      "Epoch: 36- time: 2.38 - Train Loss: 0.0157 - Test Loss: 0.0609- Train Recall: 0.9696 - Test Recall: 0.9710\n",
      "Epoch: 37- time: 2.40 - Train Loss: 0.0143 - Test Loss: 0.0557- Train Recall: 0.9703 - Test Recall: 0.9713\n",
      "Epoch: 38- time: 2.37 - Train Loss: 0.0134 - Test Loss: 0.0569- Train Recall: 0.9710 - Test Recall: 0.9717\n",
      "Epoch: 39- time: 2.32 - Train Loss: 0.0132 - Test Loss: 0.0563- Train Recall: 0.9716 - Test Recall: 0.9720\n",
      "Epoch: 40- time: 2.33 - Train Loss: 0.0118 - Test Loss: 0.0585- Train Recall: 0.9722 - Test Recall: 0.9723\n",
      "Epoch: 41- time: 2.35 - Train Loss: 0.0112 - Test Loss: 0.0593- Train Recall: 0.9728 - Test Recall: 0.9725\n",
      "Epoch: 42- time: 2.38 - Train Loss: 0.0104 - Test Loss: 0.0559- Train Recall: 0.9734 - Test Recall: 0.9728\n",
      "Epoch: 43- time: 2.34 - Train Loss: 0.0100 - Test Loss: 0.0574- Train Recall: 0.9740 - Test Recall: 0.9731\n",
      "Epoch: 44- time: 2.32 - Train Loss: 0.0097 - Test Loss: 0.0572- Train Recall: 0.9745 - Test Recall: 0.9733\n",
      "Epoch: 45- time: 2.34 - Train Loss: 0.0092 - Test Loss: 0.0588- Train Recall: 0.9750 - Test Recall: 0.9736\n",
      "Epoch: 46- time: 2.37 - Train Loss: 0.0080 - Test Loss: 0.0582- Train Recall: 0.9755 - Test Recall: 0.9738\n",
      "Epoch: 47- time: 2.39 - Train Loss: 0.0075 - Test Loss: 0.0574- Train Recall: 0.9760 - Test Recall: 0.9740\n",
      "Epoch: 48- time: 2.35 - Train Loss: 0.0070 - Test Loss: 0.0594- Train Recall: 0.9765 - Test Recall: 0.9742\n",
      "Epoch: 49- time: 2.41 - Train Loss: 0.0064 - Test Loss: 0.0563- Train Recall: 0.9769 - Test Recall: 0.9745\n",
      "Epoch: 50- time: 2.39 - Train Loss: 0.0062 - Test Loss: 0.0581- Train Recall: 0.9774 - Test Recall: 0.9747\n",
      "Epoch: 51- time: 2.38 - Train Loss: 0.0056 - Test Loss: 0.0577- Train Recall: 0.9778 - Test Recall: 0.9749\n",
      "Epoch: 52- time: 2.40 - Train Loss: 0.0053 - Test Loss: 0.0589- Train Recall: 0.9782 - Test Recall: 0.9751\n",
      "Epoch: 53- time: 2.40 - Train Loss: 0.0051 - Test Loss: 0.0595- Train Recall: 0.9786 - Test Recall: 0.9753\n",
      "Epoch: 54- time: 2.37 - Train Loss: 0.0050 - Test Loss: 0.0589- Train Recall: 0.9790 - Test Recall: 0.9754\n",
      "Epoch: 55- time: 2.31 - Train Loss: 0.0044 - Test Loss: 0.0606- Train Recall: 0.9793 - Test Recall: 0.9756\n",
      "Epoch: 56- time: 2.33 - Train Loss: 0.0043 - Test Loss: 0.0605- Train Recall: 0.9797 - Test Recall: 0.9758\n",
      "Epoch: 57- time: 2.33 - Train Loss: 0.0043 - Test Loss: 0.0585- Train Recall: 0.9800 - Test Recall: 0.9759\n",
      "Epoch: 58- time: 2.31 - Train Loss: 0.0038 - Test Loss: 0.0592- Train Recall: 0.9804 - Test Recall: 0.9761\n",
      "Epoch: 59- time: 2.35 - Train Loss: 0.0037 - Test Loss: 0.0595- Train Recall: 0.9807 - Test Recall: 0.9763\n",
      "Epoch: 60- time: 2.32 - Train Loss: 0.0034 - Test Loss: 0.0616- Train Recall: 0.9810 - Test Recall: 0.9764\n",
      "Epoch: 61- time: 2.32 - Train Loss: 0.0031 - Test Loss: 0.0609- Train Recall: 0.9813 - Test Recall: 0.9765\n",
      "Epoch: 62- time: 2.31 - Train Loss: 0.0026 - Test Loss: 0.0603- Train Recall: 0.9816 - Test Recall: 0.9767\n",
      "Epoch: 63- time: 2.33 - Train Loss: 0.0023 - Test Loss: 0.0608- Train Recall: 0.9819 - Test Recall: 0.9768\n",
      "Epoch: 64- time: 2.31 - Train Loss: 0.0023 - Test Loss: 0.0632- Train Recall: 0.9822 - Test Recall: 0.9770\n",
      "Epoch: 65- time: 2.35 - Train Loss: 0.0024 - Test Loss: 0.0611- Train Recall: 0.9824 - Test Recall: 0.9771\n",
      "Epoch: 66- time: 2.35 - Train Loss: 0.0020 - Test Loss: 0.0622- Train Recall: 0.9827 - Test Recall: 0.9772\n",
      "Epoch: 67- time: 2.36 - Train Loss: 0.0019 - Test Loss: 0.0621- Train Recall: 0.9829 - Test Recall: 0.9773\n",
      "Epoch: 68- time: 2.34 - Train Loss: 0.0019 - Test Loss: 0.0614- Train Recall: 0.9832 - Test Recall: 0.9775\n",
      "Epoch: 69- time: 2.36 - Train Loss: 0.0017 - Test Loss: 0.0616- Train Recall: 0.9834 - Test Recall: 0.9776\n",
      "Epoch: 70- time: 2.35 - Train Loss: 0.0015 - Test Loss: 0.0630- Train Recall: 0.9837 - Test Recall: 0.9777\n",
      "Epoch: 71- time: 2.32 - Train Loss: 0.0014 - Test Loss: 0.0632- Train Recall: 0.9839 - Test Recall: 0.9778\n",
      "Epoch: 72- time: 2.36 - Train Loss: 0.0014 - Test Loss: 0.0632- Train Recall: 0.9841 - Test Recall: 0.9779\n",
      "Epoch: 73- time: 2.36 - Train Loss: 0.0013 - Test Loss: 0.0641- Train Recall: 0.9843 - Test Recall: 0.9780\n",
      "Epoch: 74- time: 2.39 - Train Loss: 0.0012 - Test Loss: 0.0638- Train Recall: 0.9845 - Test Recall: 0.9781\n",
      "Epoch: 75- time: 2.39 - Train Loss: 0.0012 - Test Loss: 0.0645- Train Recall: 0.9847 - Test Recall: 0.9782\n",
      "Epoch: 76- time: 2.37 - Train Loss: 0.0012 - Test Loss: 0.0645- Train Recall: 0.9849 - Test Recall: 0.9783\n",
      "Epoch: 77- time: 2.40 - Train Loss: 0.0010 - Test Loss: 0.0645- Train Recall: 0.9851 - Test Recall: 0.9784\n",
      "Epoch: 78- time: 2.31 - Train Loss: 0.0010 - Test Loss: 0.0655- Train Recall: 0.9853 - Test Recall: 0.9785\n",
      "Epoch: 79- time: 2.35 - Train Loss: 0.0010 - Test Loss: 0.0652- Train Recall: 0.9855 - Test Recall: 0.9786\n",
      "Epoch: 80- time: 2.39 - Train Loss: 0.0009 - Test Loss: 0.0662- Train Recall: 0.9857 - Test Recall: 0.9787\n",
      "Epoch: 81- time: 2.32 - Train Loss: 0.0009 - Test Loss: 0.0664- Train Recall: 0.9859 - Test Recall: 0.9788\n",
      "Epoch: 82- time: 2.33 - Train Loss: 0.0008 - Test Loss: 0.0659- Train Recall: 0.9860 - Test Recall: 0.9789\n",
      "Epoch: 83- time: 2.33 - Train Loss: 0.0008 - Test Loss: 0.0669- Train Recall: 0.9862 - Test Recall: 0.9790\n",
      "Epoch: 84- time: 2.30 - Train Loss: 0.0007 - Test Loss: 0.0664- Train Recall: 0.9864 - Test Recall: 0.9791\n",
      "Epoch: 85- time: 2.34 - Train Loss: 0.0007 - Test Loss: 0.0674- Train Recall: 0.9865 - Test Recall: 0.9792\n",
      "Epoch: 86- time: 2.34 - Train Loss: 0.0007 - Test Loss: 0.0671- Train Recall: 0.9867 - Test Recall: 0.9792\n",
      "Epoch: 87- time: 2.47 - Train Loss: 0.0006 - Test Loss: 0.0675- Train Recall: 0.9868 - Test Recall: 0.9793\n",
      "Epoch: 88- time: 2.28 - Train Loss: 0.0006 - Test Loss: 0.0676- Train Recall: 0.9870 - Test Recall: 0.9794\n",
      "Epoch: 89- time: 2.31 - Train Loss: 0.0006 - Test Loss: 0.0684- Train Recall: 0.9871 - Test Recall: 0.9795\n",
      "Epoch: 90- time: 2.29 - Train Loss: 0.0005 - Test Loss: 0.0681- Train Recall: 0.9873 - Test Recall: 0.9795\n",
      "Epoch: 91- time: 2.36 - Train Loss: 0.0005 - Test Loss: 0.0692- Train Recall: 0.9874 - Test Recall: 0.9796\n",
      "Epoch: 92- time: 2.37 - Train Loss: 0.0005 - Test Loss: 0.0687- Train Recall: 0.9875 - Test Recall: 0.9797\n",
      "Epoch: 93- time: 2.38 - Train Loss: 0.0005 - Test Loss: 0.0695- Train Recall: 0.9877 - Test Recall: 0.9797\n",
      "Epoch: 94- time: 2.36 - Train Loss: 0.0005 - Test Loss: 0.0702- Train Recall: 0.9878 - Test Recall: 0.9798\n",
      "Epoch: 95- time: 2.39 - Train Loss: 0.0005 - Test Loss: 0.0706- Train Recall: 0.9879 - Test Recall: 0.9799\n",
      "Epoch: 96- time: 2.39 - Train Loss: 0.0004 - Test Loss: 0.0702- Train Recall: 0.9880 - Test Recall: 0.9799\n",
      "Epoch: 97- time: 2.39 - Train Loss: 0.0004 - Test Loss: 0.0701- Train Recall: 0.9882 - Test Recall: 0.9800\n",
      "Epoch: 98- time: 2.30 - Train Loss: 0.0004 - Test Loss: 0.0711- Train Recall: 0.9883 - Test Recall: 0.9801\n",
      "Epoch: 99- time: 2.38 - Train Loss: 0.0004 - Test Loss: 0.0707- Train Recall: 0.9884 - Test Recall: 0.9801\n"
     ]
    }
   ],
   "source": [
    "import torchmetrics\n",
    "import numpy as np\n",
    "import time\n",
    "\n",
    "device = torch.device(\"cuda\" if torch.cuda.is_available() else \"cpu\")\n",
    "print(f\"Training in {device}\")\n",
    "model = CNN(in_channels=1, n_outputs=10).to(device)\n",
    "criterion = nn.CrossEntropyLoss()\n",
    "optimizer = torch.optim.Adam(model.parameters(), lr=3e-4)\n",
    "\n",
    "EPOCHS = 100\n",
    "\n",
    "train_dataloader = DataLoader(\n",
    "    train_set,\n",
    "    batch_size=1024,\n",
    "    shuffle=True,\n",
    "    pin_memory=True,\n",
    "    num_workers=10,\n",
    "    drop_last=True,\n",
    ")\n",
    "test_dataloader = DataLoader(\n",
    "    test_set, batch_size=32, shuffle=False, pin_memory=True, num_workers=10\n",
    ")\n",
    "\n",
    "train_metric = torchmetrics.Recall(task=\"multiclass\", num_classes=10).to(\n",
    "    device\n",
    ")\n",
    "test_metric = torchmetrics.Recall(task=\"multiclass\", num_classes=10).to(\n",
    "    device\n",
    ")\n",
    "train_losses = []\n",
    "test_losses = []\n",
    "\n",
    "for e in range(EPOCHS):\n",
    "    start_time = time.time()\n",
    "    train_batch_losses = []\n",
    "    test_batch_losses = []\n",
    "    for batch in train_dataloader:\n",
    "        X, y = batch[\"X\"].to(device), batch[\"y\"].to(device)\n",
    "\n",
    "        optimizer.zero_grad()\n",
    "        y_pred = model(X)\n",
    "        loss = criterion(y_pred, y)\n",
    "        loss.backward()\n",
    "        optimizer.step()\n",
    "        tm = train_metric(y_pred, y)\n",
    "        train_batch_losses.append(loss.item())\n",
    "\n",
    "    tm = train_metric.compute()\n",
    "    train_epoch_loss = np.mean(train_batch_losses)\n",
    "\n",
    "    with torch.no_grad():\n",
    "        for batch in test_dataloader:\n",
    "            X, y = batch[\"X\"].to(device), batch[\"y\"].to(device)\n",
    "            y_pred = model(X)\n",
    "            loss = criterion(y_pred, y)\n",
    "            tst_m = test_metric(y_pred, y)\n",
    "            test_batch_losses.append(loss.item())\n",
    "    tst_m = test_metric.compute()\n",
    "    test_epoch_loss = np.mean(test_batch_losses)\n",
    "    end_time = time.time()\n",
    "\n",
    "    train_losses.append(train_epoch_loss)\n",
    "    test_losses.append(test_epoch_loss)\n",
    "\n",
    "    epoch_time = end_time - start_time\n",
    "    ## Logging\n",
    "    print(\n",
    "        f\"Epoch: {e+1}- time: {epoch_time:.2f} - Train Loss: {train_epoch_loss:.4f} - Test Loss: {test_epoch_loss:.4f}- Train Recall: {tm:.4f} - Test Recall: {tst_m:.4f}\"\n",
    "    )"
   ]
  },
  {
   "cell_type": "code",
   "execution_count": 9,
   "metadata": {},
   "outputs": [
    {
     "data": {
      "image/png": "[encoded data removed]",
      "text/plain": [
       "<Figure size 640x480 with 1 Axes>"
      ]
     },
     "metadata": {},
     "output_type": "display_data"
    }
   ],
   "source": [
    "def plot_training_curves(train_loss, validation_loss, n_epochs, title=\"\"):\n",
    "    plt.plot(\n",
    "        range(1, n_epochs + 1),\n",
    "        train_loss,\n",
    "        label=\"Train Loss\",\n",
    "    )\n",
    "    plt.plot(\n",
    "        range(1, n_epochs + 1),\n",
    "        validation_loss,\n",
    "        label=\"Validation Loss\",\n",
    "    )\n",
    "    plt.title(title)\n",
    "    plt.legend()\n",
    "    plt.show()\n",
    "\n",
    "\n",
    "plot_training_curves(train_losses, test_losses, EPOCHS)"
   ]
  }
 ],
 "metadata": {
  "kernelspec": {
   "display_name": "base",
   "language": "python",
   "name": "python3"
  },
  "language_info": {
   "codemirror_mode": {
    "name": "ipython",
    "version": 3
   },
   "file_extension": ".py",
   "mimetype": "text/x-python",
   "name": "python",
   "nbconvert_exporter": "python",
   "pygments_lexer": "ipython3",
   "version": "3.12.2"
  }
 },
 "nbformat": 4,
 "nbformat_minor": 2
}
