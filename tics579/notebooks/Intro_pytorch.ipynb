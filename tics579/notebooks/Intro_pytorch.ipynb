{
 "cells": [
  {
   "cell_type": "code",
   "execution_count": 2,
   "metadata": {},
   "outputs": [],
   "source": [
    "import torch\n",
    "import torch.nn as nn\n",
    "import torch.nn.functional as F\n",
    "\n",
    "from torch.utils.data import Dataset, DataLoader\n",
    "import numpy as np\n",
    "\n",
    "np.random.seed(1)"
   ]
  },
  {
   "cell_type": "code",
   "execution_count": 4,
   "metadata": {},
   "outputs": [
    {
     "data": {
      "text/plain": [
       "((750, 10), (250, 10), (750,), (250,))"
      ]
     },
     "execution_count": 4,
     "metadata": {},
     "output_type": "execute_result"
    }
   ],
   "source": [
    "X_numpy = np.random.randn(1000, 10)\n",
    "y_numpy = np.random.randint(0, 2, 1000)\n",
    "\n",
    "X = torch.from_numpy(X_numpy).float()\n",
    "y = torch.from_numpy(y_numpy).float()\n",
    "y.shape"
   ]
  },
  {
   "cell_type": "code",
   "execution_count": 3,
   "metadata": {},
   "outputs": [
    {
     "data": {
      "text/plain": [
       "'2.4.0'"
      ]
     },
     "execution_count": 3,
     "metadata": {},
     "output_type": "execute_result"
    }
   ],
   "source": [
    "torch.__version__"
   ]
  },
  {
   "cell_type": "code",
   "execution_count": 4,
   "metadata": {},
   "outputs": [],
   "source": [
    "w1 = nn.Linear(in_features=10, out_features=32)\n",
    "relu_1 = nn.ReLU()\n",
    "w2 = nn.Linear(in_features=32, out_features=64)\n",
    "relu_2 = nn.ReLU()\n",
    "w3 = nn.Linear(64, 1)"
   ]
  },
  {
   "cell_type": "code",
   "execution_count": 5,
   "metadata": {},
   "outputs": [
    {
     "data": {
      "text/plain": [
       "torch.Size([1000, 1])"
      ]
     },
     "execution_count": 5,
     "metadata": {},
     "output_type": "execute_result"
    }
   ],
   "source": [
    "out_w1 = w1(X)\n",
    "out_relu_1 = relu_1(out_w1)\n",
    "out_w2 = w2(out_relu_1)\n",
    "out_relu_2 = relu_2(out_w2)\n",
    "out_w3 = w3(out_relu_2)\n",
    "out_w3.shape"
   ]
  },
  {
   "cell_type": "code",
   "execution_count": 6,
   "metadata": {},
   "outputs": [
    {
     "data": {
      "text/plain": [
       "MyFFN(\n",
       "  (w1): Linear(in_features=10, out_features=32, bias=True)\n",
       "  (relu_1): ReLU()\n",
       "  (w2): Linear(in_features=32, out_features=64, bias=True)\n",
       "  (relu_2): ReLU()\n",
       "  (w3): Linear(in_features=64, out_features=1, bias=True)\n",
       ")"
      ]
     },
     "execution_count": 6,
     "metadata": {},
     "output_type": "execute_result"
    }
   ],
   "source": [
    "class MyFFN(nn.Module):\n",
    "    def __init__(self, n_features, hidden_dim_1, hidden_dim_2, out_dim):\n",
    "        super().__init__()\n",
    "        self.w1 = nn.Linear(\n",
    "            in_features=n_features, out_features=hidden_dim_1\n",
    "        )\n",
    "        self.relu_1 = nn.ReLU()\n",
    "        self.w2 = nn.Linear(\n",
    "            in_features=hidden_dim_1, out_features=hidden_dim_2\n",
    "        )\n",
    "        self.relu_2 = nn.ReLU()\n",
    "        self.w3 = nn.Linear(hidden_dim_2, out_dim)\n",
    "\n",
    "    def forward(self, x):\n",
    "        x = self.w1(x)\n",
    "        x = self.relu_1(x)\n",
    "        x = self.w2(x)\n",
    "        x = self.relu_2(x)\n",
    "        x = self.w3(x)\n",
    "        return x\n",
    "\n",
    "\n",
    "model = MyFFN(n_features=10, hidden_dim_1=32, hidden_dim_2=64, out_dim=1)\n",
    "model"
   ]
  },
  {
   "cell_type": "code",
   "execution_count": 7,
   "metadata": {},
   "outputs": [],
   "source": [
    "criterion = nn.BCEWithLogitsLoss()\n",
    "optimizer = torch.optim.Adam(model.parameters(), lr=3e-4)"
   ]
  },
  {
   "cell_type": "code",
   "execution_count": 8,
   "metadata": {},
   "outputs": [
    {
     "data": {
      "text/plain": [
       "[<matplotlib.lines.Line2D at 0x793e23731940>]"
      ]
     },
     "execution_count": 8,
     "metadata": {},
     "output_type": "execute_result"
    },
    {
     "data": {
      "image/png": "[encoded data removed]",
      "text/plain": [
       "<Figure size 640x480 with 1 Axes>"
      ]
     },
     "metadata": {},
     "output_type": "display_data"
    }
   ],
   "source": [
    "import matplotlib.pyplot as plt\n",
    "\n",
    "## Entrenamiento... (Training Loop)\n",
    "EPOCHS = 2000\n",
    "\n",
    "loss_list = []\n",
    "for e in range(EPOCHS):\n",
    "    model.train()\n",
    "    optimizer.zero_grad()\n",
    "    preds = model(X)\n",
    "    ## predicciones primero, y luego el target\n",
    "    loss = criterion(preds, y.unsqueeze(1))\n",
    "    loss.backward()\n",
    "    optimizer.step()\n",
    "    loss_list.append(loss.item())\n",
    "\n",
    "plt.plot(range(EPOCHS), loss_list)"
   ]
  },
  {
   "cell_type": "code",
   "execution_count": 16,
   "metadata": {},
   "outputs": [
    {
     "data": {
      "text/plain": [
       "Linear(in_features=10, out_features=32, bias=True)"
      ]
     },
     "execution_count": 16,
     "metadata": {},
     "output_type": "execute_result"
    }
   ],
   "source": [
    "model.w1"
   ]
  },
  {
   "cell_type": "code",
   "execution_count": null,
   "metadata": {},
   "outputs": [],
   "source": [
    "model"
   ]
  }
 ],
 "metadata": {
  "kernelspec": {
   "display_name": "base",
   "language": "python",
   "name": "python3"
  },
  "language_info": {
   "codemirror_mode": {
    "name": "ipython",
    "version": 3
   },
   "file_extension": ".py",
   "mimetype": "text/x-python",
   "name": "python",
   "nbconvert_exporter": "python",
   "pygments_lexer": "ipython3",
   "version": "3.12.2"
  }
 },
 "nbformat": 4,
 "nbformat_minor": 2
}
