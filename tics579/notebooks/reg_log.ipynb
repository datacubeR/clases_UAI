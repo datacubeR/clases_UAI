{
  "nbformat": 4,
  "nbformat_minor": 0,
  "metadata": {
    "colab": {
      "provenance": []
    },
    "kernelspec": {
      "name": "python3",
      "display_name": "Python 3"
    },
    "language_info": {
      "name": "python"
    }
  },
  "cells": [
    {
      "cell_type": "code",
      "execution_count": null,
      "metadata": {
        "id": "iJoyweOUOrNL"
      },
      "outputs": [],
      "source": [
        "from sklearn.datasets import load_breast_cancer\n",
        "from sklearn.model_selection import train_test_split\n",
        "from sklearn.metrics import accuracy_score\n",
        "import numpy as np\n",
        "import torch\n",
        "import torch.nn as nn\n",
        "\n",
        "SEED = 42\n",
        "torch.manual_seed(SEED)\n",
        "\n",
        "data = load_breast_cancer()\n",
        "X = data[\"data\"]\n",
        "y = data[\"target\"]\n",
        "\n",
        "X_train, X_test, y_train, y_test = train_test_split(X, y, test_size = 0.25, random_state = SEED)"
      ]
    },
    {
      "cell_type": "code",
      "source": [
        "y"
      ],
      "metadata": {
        "colab": {
          "base_uri": "https://localhost:8080/"
        },
        "id": "cUNmXJQeAXc3",
        "outputId": "6768aa3b-7354-4424-f027-cc2bb167240f"
      },
      "execution_count": null,
      "outputs": [
        {
          "output_type": "execute_result",
          "data": {
            "text/plain": [
              "array([0, 0, 0, 0, 0, 0, 0, 0, 0, 0, 0, 0, 0, 0, 0, 0, 0, 0, 0, 1, 1, 1,\n",
              "       0, 0, 0, 0, 0, 0, 0, 0, 0, 0, 0, 0, 0, 0, 0, 1, 0, 0, 0, 0, 0, 0,\n",
              "       0, 0, 1, 0, 1, 1, 1, 1, 1, 0, 0, 1, 0, 0, 1, 1, 1, 1, 0, 1, 0, 0,\n",
              "       1, 1, 1, 1, 0, 1, 0, 0, 1, 0, 1, 0, 0, 1, 1, 1, 0, 0, 1, 0, 0, 0,\n",
              "       1, 1, 1, 0, 1, 1, 0, 0, 1, 1, 1, 0, 0, 1, 1, 1, 1, 0, 1, 1, 0, 1,\n",
              "       1, 1, 1, 1, 1, 1, 1, 0, 0, 0, 1, 0, 0, 1, 1, 1, 0, 0, 1, 0, 1, 0,\n",
              "       0, 1, 0, 0, 1, 1, 0, 1, 1, 0, 1, 1, 1, 1, 0, 1, 1, 1, 1, 1, 1, 1,\n",
              "       1, 1, 0, 1, 1, 1, 1, 0, 0, 1, 0, 1, 1, 0, 0, 1, 1, 0, 0, 1, 1, 1,\n",
              "       1, 0, 1, 1, 0, 0, 0, 1, 0, 1, 0, 1, 1, 1, 0, 1, 1, 0, 0, 1, 0, 0,\n",
              "       0, 0, 1, 0, 0, 0, 1, 0, 1, 0, 1, 1, 0, 1, 0, 0, 0, 0, 1, 1, 0, 0,\n",
              "       1, 1, 1, 0, 1, 1, 1, 1, 1, 0, 0, 1, 1, 0, 1, 1, 0, 0, 1, 0, 1, 1,\n",
              "       1, 1, 0, 1, 1, 1, 1, 1, 0, 1, 0, 0, 0, 0, 0, 0, 0, 0, 0, 0, 0, 0,\n",
              "       0, 0, 1, 1, 1, 1, 1, 1, 0, 1, 0, 1, 1, 0, 1, 1, 0, 1, 0, 0, 1, 1,\n",
              "       1, 1, 1, 1, 1, 1, 1, 1, 1, 1, 1, 0, 1, 1, 0, 1, 0, 1, 1, 1, 1, 1,\n",
              "       1, 1, 1, 1, 1, 1, 1, 1, 1, 0, 1, 1, 1, 0, 1, 0, 1, 1, 1, 1, 0, 0,\n",
              "       0, 1, 1, 1, 1, 0, 1, 0, 1, 0, 1, 1, 1, 0, 1, 1, 1, 1, 1, 1, 1, 0,\n",
              "       0, 0, 1, 1, 1, 1, 1, 1, 1, 1, 1, 1, 1, 0, 0, 1, 0, 0, 0, 1, 0, 0,\n",
              "       1, 1, 1, 1, 1, 0, 1, 1, 1, 1, 1, 0, 1, 1, 1, 0, 1, 1, 0, 0, 1, 1,\n",
              "       1, 1, 1, 1, 0, 1, 1, 1, 1, 1, 1, 1, 0, 1, 1, 1, 1, 1, 0, 1, 1, 0,\n",
              "       1, 1, 1, 1, 1, 1, 1, 1, 1, 1, 1, 1, 0, 1, 0, 0, 1, 0, 1, 1, 1, 1,\n",
              "       1, 0, 1, 1, 0, 1, 0, 1, 1, 0, 1, 0, 1, 1, 1, 1, 1, 1, 1, 1, 0, 0,\n",
              "       1, 1, 1, 1, 1, 1, 0, 1, 1, 1, 1, 1, 1, 1, 1, 1, 1, 0, 1, 1, 1, 1,\n",
              "       1, 1, 1, 0, 1, 0, 1, 1, 0, 1, 1, 1, 1, 1, 0, 0, 1, 0, 1, 0, 1, 1,\n",
              "       1, 1, 1, 0, 1, 1, 0, 1, 0, 1, 0, 0, 1, 1, 1, 0, 1, 1, 1, 1, 1, 1,\n",
              "       1, 1, 1, 1, 1, 0, 1, 0, 0, 1, 1, 1, 1, 1, 1, 1, 1, 1, 1, 1, 1, 1,\n",
              "       1, 1, 1, 1, 1, 1, 1, 1, 1, 1, 1, 1, 0, 0, 0, 0, 0, 0, 1])"
            ]
          },
          "metadata": {},
          "execution_count": 11
        }
      ]
    },
    {
      "cell_type": "code",
      "source": [
        "alpha = 3e-4"
      ],
      "metadata": {
        "id": "kUmdmaYqPOdQ"
      },
      "execution_count": null,
      "outputs": []
    },
    {
      "cell_type": "code",
      "source": [
        "X_t = torch.from_numpy(X_train).float()\n",
        "y_t = torch.from_numpy(y_train).float()\n",
        "X_te = torch.from_numpy(X_test).float()\n",
        "y_te = torch.from_numpy(y_test).float()\n",
        "\n",
        "m = X_t.shape[0]\n",
        "n = X_t.shape[1]\n",
        "theta = torch.rand(30).float()\n"
      ],
      "metadata": {
        "id": "1sUw-BK9Pouv"
      },
      "execution_count": null,
      "outputs": []
    },
    {
      "cell_type": "code",
      "source": [
        "theta"
      ],
      "metadata": {
        "colab": {
          "base_uri": "https://localhost:8080/"
        },
        "id": "SknW8jkVBEUC",
        "outputId": "ef6b1832-72de-4208-f09f-9f5b304facc5"
      },
      "execution_count": null,
      "outputs": [
        {
          "output_type": "execute_result",
          "data": {
            "text/plain": [
              "tensor([0.7047, 0.2545, 0.3994, 0.2122, 0.4089, 0.1481, 0.1733, 0.6659, 0.3514,\n",
              "        0.8087, 0.3396, 0.1332, 0.4118, 0.2576, 0.3470, 0.0240, 0.7797, 0.1519,\n",
              "        0.7513, 0.7269, 0.8572, 0.1165, 0.8596, 0.2636, 0.6855, 0.9696, 0.4295,\n",
              "        0.4961, 0.3849, 0.0825])"
            ]
          },
          "metadata": {},
          "execution_count": 21
        }
      ]
    },
    {
      "cell_type": "code",
      "source": [
        "## Parámetros Iniciales\n",
        "theta_init = theta\n",
        "theta_init"
      ],
      "metadata": {
        "colab": {
          "base_uri": "https://localhost:8080/"
        },
        "id": "3u0XURcYW26e",
        "outputId": "794e86fb-7ddb-4314-ba54-de77997f2d4c"
      },
      "execution_count": null,
      "outputs": [
        {
          "output_type": "execute_result",
          "data": {
            "text/plain": [
              "tensor([0.8823, 0.9150, 0.3829, 0.9593, 0.3904, 0.6009, 0.2566, 0.7936, 0.9408,\n",
              "        0.1332, 0.9346, 0.5936, 0.8694, 0.5677, 0.7411, 0.4294, 0.8854, 0.5739,\n",
              "        0.2666, 0.6274, 0.2696, 0.4414, 0.2969, 0.8317, 0.1053, 0.2695, 0.3588,\n",
              "        0.1994, 0.5472, 0.0062])"
            ]
          },
          "metadata": {},
          "execution_count": 4
        }
      ]
    },
    {
      "cell_type": "code",
      "source": [
        "## Vamos a entrenar la Regresión Logística por 1000 epochs\n",
        "\n",
        "epochs = 1000\n",
        "for e in range(epochs):\n",
        "  theta = theta - alpha/m * X_t.T @ (torch.sigmoid(X_t @ theta) - y_t)\n",
        "theta"
      ],
      "metadata": {
        "colab": {
          "base_uri": "https://localhost:8080/"
        },
        "id": "zqZyxhj3QilF",
        "outputId": "6207f936-447b-4112-a6a4-5c5e59afc4f9"
      },
      "execution_count": null,
      "outputs": [
        {
          "output_type": "execute_result",
          "data": {
            "text/plain": [
              "tensor([ 0.9026,  0.8531,  0.4552,  0.1514,  0.3904,  0.5996,  0.2544,  0.7928,\n",
              "         0.9407,  0.1332,  0.9315,  0.5864,  0.8410,  0.0941,  0.7411,  0.4290,\n",
              "         0.8849,  0.5738,  0.2664,  0.6274,  0.2897,  0.3517,  0.3309, -0.2771,\n",
              "         0.1051,  0.2656,  0.3538,  0.1980,  0.5466,  0.0059])"
            ]
          },
          "metadata": {},
          "execution_count": 5
        }
      ]
    },
    {
      "cell_type": "code",
      "source": [
        "## Transformar probabilidades a clases\n",
        "def predict(X_te, theta):\n",
        "  p = torch.sigmoid(X_te @ theta).numpy()\n",
        "  y_pred = np.where(p >=0.5, 1, 0)\n",
        "  return y_pred\n",
        "\n",
        "y_pred = predict(X_te, theta)\n",
        "print(\"Accuracy Score: \", accuracy_score(y_test, y_pred))"
      ],
      "metadata": {
        "colab": {
          "base_uri": "https://localhost:8080/"
        },
        "id": "4SiuzxqARR_3",
        "outputId": "3d675839-2aaa-42d1-b357-5bbb53790a95"
      },
      "execution_count": null,
      "outputs": [
        {
          "output_type": "stream",
          "name": "stdout",
          "text": [
            "Accuracy Score:  0.9300699300699301\n"
          ]
        }
      ]
    },
    {
      "cell_type": "markdown",
      "source": [
        "## Implementación en Pytorch usando `nn.Module`"
      ],
      "metadata": {
        "id": "fL9FMf1WabeF"
      }
    },
    {
      "cell_type": "code",
      "source": [
        "class LogReg(nn.Module):\n",
        "  def __init__(self,n):\n",
        "    super().__init__()\n",
        "    self.fc = nn.Linear(n, 1, bias = False)\n",
        "    self.fc.weight.data = theta_init.reshape(1,-1)\n",
        "\n",
        "  def forward(self, x):\n",
        "    x = self.fc(x)\n",
        "    return x\n",
        "\n",
        "model = LogReg(n)\n",
        "optimizer = torch.optim.SGD(model.parameters(), lr = alpha)\n",
        "criterion = nn.BCEWithLogitsLoss()\n",
        "\n",
        "loss_history = []\n",
        "for e in range(epochs):\n",
        "  model.train()\n",
        "  optimizer.zero_grad()\n",
        "  logits = model(X_t)\n",
        "  loss = criterion(logits, y_t.unsqueeze(-1))\n",
        "  loss.backward()\n",
        "  optimizer.step()\n",
        "  loss_history.append(loss.item())\n",
        "\n",
        "def predict_pytorch(X_te):\n",
        "  ## Se debe colocar el modelo en Modo Evaluación\n",
        "  model.eval()\n",
        "  with torch.no_grad():\n",
        "    p = model(X_te).detach().numpy()\n",
        "  y_pred = np.where(p >=0.5, 1, 0)\n",
        "  return y_pred\n",
        "\n",
        "y_pred = predict_pytorch(X_te)\n",
        "print(\"Accuracy Score: \", accuracy_score(y_test, y_pred))"
      ],
      "metadata": {
        "colab": {
          "base_uri": "https://localhost:8080/"
        },
        "id": "81CfdE0dadqs",
        "outputId": "d0f80c1e-f693-46a1-94d8-8d865fa6aea0"
      },
      "execution_count": null,
      "outputs": [
        {
          "output_type": "stream",
          "name": "stdout",
          "text": [
            "Accuracy Score:  0.9300699300699301\n"
          ]
        }
      ]
    },
    {
      "cell_type": "code",
      "source": [
        "## Los pesos obtenidos por Pytorch son idénticos a los obtenidos de manera teórica.\n",
        "model.fc.weight.data"
      ],
      "metadata": {
        "colab": {
          "base_uri": "https://localhost:8080/"
        },
        "id": "seS70POpa81L",
        "outputId": "e3edde19-8cd1-40ad-fea6-ef3792a9132a"
      },
      "execution_count": null,
      "outputs": [
        {
          "output_type": "execute_result",
          "data": {
            "text/plain": [
              "tensor([[ 0.9028,  0.8534,  0.4561,  0.1524,  0.3904,  0.5996,  0.2544,  0.7928,\n",
              "          0.9407,  0.1332,  0.9315,  0.5864,  0.8410,  0.0932,  0.7411,  0.4290,\n",
              "          0.8849,  0.5738,  0.2664,  0.6274,  0.2898,  0.3521,  0.3317, -0.2781,\n",
              "          0.1051,  0.2656,  0.3538,  0.1980,  0.5466,  0.0060]])"
            ]
          },
          "metadata": {},
          "execution_count": 8
        }
      ]
    }
  ]
}